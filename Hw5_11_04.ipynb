{
 "cells": [
  {
   "cell_type": "code",
   "execution_count": 1,
   "metadata": {},
   "outputs": [],
   "source": [
    "import pandas as pd\n",
    "import numpy as np\n",
    "import seaborn as sns\n",
    "import matplotlib.pyplot as plt\n",
    "from sklearn.model_selection import train_test_split\n",
    "from sklearn.svm import SVC\n",
    "from sklearn.preprocessing import StandardScaler\n",
    "from sklearn.ensemble import RandomForestClassifier\n",
    "from sklearn.metrics import confusion_matrix"
   ]
  },
  {
   "cell_type": "markdown",
   "metadata": {},
   "source": [
    "# Збір даних\n",
    "\n",
    "Перш за все, потрібно зібрати дані з акселерометра мобільного телефону.\n",
    "<center><img src=\"image.png\"/></center>\n"
   ]
  },
  {
   "cell_type": "code",
   "execution_count": 2,
   "metadata": {},
   "outputs": [
    {
     "data": {
      "text/html": [
       "<div>\n",
       "<style scoped>\n",
       "    .dataframe tbody tr th:only-of-type {\n",
       "        vertical-align: middle;\n",
       "    }\n",
       "\n",
       "    .dataframe tbody tr th {\n",
       "        vertical-align: top;\n",
       "    }\n",
       "\n",
       "    .dataframe thead th {\n",
       "        text-align: right;\n",
       "    }\n",
       "</style>\n",
       "<table border=\"1\" class=\"dataframe\">\n",
       "  <thead>\n",
       "    <tr style=\"text-align: right;\">\n",
       "      <th></th>\n",
       "      <th>accelerometer_X</th>\n",
       "      <th>accelerometer_Y</th>\n",
       "      <th>accelerometer_Z</th>\n",
       "      <th>activity</th>\n",
       "    </tr>\n",
       "  </thead>\n",
       "  <tbody>\n",
       "    <tr>\n",
       "      <th>0</th>\n",
       "      <td>1.000776</td>\n",
       "      <td>4.616021</td>\n",
       "      <td>8.576031</td>\n",
       "      <td>idle</td>\n",
       "    </tr>\n",
       "    <tr>\n",
       "      <th>1</th>\n",
       "      <td>0.718261</td>\n",
       "      <td>4.209007</td>\n",
       "      <td>8.446744</td>\n",
       "      <td>idle</td>\n",
       "    </tr>\n",
       "    <tr>\n",
       "      <th>2</th>\n",
       "      <td>-0.909797</td>\n",
       "      <td>-0.282516</td>\n",
       "      <td>9.203311</td>\n",
       "      <td>idle</td>\n",
       "    </tr>\n",
       "    <tr>\n",
       "      <th>3</th>\n",
       "      <td>5.099650</td>\n",
       "      <td>0.148441</td>\n",
       "      <td>8.418014</td>\n",
       "      <td>idle</td>\n",
       "    </tr>\n",
       "    <tr>\n",
       "      <th>4</th>\n",
       "      <td>1.762132</td>\n",
       "      <td>-0.162806</td>\n",
       "      <td>9.251195</td>\n",
       "      <td>idle</td>\n",
       "    </tr>\n",
       "    <tr>\n",
       "      <th>...</th>\n",
       "      <td>...</td>\n",
       "      <td>...</td>\n",
       "      <td>...</td>\n",
       "      <td>...</td>\n",
       "    </tr>\n",
       "    <tr>\n",
       "      <th>193855</th>\n",
       "      <td>5.109226</td>\n",
       "      <td>-15.452178</td>\n",
       "      <td>-1.470040</td>\n",
       "      <td>walking</td>\n",
       "    </tr>\n",
       "    <tr>\n",
       "      <th>193856</th>\n",
       "      <td>6.373365</td>\n",
       "      <td>-11.741165</td>\n",
       "      <td>-8.226476</td>\n",
       "      <td>walking</td>\n",
       "    </tr>\n",
       "    <tr>\n",
       "      <th>193857</th>\n",
       "      <td>3.289633</td>\n",
       "      <td>-9.993398</td>\n",
       "      <td>-0.383072</td>\n",
       "      <td>walking</td>\n",
       "    </tr>\n",
       "    <tr>\n",
       "      <th>193858</th>\n",
       "      <td>-2.978387</td>\n",
       "      <td>-3.050213</td>\n",
       "      <td>1.273715</td>\n",
       "      <td>walking</td>\n",
       "    </tr>\n",
       "    <tr>\n",
       "      <th>193859</th>\n",
       "      <td>-4.347870</td>\n",
       "      <td>-9.926360</td>\n",
       "      <td>-1.642422</td>\n",
       "      <td>walking</td>\n",
       "    </tr>\n",
       "  </tbody>\n",
       "</table>\n",
       "<p>193860 rows × 4 columns</p>\n",
       "</div>"
      ],
      "text/plain": [
       "        accelerometer_X  accelerometer_Y  accelerometer_Z activity\n",
       "0              1.000776         4.616021         8.576031     idle\n",
       "1              0.718261         4.209007         8.446744     idle\n",
       "2             -0.909797        -0.282516         9.203311     idle\n",
       "3              5.099650         0.148441         8.418014     idle\n",
       "4              1.762132        -0.162806         9.251195     idle\n",
       "...                 ...              ...              ...      ...\n",
       "193855         5.109226       -15.452178        -1.470040  walking\n",
       "193856         6.373365       -11.741165        -8.226476  walking\n",
       "193857         3.289633        -9.993398        -0.383072  walking\n",
       "193858        -2.978387        -3.050213         1.273715  walking\n",
       "193859        -4.347870        -9.926360        -1.642422  walking\n",
       "\n",
       "[193860 rows x 4 columns]"
      ]
     },
     "execution_count": 2,
     "metadata": {},
     "output_type": "execute_result"
    }
   ],
   "source": [
    "from pathlib import Path\n",
    "activities = ['idle', 'running', 'stairs', 'walking']\n",
    "data_collections = []\n",
    "\n",
    "for index, activity in enumerate(activities, start=1):\n",
    "    activity_path = Path('data') / activity  \n",
    "    csv_files = list(activity_path.glob('*.csv'))  \n",
    "    df = pd.concat((pd.read_csv(file) for file in csv_files), ignore_index=True)\n",
    "    df['activity'] = activity\n",
    "    data_collections.append(df)\n",
    "\n",
    "data = pd.concat(data_collections, ignore_index=True)\n",
    "data"
   ]
  },
  {
   "cell_type": "markdown",
   "metadata": {},
   "source": [
    "# Тренування на вихідних нормалізованих данних\n",
    "\n",
    "В якості характеристик візьмемо показники з акселерометра"
   ]
  },
  {
   "cell_type": "code",
   "execution_count": 3,
   "metadata": {},
   "outputs": [],
   "source": [
    "features = ['accelerometer_X', 'accelerometer_Y', 'accelerometer_Z']"
   ]
  },
  {
   "cell_type": "markdown",
   "metadata": {},
   "source": [
    "## Нормалізація даних\n",
    "\n",
    "Тренування на ненормаліованих даних займає чимало часу. Вхідні дані нормалізуються так, щоб їхнє середнє значення дорівнювало нулю, а стандартне відхилення - одиниці. "
   ]
  },
  {
   "cell_type": "code",
   "execution_count": 4,
   "metadata": {},
   "outputs": [
    {
     "data": {
      "text/html": [
       "<div>\n",
       "<style scoped>\n",
       "    .dataframe tbody tr th:only-of-type {\n",
       "        vertical-align: middle;\n",
       "    }\n",
       "\n",
       "    .dataframe tbody tr th {\n",
       "        vertical-align: top;\n",
       "    }\n",
       "\n",
       "    .dataframe thead th {\n",
       "        text-align: right;\n",
       "    }\n",
       "</style>\n",
       "<table border=\"1\" class=\"dataframe\">\n",
       "  <thead>\n",
       "    <tr style=\"text-align: right;\">\n",
       "      <th></th>\n",
       "      <th>accelerometer_X</th>\n",
       "      <th>accelerometer_Y</th>\n",
       "      <th>accelerometer_Z</th>\n",
       "      <th>activity</th>\n",
       "    </tr>\n",
       "  </thead>\n",
       "  <tbody>\n",
       "    <tr>\n",
       "      <th>0</th>\n",
       "      <td>-0.109791</td>\n",
       "      <td>0.241917</td>\n",
       "      <td>0.941538</td>\n",
       "      <td>idle</td>\n",
       "    </tr>\n",
       "    <tr>\n",
       "      <th>1</th>\n",
       "      <td>-0.143404</td>\n",
       "      <td>0.209288</td>\n",
       "      <td>0.923560</td>\n",
       "      <td>idle</td>\n",
       "    </tr>\n",
       "    <tr>\n",
       "      <th>2</th>\n",
       "      <td>-0.337109</td>\n",
       "      <td>-0.150782</td>\n",
       "      <td>1.028762</td>\n",
       "      <td>idle</td>\n",
       "    </tr>\n",
       "    <tr>\n",
       "      <th>3</th>\n",
       "      <td>0.377889</td>\n",
       "      <td>-0.116234</td>\n",
       "      <td>0.919565</td>\n",
       "      <td>idle</td>\n",
       "    </tr>\n",
       "    <tr>\n",
       "      <th>4</th>\n",
       "      <td>-0.019205</td>\n",
       "      <td>-0.141185</td>\n",
       "      <td>1.035420</td>\n",
       "      <td>idle</td>\n",
       "    </tr>\n",
       "    <tr>\n",
       "      <th>...</th>\n",
       "      <td>...</td>\n",
       "      <td>...</td>\n",
       "      <td>...</td>\n",
       "      <td>...</td>\n",
       "    </tr>\n",
       "    <tr>\n",
       "      <th>193855</th>\n",
       "      <td>0.379029</td>\n",
       "      <td>-1.366884</td>\n",
       "      <td>-0.455385</td>\n",
       "      <td>walking</td>\n",
       "    </tr>\n",
       "    <tr>\n",
       "      <th>193856</th>\n",
       "      <td>0.529435</td>\n",
       "      <td>-1.069384</td>\n",
       "      <td>-1.394879</td>\n",
       "      <td>walking</td>\n",
       "    </tr>\n",
       "    <tr>\n",
       "      <th>193857</th>\n",
       "      <td>0.162535</td>\n",
       "      <td>-0.929271</td>\n",
       "      <td>-0.304241</td>\n",
       "      <td>walking</td>\n",
       "    </tr>\n",
       "    <tr>\n",
       "      <th>193858</th>\n",
       "      <td>-0.583227</td>\n",
       "      <td>-0.372659</td>\n",
       "      <td>-0.073862</td>\n",
       "      <td>walking</td>\n",
       "    </tr>\n",
       "    <tr>\n",
       "      <th>193859</th>\n",
       "      <td>-0.746167</td>\n",
       "      <td>-0.923897</td>\n",
       "      <td>-0.479355</td>\n",
       "      <td>walking</td>\n",
       "    </tr>\n",
       "  </tbody>\n",
       "</table>\n",
       "<p>193860 rows × 4 columns</p>\n",
       "</div>"
      ],
      "text/plain": [
       "        accelerometer_X  accelerometer_Y  accelerometer_Z activity\n",
       "0             -0.109791         0.241917         0.941538     idle\n",
       "1             -0.143404         0.209288         0.923560     idle\n",
       "2             -0.337109        -0.150782         1.028762     idle\n",
       "3              0.377889        -0.116234         0.919565     idle\n",
       "4             -0.019205        -0.141185         1.035420     idle\n",
       "...                 ...              ...              ...      ...\n",
       "193855         0.379029        -1.366884        -0.455385  walking\n",
       "193856         0.529435        -1.069384        -1.394879  walking\n",
       "193857         0.162535        -0.929271        -0.304241  walking\n",
       "193858        -0.583227        -0.372659        -0.073862  walking\n",
       "193859        -0.746167        -0.923897        -0.479355  walking\n",
       "\n",
       "[193860 rows x 4 columns]"
      ]
     },
     "execution_count": 4,
     "metadata": {},
     "output_type": "execute_result"
    }
   ],
   "source": [
    "scaler = StandardScaler()\n",
    "\n",
    "data_to_normalize = data[features]\n",
    "\n",
    "# Нормалізація даних\n",
    "normalized_data = scaler.fit_transform(data_to_normalize)\n",
    "\n",
    "# Заміна вихідних даних нормалізованими даними\n",
    "ndata = data.copy()\n",
    "ndata[features] = normalized_data\n",
    "ndata"
   ]
  },
  {
   "cell_type": "markdown",
   "metadata": {},
   "source": [
    "## Розділяємо дані\n",
    "\n",
    "Розділяємо датасет на навчальний і тестовий набори"
   ]
  },
  {
   "cell_type": "code",
   "execution_count": 5,
   "metadata": {},
   "outputs": [],
   "source": [
    "X_train, X_test, y_train, y_test = train_test_split(\n",
    "    data[features], data[\"activity\"],\n",
    "    test_size=0.3,\n",
    "    stratify=ndata[\"activity\"],\n",
    ")"
   ]
  },
  {
   "cell_type": "markdown",
   "metadata": {},
   "source": [
    "## Навчаємо за допомогою алгоритму SVM"
   ]
  },
  {
   "cell_type": "code",
   "execution_count": 6,
   "metadata": {},
   "outputs": [
    {
     "name": "stdout",
     "output_type": "stream",
     "text": [
      "CPU times: total: 4min 16s\n",
      "Wall time: 4min 19s\n"
     ]
    },
    {
     "data": {
      "text/html": [
       "<style>#sk-container-id-1 {color: black;background-color: white;}#sk-container-id-1 pre{padding: 0;}#sk-container-id-1 div.sk-toggleable {background-color: white;}#sk-container-id-1 label.sk-toggleable__label {cursor: pointer;display: block;width: 100%;margin-bottom: 0;padding: 0.3em;box-sizing: border-box;text-align: center;}#sk-container-id-1 label.sk-toggleable__label-arrow:before {content: \"▸\";float: left;margin-right: 0.25em;color: #696969;}#sk-container-id-1 label.sk-toggleable__label-arrow:hover:before {color: black;}#sk-container-id-1 div.sk-estimator:hover label.sk-toggleable__label-arrow:before {color: black;}#sk-container-id-1 div.sk-toggleable__content {max-height: 0;max-width: 0;overflow: hidden;text-align: left;background-color: #f0f8ff;}#sk-container-id-1 div.sk-toggleable__content pre {margin: 0.2em;color: black;border-radius: 0.25em;background-color: #f0f8ff;}#sk-container-id-1 input.sk-toggleable__control:checked~div.sk-toggleable__content {max-height: 200px;max-width: 100%;overflow: auto;}#sk-container-id-1 input.sk-toggleable__control:checked~label.sk-toggleable__label-arrow:before {content: \"▾\";}#sk-container-id-1 div.sk-estimator input.sk-toggleable__control:checked~label.sk-toggleable__label {background-color: #d4ebff;}#sk-container-id-1 div.sk-label input.sk-toggleable__control:checked~label.sk-toggleable__label {background-color: #d4ebff;}#sk-container-id-1 input.sk-hidden--visually {border: 0;clip: rect(1px 1px 1px 1px);clip: rect(1px, 1px, 1px, 1px);height: 1px;margin: -1px;overflow: hidden;padding: 0;position: absolute;width: 1px;}#sk-container-id-1 div.sk-estimator {font-family: monospace;background-color: #f0f8ff;border: 1px dotted black;border-radius: 0.25em;box-sizing: border-box;margin-bottom: 0.5em;}#sk-container-id-1 div.sk-estimator:hover {background-color: #d4ebff;}#sk-container-id-1 div.sk-parallel-item::after {content: \"\";width: 100%;border-bottom: 1px solid gray;flex-grow: 1;}#sk-container-id-1 div.sk-label:hover label.sk-toggleable__label {background-color: #d4ebff;}#sk-container-id-1 div.sk-serial::before {content: \"\";position: absolute;border-left: 1px solid gray;box-sizing: border-box;top: 0;bottom: 0;left: 50%;z-index: 0;}#sk-container-id-1 div.sk-serial {display: flex;flex-direction: column;align-items: center;background-color: white;padding-right: 0.2em;padding-left: 0.2em;position: relative;}#sk-container-id-1 div.sk-item {position: relative;z-index: 1;}#sk-container-id-1 div.sk-parallel {display: flex;align-items: stretch;justify-content: center;background-color: white;position: relative;}#sk-container-id-1 div.sk-item::before, #sk-container-id-1 div.sk-parallel-item::before {content: \"\";position: absolute;border-left: 1px solid gray;box-sizing: border-box;top: 0;bottom: 0;left: 50%;z-index: -1;}#sk-container-id-1 div.sk-parallel-item {display: flex;flex-direction: column;z-index: 1;position: relative;background-color: white;}#sk-container-id-1 div.sk-parallel-item:first-child::after {align-self: flex-end;width: 50%;}#sk-container-id-1 div.sk-parallel-item:last-child::after {align-self: flex-start;width: 50%;}#sk-container-id-1 div.sk-parallel-item:only-child::after {width: 0;}#sk-container-id-1 div.sk-dashed-wrapped {border: 1px dashed gray;margin: 0 0.4em 0.5em 0.4em;box-sizing: border-box;padding-bottom: 0.4em;background-color: white;}#sk-container-id-1 div.sk-label label {font-family: monospace;font-weight: bold;display: inline-block;line-height: 1.2em;}#sk-container-id-1 div.sk-label-container {text-align: center;}#sk-container-id-1 div.sk-container {/* jupyter's `normalize.less` sets `[hidden] { display: none; }` but bootstrap.min.css set `[hidden] { display: none !important; }` so we also need the `!important` here to be able to override the default hidden behavior on the sphinx rendered scikit-learn.org. See: https://github.com/scikit-learn/scikit-learn/issues/21755 */display: inline-block !important;position: relative;}#sk-container-id-1 div.sk-text-repr-fallback {display: none;}</style><div id=\"sk-container-id-1\" class=\"sk-top-container\"><div class=\"sk-text-repr-fallback\"><pre>SVC()</pre><b>In a Jupyter environment, please rerun this cell to show the HTML representation or trust the notebook. <br />On GitHub, the HTML representation is unable to render, please try loading this page with nbviewer.org.</b></div><div class=\"sk-container\" hidden><div class=\"sk-item\"><div class=\"sk-estimator sk-toggleable\"><input class=\"sk-toggleable__control sk-hidden--visually\" id=\"sk-estimator-id-1\" type=\"checkbox\" checked><label for=\"sk-estimator-id-1\" class=\"sk-toggleable__label sk-toggleable__label-arrow\">SVC</label><div class=\"sk-toggleable__content\"><pre>SVC()</pre></div></div></div></div></div>"
      ],
      "text/plain": [
       "SVC()"
      ]
     },
     "execution_count": 6,
     "metadata": {},
     "output_type": "execute_result"
    }
   ],
   "source": [
    "%%time\n",
    "\n",
    "model_svm = SVC()\n",
    "model_svm.fit(X_train, y_train)"
   ]
  },
  {
   "cell_type": "markdown",
   "metadata": {},
   "source": [
    "## Навчаємо за допомогою алгоритму випадкового лісу"
   ]
  },
  {
   "cell_type": "code",
   "execution_count": 7,
   "metadata": {},
   "outputs": [
    {
     "name": "stdout",
     "output_type": "stream",
     "text": [
      "CPU times: total: 11.9 s\n",
      "Wall time: 12 s\n"
     ]
    },
    {
     "data": {
      "text/html": [
       "<style>#sk-container-id-2 {color: black;background-color: white;}#sk-container-id-2 pre{padding: 0;}#sk-container-id-2 div.sk-toggleable {background-color: white;}#sk-container-id-2 label.sk-toggleable__label {cursor: pointer;display: block;width: 100%;margin-bottom: 0;padding: 0.3em;box-sizing: border-box;text-align: center;}#sk-container-id-2 label.sk-toggleable__label-arrow:before {content: \"▸\";float: left;margin-right: 0.25em;color: #696969;}#sk-container-id-2 label.sk-toggleable__label-arrow:hover:before {color: black;}#sk-container-id-2 div.sk-estimator:hover label.sk-toggleable__label-arrow:before {color: black;}#sk-container-id-2 div.sk-toggleable__content {max-height: 0;max-width: 0;overflow: hidden;text-align: left;background-color: #f0f8ff;}#sk-container-id-2 div.sk-toggleable__content pre {margin: 0.2em;color: black;border-radius: 0.25em;background-color: #f0f8ff;}#sk-container-id-2 input.sk-toggleable__control:checked~div.sk-toggleable__content {max-height: 200px;max-width: 100%;overflow: auto;}#sk-container-id-2 input.sk-toggleable__control:checked~label.sk-toggleable__label-arrow:before {content: \"▾\";}#sk-container-id-2 div.sk-estimator input.sk-toggleable__control:checked~label.sk-toggleable__label {background-color: #d4ebff;}#sk-container-id-2 div.sk-label input.sk-toggleable__control:checked~label.sk-toggleable__label {background-color: #d4ebff;}#sk-container-id-2 input.sk-hidden--visually {border: 0;clip: rect(1px 1px 1px 1px);clip: rect(1px, 1px, 1px, 1px);height: 1px;margin: -1px;overflow: hidden;padding: 0;position: absolute;width: 1px;}#sk-container-id-2 div.sk-estimator {font-family: monospace;background-color: #f0f8ff;border: 1px dotted black;border-radius: 0.25em;box-sizing: border-box;margin-bottom: 0.5em;}#sk-container-id-2 div.sk-estimator:hover {background-color: #d4ebff;}#sk-container-id-2 div.sk-parallel-item::after {content: \"\";width: 100%;border-bottom: 1px solid gray;flex-grow: 1;}#sk-container-id-2 div.sk-label:hover label.sk-toggleable__label {background-color: #d4ebff;}#sk-container-id-2 div.sk-serial::before {content: \"\";position: absolute;border-left: 1px solid gray;box-sizing: border-box;top: 0;bottom: 0;left: 50%;z-index: 0;}#sk-container-id-2 div.sk-serial {display: flex;flex-direction: column;align-items: center;background-color: white;padding-right: 0.2em;padding-left: 0.2em;position: relative;}#sk-container-id-2 div.sk-item {position: relative;z-index: 1;}#sk-container-id-2 div.sk-parallel {display: flex;align-items: stretch;justify-content: center;background-color: white;position: relative;}#sk-container-id-2 div.sk-item::before, #sk-container-id-2 div.sk-parallel-item::before {content: \"\";position: absolute;border-left: 1px solid gray;box-sizing: border-box;top: 0;bottom: 0;left: 50%;z-index: -1;}#sk-container-id-2 div.sk-parallel-item {display: flex;flex-direction: column;z-index: 1;position: relative;background-color: white;}#sk-container-id-2 div.sk-parallel-item:first-child::after {align-self: flex-end;width: 50%;}#sk-container-id-2 div.sk-parallel-item:last-child::after {align-self: flex-start;width: 50%;}#sk-container-id-2 div.sk-parallel-item:only-child::after {width: 0;}#sk-container-id-2 div.sk-dashed-wrapped {border: 1px dashed gray;margin: 0 0.4em 0.5em 0.4em;box-sizing: border-box;padding-bottom: 0.4em;background-color: white;}#sk-container-id-2 div.sk-label label {font-family: monospace;font-weight: bold;display: inline-block;line-height: 1.2em;}#sk-container-id-2 div.sk-label-container {text-align: center;}#sk-container-id-2 div.sk-container {/* jupyter's `normalize.less` sets `[hidden] { display: none; }` but bootstrap.min.css set `[hidden] { display: none !important; }` so we also need the `!important` here to be able to override the default hidden behavior on the sphinx rendered scikit-learn.org. See: https://github.com/scikit-learn/scikit-learn/issues/21755 */display: inline-block !important;position: relative;}#sk-container-id-2 div.sk-text-repr-fallback {display: none;}</style><div id=\"sk-container-id-2\" class=\"sk-top-container\"><div class=\"sk-text-repr-fallback\"><pre>RandomForestClassifier()</pre><b>In a Jupyter environment, please rerun this cell to show the HTML representation or trust the notebook. <br />On GitHub, the HTML representation is unable to render, please try loading this page with nbviewer.org.</b></div><div class=\"sk-container\" hidden><div class=\"sk-item\"><div class=\"sk-estimator sk-toggleable\"><input class=\"sk-toggleable__control sk-hidden--visually\" id=\"sk-estimator-id-2\" type=\"checkbox\" checked><label for=\"sk-estimator-id-2\" class=\"sk-toggleable__label sk-toggleable__label-arrow\">RandomForestClassifier</label><div class=\"sk-toggleable__content\"><pre>RandomForestClassifier()</pre></div></div></div></div></div>"
      ],
      "text/plain": [
       "RandomForestClassifier()"
      ]
     },
     "execution_count": 7,
     "metadata": {},
     "output_type": "execute_result"
    }
   ],
   "source": [
    "%%time\n",
    "\n",
    "model_rf = RandomForestClassifier(n_estimators=100)\n",
    "model_rf.fit(X_train, y_train)"
   ]
  },
  {
   "cell_type": "markdown",
   "metadata": {},
   "source": [
    "## Порівнюємо точність результатів\n",
    "\n",
    "Визначаємо точність моделей на тестовому наборі та порівнюємо"
   ]
  },
  {
   "cell_type": "code",
   "execution_count": 8,
   "metadata": {},
   "outputs": [
    {
     "name": "stdout",
     "output_type": "stream",
     "text": [
      "Точність моделі SVM: 0.894\n",
      "Точність моделі випадкового лісу: 1.000\n"
     ]
    }
   ],
   "source": [
    "score_svm = model_svm.score(X_test, y_test)\n",
    "score_rf = model_rf.score(X_test, y_test)\n",
    "\n",
    "print(f\"Точність моделі SVM: {score_svm:.3f}\")\n",
    "print(f\"Точність моделі випадкового лісу: {score_rf:.3f}\")"
   ]
  },
  {
   "cell_type": "markdown",
   "metadata": {},
   "source": [
    "## Пргнозування"
   ]
  },
  {
   "cell_type": "code",
   "execution_count": 9,
   "metadata": {},
   "outputs": [],
   "source": [
    "y_predicted_svm = model_svm.predict(X_test)\n",
    "y_predicted_rf = model_rf.predict(X_test)"
   ]
  },
  {
   "cell_type": "markdown",
   "metadata": {},
   "source": [
    "Побудуємо матрицю помилок (`confusion matrix`). \n",
    "\n",
    "Матрицю помилок - це таблиця, яку використовують для оцінювання продуктивності класифікаційної моделі. Вона дає змогу порівняти фактичні та передбачені класифікатором мітки для кожного об'єкта в тестовій вибірці."
   ]
  },
  {
   "cell_type": "code",
   "execution_count": 10,
   "metadata": {},
   "outputs": [],
   "source": [
    "conf_matrix_svm = confusion_matrix(y_test, y_predicted_svm)\n",
    "conf_matrix_rf = confusion_matrix(y_test, y_predicted_rf)"
   ]
  },
  {
   "cell_type": "code",
   "execution_count": 11,
   "metadata": {},
   "outputs": [
    {
     "data": {
      "image/png": "[encoded data removed]",
      "text/plain": [
       "<Figure size 1000x400 with 4 Axes>"
      ]
     },
     "metadata": {},
     "output_type": "display_data"
    }
   ],
   "source": [
    "fig, axes = plt.subplots(1, 2, figsize=(10, 4))\n",
    "\n",
    "classifiers = [\"SVM\", \"Random Forest\"]\n",
    "confusion_matrices = [conf_matrix_svm, conf_matrix_rf]\n",
    "\n",
    "for i, classifier in enumerate(classifiers):\n",
    "    sns.heatmap(\n",
    "        confusion_matrices[i],\n",
    "        annot=True,\n",
    "        fmt='d',\n",
    "        cmap='Reds',\n",
    "        xticklabels=activities,\n",
    "        yticklabels=activities,\n",
    "        ax=axes[i],\n",
    "    )\n",
    "    axes[i].set_title(f\"Confusion Matrix for {classifier} Classifier\")\n",
    "    axes[i].set_xlabel(\"Predicted activity\")\n",
    "    axes[i].set_ylabel(\"True activity\")\n",
    "\n",
    "plt.tight_layout()\n",
    "\n",
    "plt.show()"
   ]
  },
  {
   "cell_type": "markdown",
   "metadata": {},
   "source": [
    "# Тренування на підготовленних даних"
   ]
  },
  {
   "cell_type": "markdown",
   "metadata": {},
   "source": [
    "## Вибираємо ознаки\n",
    "\n",
    "В [статті](https://www.sciencedirect.com/science/article/pii/S1877050916322153) [1] пропонується обрати наступні часові ознаки (таблиця 3). Як пишуть автори, їхні результати показують, що найбільш репрезентативні ознаки отримані з часового представлення сигналу акселерометра. Ознаки, витягнуті з сигналів по осях $x$ і $y$ є більш релевантними, ніж ознаки по осі $z$ при визначенні активності. \n",
    "\n",
    "| Name                          | Axis |\n",
    "| ----------------------------- | ---- |\n",
    "| Maximum Value                 |   x  |\n",
    "| Minimum Value                 |   x  |\n",
    "| Entropy                       |   x  |\n",
    "| Interquartile Range           |   x  |\n",
    "| Maximum Value                 |   y  |\n",
    "| Index of Minimum Value        |   y  |\n",
    "| Mean of Absolute Deviation    |   y  |\n",
    "| Median                        |   y  |\n",
    "| Skewness                      |   y  |\n",
    "| Standard Deviation            |   y  |\n",
    "| Root Mean Square Error        |   y  |\n",
    "| Skewness                      |   z  |"
   ]
  },
  {
   "cell_type": "markdown",
   "metadata": {},
   "source": [
    "## Створення необхідних функцій"
   ]
  },
  {
   "cell_type": "code",
   "execution_count": 12,
   "metadata": {},
   "outputs": [],
   "source": [
    "def iqr(data):\n",
    "    \"\"\"Calculates the interquartile range (IQR) of a dataset.\n",
    "\n",
    "    The IQR is the difference between the 75th and 25th percentiles of the data,\n",
    "    and is a measure of the spread of the middle 50% of the data.\n",
    "\n",
    "    Args:\n",
    "        data: A NumPy array or Pandas Series containing the data.\n",
    "\n",
    "    Returns:\n",
    "        The IQR of the data.\n",
    "    \"\"\"\n",
    "    sorted_data = np.sort(data)\n",
    "    \n",
    "    Q1 = np.percentile(sorted_data, 25)\n",
    "    Q3 = np.percentile(sorted_data, 75)\n",
    "    \n",
    "    IQR = Q3 - Q1\n",
    "    \n",
    "    return IQR\n",
    "  \n",
    "def argmin(data):\n",
    "    \"\"\"Returns the index of the minimum value in a dataset.\n",
    "\n",
    "    Args:\n",
    "        data: A NumPy array or Pandas Series containing the data.\n",
    "\n",
    "    Returns:\n",
    "        The index of the minimum value in the data.\n",
    "    \"\"\"\n",
    "    return np.argmin(data)\n",
    "\n",
    "def entropy(column_data):\n",
    "    \"\"\"Calculates the entropy of a column of data.\n",
    "\n",
    "    Entropy is a measure of uncertainty or randomness in a set of data. It is calculated as follows:\n",
    "\n",
    "    ```\n",
    "    H = -sum(pk * log2(pk))\n",
    "    ```\n",
    "\n",
    "    where pk is the probability of each value in the data set.\n",
    "\n",
    "    Args:\n",
    "        column_data: A NumPy array or Pandas Series containing the data.\n",
    "\n",
    "    Returns:\n",
    "        The entropy of the data.\n",
    "    \"\"\"\n",
    "    \n",
    "    hist, bins = np.histogram(column_data, bins='auto')\n",
    "    probs = hist / len(column_data)\n",
    "\n",
    "    probs = probs[probs > 0]\n",
    "\n",
    "    entropy = -np.sum(probs * np.log2(probs))\n",
    "\n",
    "    return entropy\n",
    "\n",
    "def mad(data):\n",
    "    \"\"\"Calculates the median absolute deviation (MAD) of a dataset.\n",
    "\n",
    "    The MAD is a measure of the spread of the data, and is calculated as the median of the absolute deviations from the median. It is a more robust measure of spread than the standard deviation, as it is less sensitive to outliers.\n",
    "\n",
    "    Args:\n",
    "        data: A NumPy array or Pandas Series containing the data.\n",
    "\n",
    "    Returns:\n",
    "        The MAD of the data.\n",
    "    \"\"\"\n",
    "    mean = np.mean(data)\n",
    "    \n",
    "    absolute_deviations = np.abs(data - mean)\n",
    "    \n",
    "    mad = np.mean(absolute_deviations)\n",
    "    \n",
    "    return mad\n",
    "\n",
    "def rmse(data):\n",
    "    \"\"\"Calculates the root mean square error (RMSE) of a dataset.\n",
    "\n",
    "    The RMSE is a measure of the average difference between the actual values in the dataset and the predicted values. It is calculated as follows:\n",
    "\n",
    "    ```\n",
    "    RMSE = sqrt(mean((y_true - y_pred)**2))\n",
    "    \n",
    "\n",
    "    where:\n",
    "\n",
    "    * `y_true` is the actual values in the dataset\n",
    "    * `y_pred` is the predicted values\n",
    "\n",
    "    The RMSE is a good measure of fit for regression models, and is often used to evaluate the performance of a model on a held-out test set.\n",
    "\n",
    "    Args:\n",
    "        data: A NumPy array or Pandas Series containing the data.\n",
    "\n",
    "    Returns:\n",
    "        The RMSE of the data.\n",
    "    \"\"\"\n",
    "    \n",
    "    mean = np.mean(data)\n",
    "    \n",
    "    squared_errors = [(x - mean) ** 2 for x in data]\n",
    "    \n",
    "    rmse = np.sqrt(np.mean(squared_errors))\n",
    "    \n",
    "    return rmse"
   ]
  },
  {
   "cell_type": "markdown",
   "metadata": {},
   "source": [
    "## Створення датасету на основі ознак, вказанних в статті"
   ]
  },
  {
   "cell_type": "code",
   "execution_count": 13,
   "metadata": {},
   "outputs": [],
   "source": [
    "axis_aggregations = {\n",
    "    'accelerometer_X': [\"max\", \"min\", entropy, iqr],\n",
    "    'accelerometer_Y': [\"max\", argmin, mad, \"median\", \"skew\", \"std\", rmse],\n",
    "    'accelerometer_Z': [\"skew\"]\n",
    "}\n",
    "\n",
    "data_tdf = pd.DataFrame()\n",
    "\n",
    "\n",
    "for axis, functions in axis_aggregations.items():\n",
    "    axis_data = ndata.groupby([\"activity\", ndata.index // 30])[axis].agg(functions)\n",
    "    \n",
    "    multiindex = pd.MultiIndex.from_product([[axis], axis_data.columns])\n",
    "    \n",
    "    axis_data.columns = multiindex\n",
    "    data_tdf = pd.concat([data_tdf, axis_data], axis=1)\n",
    "\n",
    "data_tdf.reset_index(level=0, inplace=True) "
   ]
  },
  {
   "cell_type": "code",
   "execution_count": 14,
   "metadata": {},
   "outputs": [
    {
     "data": {
      "text/html": [
       "<div>\n",
       "<style scoped>\n",
       "    .dataframe tbody tr th:only-of-type {\n",
       "        vertical-align: middle;\n",
       "    }\n",
       "\n",
       "    .dataframe tbody tr th {\n",
       "        vertical-align: top;\n",
       "    }\n",
       "\n",
       "    .dataframe thead tr th {\n",
       "        text-align: left;\n",
       "    }\n",
       "</style>\n",
       "<table border=\"1\" class=\"dataframe\">\n",
       "  <thead>\n",
       "    <tr>\n",
       "      <th></th>\n",
       "      <th>activity</th>\n",
       "      <th colspan=\"4\" halign=\"left\">accelerometer_X</th>\n",
       "      <th colspan=\"7\" halign=\"left\">accelerometer_Y</th>\n",
       "      <th>accelerometer_Z</th>\n",
       "    </tr>\n",
       "    <tr>\n",
       "      <th></th>\n",
       "      <th></th>\n",
       "      <th>max</th>\n",
       "      <th>min</th>\n",
       "      <th>entropy</th>\n",
       "      <th>iqr</th>\n",
       "      <th>max</th>\n",
       "      <th>argmin</th>\n",
       "      <th>mad</th>\n",
       "      <th>median</th>\n",
       "      <th>skew</th>\n",
       "      <th>std</th>\n",
       "      <th>rmse</th>\n",
       "      <th>skew</th>\n",
       "    </tr>\n",
       "  </thead>\n",
       "  <tbody>\n",
       "    <tr>\n",
       "      <th>0</th>\n",
       "      <td>idle</td>\n",
       "      <td>0.377889</td>\n",
       "      <td>-0.337109</td>\n",
       "      <td>3.075701</td>\n",
       "      <td>0.007834</td>\n",
       "      <td>0.241917</td>\n",
       "      <td>2</td>\n",
       "      <td>0.045375</td>\n",
       "      <td>-0.138690</td>\n",
       "      <td>3.647470</td>\n",
       "      <td>0.092801</td>\n",
       "      <td>0.091241</td>\n",
       "      <td>-2.365312</td>\n",
       "    </tr>\n",
       "    <tr>\n",
       "      <th>1</th>\n",
       "      <td>idle</td>\n",
       "      <td>-0.180436</td>\n",
       "      <td>-0.267033</td>\n",
       "      <td>2.732915</td>\n",
       "      <td>0.004700</td>\n",
       "      <td>-0.126214</td>\n",
       "      <td>7</td>\n",
       "      <td>0.002278</td>\n",
       "      <td>-0.138690</td>\n",
       "      <td>0.568223</td>\n",
       "      <td>0.003853</td>\n",
       "      <td>0.003788</td>\n",
       "      <td>-2.409922</td>\n",
       "    </tr>\n",
       "    <tr>\n",
       "      <th>2</th>\n",
       "      <td>idle</td>\n",
       "      <td>-0.236268</td>\n",
       "      <td>-0.243675</td>\n",
       "      <td>2.389898</td>\n",
       "      <td>0.002564</td>\n",
       "      <td>-0.108556</td>\n",
       "      <td>14</td>\n",
       "      <td>0.000966</td>\n",
       "      <td>-0.110092</td>\n",
       "      <td>-1.272920</td>\n",
       "      <td>0.001313</td>\n",
       "      <td>0.001291</td>\n",
       "      <td>-0.097477</td>\n",
       "    </tr>\n",
       "    <tr>\n",
       "      <th>3</th>\n",
       "      <td>idle</td>\n",
       "      <td>-0.162205</td>\n",
       "      <td>-0.196958</td>\n",
       "      <td>2.663458</td>\n",
       "      <td>0.005982</td>\n",
       "      <td>-0.121224</td>\n",
       "      <td>28</td>\n",
       "      <td>0.003037</td>\n",
       "      <td>-0.129861</td>\n",
       "      <td>-0.857829</td>\n",
       "      <td>0.004371</td>\n",
       "      <td>0.004298</td>\n",
       "      <td>0.565957</td>\n",
       "    </tr>\n",
       "    <tr>\n",
       "      <th>4</th>\n",
       "      <td>idle</td>\n",
       "      <td>-0.162205</td>\n",
       "      <td>-0.196958</td>\n",
       "      <td>2.384778</td>\n",
       "      <td>0.006125</td>\n",
       "      <td>-0.121224</td>\n",
       "      <td>26</td>\n",
       "      <td>0.002952</td>\n",
       "      <td>-0.129669</td>\n",
       "      <td>-1.001079</td>\n",
       "      <td>0.004329</td>\n",
       "      <td>0.004257</td>\n",
       "      <td>0.453139</td>\n",
       "    </tr>\n",
       "    <tr>\n",
       "      <th>...</th>\n",
       "      <td>...</td>\n",
       "      <td>...</td>\n",
       "      <td>...</td>\n",
       "      <td>...</td>\n",
       "      <td>...</td>\n",
       "      <td>...</td>\n",
       "      <td>...</td>\n",
       "      <td>...</td>\n",
       "      <td>...</td>\n",
       "      <td>...</td>\n",
       "      <td>...</td>\n",
       "      <td>...</td>\n",
       "      <td>...</td>\n",
       "    </tr>\n",
       "    <tr>\n",
       "      <th>6457</th>\n",
       "      <td>walking</td>\n",
       "      <td>0.626857</td>\n",
       "      <td>-0.941581</td>\n",
       "      <td>2.507218</td>\n",
       "      <td>0.666429</td>\n",
       "      <td>-0.113547</td>\n",
       "      <td>18</td>\n",
       "      <td>0.328695</td>\n",
       "      <td>-0.963052</td>\n",
       "      <td>-0.540493</td>\n",
       "      <td>0.423706</td>\n",
       "      <td>0.416584</td>\n",
       "      <td>1.221757</td>\n",
       "    </tr>\n",
       "    <tr>\n",
       "      <th>6458</th>\n",
       "      <td>walking</td>\n",
       "      <td>0.626857</td>\n",
       "      <td>-1.104521</td>\n",
       "      <td>2.421421</td>\n",
       "      <td>0.599060</td>\n",
       "      <td>-0.113547</td>\n",
       "      <td>16</td>\n",
       "      <td>0.334778</td>\n",
       "      <td>-0.963052</td>\n",
       "      <td>-0.523121</td>\n",
       "      <td>0.427288</td>\n",
       "      <td>0.420106</td>\n",
       "      <td>1.178148</td>\n",
       "    </tr>\n",
       "    <tr>\n",
       "      <th>6459</th>\n",
       "      <td>walking</td>\n",
       "      <td>1.093457</td>\n",
       "      <td>-1.104521</td>\n",
       "      <td>2.295601</td>\n",
       "      <td>0.595784</td>\n",
       "      <td>-0.113547</td>\n",
       "      <td>14</td>\n",
       "      <td>0.346932</td>\n",
       "      <td>-0.963052</td>\n",
       "      <td>-0.453662</td>\n",
       "      <td>0.433905</td>\n",
       "      <td>0.426612</td>\n",
       "      <td>1.996085</td>\n",
       "    </tr>\n",
       "    <tr>\n",
       "      <th>6460</th>\n",
       "      <td>walking</td>\n",
       "      <td>1.093457</td>\n",
       "      <td>-1.104521</td>\n",
       "      <td>2.441946</td>\n",
       "      <td>0.525424</td>\n",
       "      <td>-0.113547</td>\n",
       "      <td>12</td>\n",
       "      <td>0.331504</td>\n",
       "      <td>-0.989731</td>\n",
       "      <td>-0.365569</td>\n",
       "      <td>0.424419</td>\n",
       "      <td>0.417285</td>\n",
       "      <td>1.959435</td>\n",
       "    </tr>\n",
       "    <tr>\n",
       "      <th>6461</th>\n",
       "      <td>walking</td>\n",
       "      <td>1.093457</td>\n",
       "      <td>-1.104521</td>\n",
       "      <td>2.380542</td>\n",
       "      <td>0.770973</td>\n",
       "      <td>-0.113547</td>\n",
       "      <td>10</td>\n",
       "      <td>0.339666</td>\n",
       "      <td>-0.963052</td>\n",
       "      <td>-0.354875</td>\n",
       "      <td>0.436354</td>\n",
       "      <td>0.429020</td>\n",
       "      <td>1.950320</td>\n",
       "    </tr>\n",
       "  </tbody>\n",
       "</table>\n",
       "<p>6462 rows × 13 columns</p>\n",
       "</div>"
      ],
      "text/plain": [
       "     activity accelerometer_X                               accelerometer_Y  \\\n",
       "                          max       min   entropy       iqr             max   \n",
       "0        idle        0.377889 -0.337109  3.075701  0.007834        0.241917   \n",
       "1        idle       -0.180436 -0.267033  2.732915  0.004700       -0.126214   \n",
       "2        idle       -0.236268 -0.243675  2.389898  0.002564       -0.108556   \n",
       "3        idle       -0.162205 -0.196958  2.663458  0.005982       -0.121224   \n",
       "4        idle       -0.162205 -0.196958  2.384778  0.006125       -0.121224   \n",
       "...       ...             ...       ...       ...       ...             ...   \n",
       "6457  walking        0.626857 -0.941581  2.507218  0.666429       -0.113547   \n",
       "6458  walking        0.626857 -1.104521  2.421421  0.599060       -0.113547   \n",
       "6459  walking        1.093457 -1.104521  2.295601  0.595784       -0.113547   \n",
       "6460  walking        1.093457 -1.104521  2.441946  0.525424       -0.113547   \n",
       "6461  walking        1.093457 -1.104521  2.380542  0.770973       -0.113547   \n",
       "\n",
       "                                                              accelerometer_Z  \n",
       "     argmin       mad    median      skew       std      rmse            skew  \n",
       "0         2  0.045375 -0.138690  3.647470  0.092801  0.091241       -2.365312  \n",
       "1         7  0.002278 -0.138690  0.568223  0.003853  0.003788       -2.409922  \n",
       "2        14  0.000966 -0.110092 -1.272920  0.001313  0.001291       -0.097477  \n",
       "3        28  0.003037 -0.129861 -0.857829  0.004371  0.004298        0.565957  \n",
       "4        26  0.002952 -0.129669 -1.001079  0.004329  0.004257        0.453139  \n",
       "...     ...       ...       ...       ...       ...       ...             ...  \n",
       "6457     18  0.328695 -0.963052 -0.540493  0.423706  0.416584        1.221757  \n",
       "6458     16  0.334778 -0.963052 -0.523121  0.427288  0.420106        1.178148  \n",
       "6459     14  0.346932 -0.963052 -0.453662  0.433905  0.426612        1.996085  \n",
       "6460     12  0.331504 -0.989731 -0.365569  0.424419  0.417285        1.959435  \n",
       "6461     10  0.339666 -0.963052 -0.354875  0.436354  0.429020        1.950320  \n",
       "\n",
       "[6462 rows x 13 columns]"
      ]
     },
     "execution_count": 14,
     "metadata": {},
     "output_type": "execute_result"
    }
   ],
   "source": [
    "# Утворений датасет на основі ознак таблиці 3 статті [1]\n",
    "\n",
    "data_tdf"
   ]
  },
  {
   "cell_type": "markdown",
   "metadata": {},
   "source": [
    "## Розділяємо датасет на навчальний і тестовий набори"
   ]
  },
  {
   "cell_type": "code",
   "execution_count": 15,
   "metadata": {},
   "outputs": [],
   "source": [
    "\n",
    "X_train, X_test, y_train, y_test = train_test_split(\n",
    "    data_tdf[features], data_tdf[\"activity\"],\n",
    "    test_size=0.3,\n",
    "    stratify=data_tdf[\"activity\"],\n",
    ")"
   ]
  },
  {
   "cell_type": "markdown",
   "metadata": {},
   "source": [
    "## Навчаємо за домомогою алгоритму `SVN`"
   ]
  },
  {
   "cell_type": "code",
   "execution_count": 16,
   "metadata": {},
   "outputs": [
    {
     "name": "stdout",
     "output_type": "stream",
     "text": [
      "CPU times: total: 250 ms\n",
      "Wall time: 253 ms\n"
     ]
    },
    {
     "data": {
      "text/html": [
       "<style>#sk-container-id-3 {color: black;background-color: white;}#sk-container-id-3 pre{padding: 0;}#sk-container-id-3 div.sk-toggleable {background-color: white;}#sk-container-id-3 label.sk-toggleable__label {cursor: pointer;display: block;width: 100%;margin-bottom: 0;padding: 0.3em;box-sizing: border-box;text-align: center;}#sk-container-id-3 label.sk-toggleable__label-arrow:before {content: \"▸\";float: left;margin-right: 0.25em;color: #696969;}#sk-container-id-3 label.sk-toggleable__label-arrow:hover:before {color: black;}#sk-container-id-3 div.sk-estimator:hover label.sk-toggleable__label-arrow:before {color: black;}#sk-container-id-3 div.sk-toggleable__content {max-height: 0;max-width: 0;overflow: hidden;text-align: left;background-color: #f0f8ff;}#sk-container-id-3 div.sk-toggleable__content pre {margin: 0.2em;color: black;border-radius: 0.25em;background-color: #f0f8ff;}#sk-container-id-3 input.sk-toggleable__control:checked~div.sk-toggleable__content {max-height: 200px;max-width: 100%;overflow: auto;}#sk-container-id-3 input.sk-toggleable__control:checked~label.sk-toggleable__label-arrow:before {content: \"▾\";}#sk-container-id-3 div.sk-estimator input.sk-toggleable__control:checked~label.sk-toggleable__label {background-color: #d4ebff;}#sk-container-id-3 div.sk-label input.sk-toggleable__control:checked~label.sk-toggleable__label {background-color: #d4ebff;}#sk-container-id-3 input.sk-hidden--visually {border: 0;clip: rect(1px 1px 1px 1px);clip: rect(1px, 1px, 1px, 1px);height: 1px;margin: -1px;overflow: hidden;padding: 0;position: absolute;width: 1px;}#sk-container-id-3 div.sk-estimator {font-family: monospace;background-color: #f0f8ff;border: 1px dotted black;border-radius: 0.25em;box-sizing: border-box;margin-bottom: 0.5em;}#sk-container-id-3 div.sk-estimator:hover {background-color: #d4ebff;}#sk-container-id-3 div.sk-parallel-item::after {content: \"\";width: 100%;border-bottom: 1px solid gray;flex-grow: 1;}#sk-container-id-3 div.sk-label:hover label.sk-toggleable__label {background-color: #d4ebff;}#sk-container-id-3 div.sk-serial::before {content: \"\";position: absolute;border-left: 1px solid gray;box-sizing: border-box;top: 0;bottom: 0;left: 50%;z-index: 0;}#sk-container-id-3 div.sk-serial {display: flex;flex-direction: column;align-items: center;background-color: white;padding-right: 0.2em;padding-left: 0.2em;position: relative;}#sk-container-id-3 div.sk-item {position: relative;z-index: 1;}#sk-container-id-3 div.sk-parallel {display: flex;align-items: stretch;justify-content: center;background-color: white;position: relative;}#sk-container-id-3 div.sk-item::before, #sk-container-id-3 div.sk-parallel-item::before {content: \"\";position: absolute;border-left: 1px solid gray;box-sizing: border-box;top: 0;bottom: 0;left: 50%;z-index: -1;}#sk-container-id-3 div.sk-parallel-item {display: flex;flex-direction: column;z-index: 1;position: relative;background-color: white;}#sk-container-id-3 div.sk-parallel-item:first-child::after {align-self: flex-end;width: 50%;}#sk-container-id-3 div.sk-parallel-item:last-child::after {align-self: flex-start;width: 50%;}#sk-container-id-3 div.sk-parallel-item:only-child::after {width: 0;}#sk-container-id-3 div.sk-dashed-wrapped {border: 1px dashed gray;margin: 0 0.4em 0.5em 0.4em;box-sizing: border-box;padding-bottom: 0.4em;background-color: white;}#sk-container-id-3 div.sk-label label {font-family: monospace;font-weight: bold;display: inline-block;line-height: 1.2em;}#sk-container-id-3 div.sk-label-container {text-align: center;}#sk-container-id-3 div.sk-container {/* jupyter's `normalize.less` sets `[hidden] { display: none; }` but bootstrap.min.css set `[hidden] { display: none !important; }` so we also need the `!important` here to be able to override the default hidden behavior on the sphinx rendered scikit-learn.org. See: https://github.com/scikit-learn/scikit-learn/issues/21755 */display: inline-block !important;position: relative;}#sk-container-id-3 div.sk-text-repr-fallback {display: none;}</style><div id=\"sk-container-id-3\" class=\"sk-top-container\"><div class=\"sk-text-repr-fallback\"><pre>SVC()</pre><b>In a Jupyter environment, please rerun this cell to show the HTML representation or trust the notebook. <br />On GitHub, the HTML representation is unable to render, please try loading this page with nbviewer.org.</b></div><div class=\"sk-container\" hidden><div class=\"sk-item\"><div class=\"sk-estimator sk-toggleable\"><input class=\"sk-toggleable__control sk-hidden--visually\" id=\"sk-estimator-id-3\" type=\"checkbox\" checked><label for=\"sk-estimator-id-3\" class=\"sk-toggleable__label sk-toggleable__label-arrow\">SVC</label><div class=\"sk-toggleable__content\"><pre>SVC()</pre></div></div></div></div></div>"
      ],
      "text/plain": [
       "SVC()"
      ]
     },
     "execution_count": 16,
     "metadata": {},
     "output_type": "execute_result"
    }
   ],
   "source": [
    "%%time\n",
    "\n",
    "model_svm = SVC()\n",
    "model_svm.fit(X_train, y_train)"
   ]
  },
  {
   "cell_type": "markdown",
   "metadata": {},
   "source": [
    "## Навчаємо за домомогою алгоритму `random forest`"
   ]
  },
  {
   "cell_type": "code",
   "execution_count": 17,
   "metadata": {},
   "outputs": [
    {
     "name": "stdout",
     "output_type": "stream",
     "text": [
      "CPU times: total: 766 ms\n",
      "Wall time: 864 ms\n"
     ]
    },
    {
     "data": {
      "text/html": [
       "<style>#sk-container-id-4 {color: black;background-color: white;}#sk-container-id-4 pre{padding: 0;}#sk-container-id-4 div.sk-toggleable {background-color: white;}#sk-container-id-4 label.sk-toggleable__label {cursor: pointer;display: block;width: 100%;margin-bottom: 0;padding: 0.3em;box-sizing: border-box;text-align: center;}#sk-container-id-4 label.sk-toggleable__label-arrow:before {content: \"▸\";float: left;margin-right: 0.25em;color: #696969;}#sk-container-id-4 label.sk-toggleable__label-arrow:hover:before {color: black;}#sk-container-id-4 div.sk-estimator:hover label.sk-toggleable__label-arrow:before {color: black;}#sk-container-id-4 div.sk-toggleable__content {max-height: 0;max-width: 0;overflow: hidden;text-align: left;background-color: #f0f8ff;}#sk-container-id-4 div.sk-toggleable__content pre {margin: 0.2em;color: black;border-radius: 0.25em;background-color: #f0f8ff;}#sk-container-id-4 input.sk-toggleable__control:checked~div.sk-toggleable__content {max-height: 200px;max-width: 100%;overflow: auto;}#sk-container-id-4 input.sk-toggleable__control:checked~label.sk-toggleable__label-arrow:before {content: \"▾\";}#sk-container-id-4 div.sk-estimator input.sk-toggleable__control:checked~label.sk-toggleable__label {background-color: #d4ebff;}#sk-container-id-4 div.sk-label input.sk-toggleable__control:checked~label.sk-toggleable__label {background-color: #d4ebff;}#sk-container-id-4 input.sk-hidden--visually {border: 0;clip: rect(1px 1px 1px 1px);clip: rect(1px, 1px, 1px, 1px);height: 1px;margin: -1px;overflow: hidden;padding: 0;position: absolute;width: 1px;}#sk-container-id-4 div.sk-estimator {font-family: monospace;background-color: #f0f8ff;border: 1px dotted black;border-radius: 0.25em;box-sizing: border-box;margin-bottom: 0.5em;}#sk-container-id-4 div.sk-estimator:hover {background-color: #d4ebff;}#sk-container-id-4 div.sk-parallel-item::after {content: \"\";width: 100%;border-bottom: 1px solid gray;flex-grow: 1;}#sk-container-id-4 div.sk-label:hover label.sk-toggleable__label {background-color: #d4ebff;}#sk-container-id-4 div.sk-serial::before {content: \"\";position: absolute;border-left: 1px solid gray;box-sizing: border-box;top: 0;bottom: 0;left: 50%;z-index: 0;}#sk-container-id-4 div.sk-serial {display: flex;flex-direction: column;align-items: center;background-color: white;padding-right: 0.2em;padding-left: 0.2em;position: relative;}#sk-container-id-4 div.sk-item {position: relative;z-index: 1;}#sk-container-id-4 div.sk-parallel {display: flex;align-items: stretch;justify-content: center;background-color: white;position: relative;}#sk-container-id-4 div.sk-item::before, #sk-container-id-4 div.sk-parallel-item::before {content: \"\";position: absolute;border-left: 1px solid gray;box-sizing: border-box;top: 0;bottom: 0;left: 50%;z-index: -1;}#sk-container-id-4 div.sk-parallel-item {display: flex;flex-direction: column;z-index: 1;position: relative;background-color: white;}#sk-container-id-4 div.sk-parallel-item:first-child::after {align-self: flex-end;width: 50%;}#sk-container-id-4 div.sk-parallel-item:last-child::after {align-self: flex-start;width: 50%;}#sk-container-id-4 div.sk-parallel-item:only-child::after {width: 0;}#sk-container-id-4 div.sk-dashed-wrapped {border: 1px dashed gray;margin: 0 0.4em 0.5em 0.4em;box-sizing: border-box;padding-bottom: 0.4em;background-color: white;}#sk-container-id-4 div.sk-label label {font-family: monospace;font-weight: bold;display: inline-block;line-height: 1.2em;}#sk-container-id-4 div.sk-label-container {text-align: center;}#sk-container-id-4 div.sk-container {/* jupyter's `normalize.less` sets `[hidden] { display: none; }` but bootstrap.min.css set `[hidden] { display: none !important; }` so we also need the `!important` here to be able to override the default hidden behavior on the sphinx rendered scikit-learn.org. See: https://github.com/scikit-learn/scikit-learn/issues/21755 */display: inline-block !important;position: relative;}#sk-container-id-4 div.sk-text-repr-fallback {display: none;}</style><div id=\"sk-container-id-4\" class=\"sk-top-container\"><div class=\"sk-text-repr-fallback\"><pre>RandomForestClassifier()</pre><b>In a Jupyter environment, please rerun this cell to show the HTML representation or trust the notebook. <br />On GitHub, the HTML representation is unable to render, please try loading this page with nbviewer.org.</b></div><div class=\"sk-container\" hidden><div class=\"sk-item\"><div class=\"sk-estimator sk-toggleable\"><input class=\"sk-toggleable__control sk-hidden--visually\" id=\"sk-estimator-id-4\" type=\"checkbox\" checked><label for=\"sk-estimator-id-4\" class=\"sk-toggleable__label sk-toggleable__label-arrow\">RandomForestClassifier</label><div class=\"sk-toggleable__content\"><pre>RandomForestClassifier()</pre></div></div></div></div></div>"
      ],
      "text/plain": [
       "RandomForestClassifier()"
      ]
     },
     "execution_count": 17,
     "metadata": {},
     "output_type": "execute_result"
    }
   ],
   "source": [
    "%%time\n",
    "\n",
    "model_rf = RandomForestClassifier(n_estimators=100)\n",
    "model_rf.fit(X_train, y_train)"
   ]
  },
  {
   "cell_type": "markdown",
   "metadata": {},
   "source": [
    "## Визначаємо точність моделей на тестовому наборі"
   ]
  },
  {
   "cell_type": "code",
   "execution_count": 18,
   "metadata": {},
   "outputs": [
    {
     "name": "stdout",
     "output_type": "stream",
     "text": [
      "Точність моделі SVM: 0.973\n",
      "Точність моделі випадкового лісу: 0.997\n"
     ]
    }
   ],
   "source": [
    "score_svm = model_svm.score(X_test, y_test)\n",
    "score_rf = model_rf.score(X_test, y_test)\n",
    "\n",
    "print(f\"Точність моделі SVM: {score_svm:.3f}\")\n",
    "print(f\"Точність моделі випадкового лісу: {score_rf:.3f}\")"
   ]
  },
  {
   "cell_type": "markdown",
   "metadata": {},
   "source": [
    "## Пргнозування"
   ]
  },
  {
   "cell_type": "code",
   "execution_count": 19,
   "metadata": {},
   "outputs": [],
   "source": [
    "y_predicted_svm = model_svm.predict(X_test)\n",
    "y_predicted_rf = model_rf.predict(X_test)"
   ]
  },
  {
   "cell_type": "markdown",
   "metadata": {},
   "source": [
    "Побудуємо матрицю помилок `confusion matrix`"
   ]
  },
  {
   "cell_type": "code",
   "execution_count": 20,
   "metadata": {},
   "outputs": [],
   "source": [
    "conf_matrix_svm = confusion_matrix(y_test, y_predicted_svm)\n",
    "conf_matrix_rf = confusion_matrix(y_test, y_predicted_rf)"
   ]
  },
  {
   "cell_type": "code",
   "execution_count": 21,
   "metadata": {},
   "outputs": [
    {
     "data": {
      "image/png": "[encoded data removed]",
      "text/plain": [
       "<Figure size 1000x400 with 4 Axes>"
      ]
     },
     "metadata": {},
     "output_type": "display_data"
    }
   ],
   "source": [
    "fig, axes = plt.subplots(1, 2, figsize=(10, 4))\n",
    "\n",
    "classifiers = [\"SVM\", \"Random Forest\"]\n",
    "confusion_matrices = [conf_matrix_svm, conf_matrix_rf]\n",
    "\n",
    "for i, classifier in enumerate(classifiers):\n",
    "    sns.heatmap(\n",
    "        confusion_matrices[i],\n",
    "        annot=True,\n",
    "        fmt='d',\n",
    "        cmap='Greens',\n",
    "        xticklabels=activities,\n",
    "        yticklabels=activities,\n",
    "        ax=axes[i],\n",
    "    )\n",
    "    axes[i].set_title(f\"Confusion Matrix for {classifier} Classifier\")\n",
    "    axes[i].set_xlabel(\"Predicted activity\")\n",
    "    axes[i].set_ylabel(\"True activity\")\n",
    "\n",
    "plt.tight_layout()\n",
    "\n",
    "plt.show()"
   ]
  },
  {
   "cell_type": "markdown",
   "metadata": {},
   "source": [
    "- Як видно, класифікатор `SVM` на тестових даних помилився у всіх 49 випадках, класифікувавши ходіння по сходах (`stairs`) як прогулянку (`walking`). Тобто, зовсім не розпізнає ходіння по сходах.\n",
    "\n",
    "- Класифікатор `ramdom forest` на тестових даних помилився лише в 5 випадках, класифікувавши ходіння по сходах (`stairs`) як прогулянку (`walking`). \n",
    "\n",
    "Слід сказати. що набір даних для `stairs` був найменшим з усіх інших. Тому тут бажано було б набрати більше даних, тоді може `SVM` дав би кращі результати."
   ]
  },
  {
   "cell_type": "markdown",
   "metadata": {},
   "source": [
    "# Результати та висновки\n",
    "\n",
    "\n",
    "1. Для навчання алгоритму `SVN` на __вихідних ознаках__ (показах акселерометра по трьох осях) потрібно близько 20 хвилин на стандартному комп'ютері. Навчання на вихідних ознаках (показах акселерометра по трьох осях) спричиняє довге навчання, оскільки алгоритм `SVN` має велику кількість параметрів, які потрібно оптимізувати. Це пов'язано з тим, що алгоритм `SVN` намагається знайти оптимальну підмножину ознак, яка найкраще класифікує дані. У випадку з даними про рух людини, які мають багато шуму і невизначеності, це може бути дуже складним завданням.\n",
    "\n",
    "2. Навчання на __нормалізованих ознаках__ акселерометра по трьох осях зменшує час навчання алгоритму `SVN` близько 4 хвилин. Навчання на нормалізованих величинах акселерометра по трьох осях дає значний виграш при навчання по методу `SVN`. Нормалізація показів акселерометра по трьох осях усуває масштабування, яке може призвести до переваги одних ознак над іншими. Це також робить дані більш однорідними, що полегшує задачу навчання алгоритму `SVN`.\n",
    "    - час розрахунку близько 13 секунд;\n",
    "    - точність близька до 0.89.\n",
    "\n",
    "\n",
    "3. Навчання за методом випадкового лісу показує кращу точність та набагато менший час навчання, оскільки це більш стійкий до шуму і невизначеності алгоритм. Метод випадкового лісу генерує декілька дерев рішень, і кожен з них голосує за класифікацію. Це дозволяє алгоритму випадкового лісу бути більш точним, ніж алгоритм `SVN`, який генерує лише одне дерево рішень. Крім того, метод випадкового лісу має набагато меншу кількість параметрів, ніж алгоритм `SVN`, що також сприяє його більш швидкому навчанню.\n",
    "    - час розрахунку близько 13 секунд;\n",
    "    - точність близька до 1.00.\n",
    "\n",
    "4. Навчання, де в якості ознак взяті статистичні ознаки запропоновані в [статті](https://www.sciencedirect.com/science/article/pii/S1877050916322153) [1], отримані по набору з 30 показників акселерометра для кожної осі $x$, $y$ та $z$ показує:\n",
    "    - точність моделі `SVM` значно підвищилась до значення 0.975, крім того час навчання значно зменшився і становить 46.9 ms.\n",
    "    - точність моделі `random forest` також підвищилась в порівнянні з навчанням на вихідних нормалізованих судячи з матриці помилок, також час навчання становить 766 ms, що значно менше ніж для навчання на вихідних нормалізованих даних, але натомість він на порядок вище в порявнянні з моделлю `SVN`."
   ]
  },
  {
   "cell_type": "markdown",
   "metadata": {},
   "source": [
    "Таблиця з результатами\n",
    "\n",
    "<center>\n",
    "<table>\n",
    "<caption>Таблиця. Результати</caption>\n",
    "<thead>\n",
    "  <tr>\n",
    "    <th>Тип ознак</th>\n",
    "    <th>Алгоритм</th>\n",
    "    <th>Час розрахунку</th>\n",
    "    <th>Точність</th>\n",
    "  </tr>\n",
    "</thead>\n",
    "<tbody>\n",
    "  <tr>\n",
    "    <td rowspan=\"2\">вихідні нормалізовані</td>\n",
    "    <td>SVN</td>\n",
    "    <td>240 s</td>\n",
    "    <td>0.89</td>\n",
    "  </tr>\n",
    "  <tr>\n",
    "    <td>Random Forest</td>\n",
    "    <td>13 s</td>\n",
    "    <td>~ 1.00</td>\n",
    "  </tr>\n",
    "  <tr>\n",
    "    <td rowspan=\"2\">статистичні дані</td>\n",
    "    <td>SVN</td>\n",
    "    <td>46.9 ms</td>\n",
    "    <td>0.98</td>\n",
    "  </tr>\n",
    "  <tr>\n",
    "    <td>Random Forest</td>\n",
    "    <td>766 ms</td>\n",
    "    <td>~ 1.00</td>\n",
    "  </tr>\n",
    "</tbody>\n",
    "</table>\n",
    "</center>\n",
    "\n",
    "Згідно таблиці, можна зробити висновок, що найкращі результати дає в сенсі час/чточність дає алгоритм `random forest`, який тренувався не на вихідних, а на статистичних ознаках. Ці висновки також підтверджуються аналізом матриці помилок, показує, що класифікатор `random forest` помиляється значно менше, ніж `SVM`. Використання статистичних даних, порівняно з сирими підвищує точність класифікації та знижує час навчання."
   ]
  },
  {
   "cell_type": "markdown",
   "metadata": {},
   "source": [
    "# Посилання\n",
    "\n",
    "[1]: Ç.Berke Erdaş, Işıl Atasoy, Koray Açıcı, Hasan Oğul, Integrating Features for Accelerometer-based Activity Recognition,\n",
    "Procedia Computer Science, Volume 98, 2016, Pages 522-527, ISSN 1877-0509, https://doi.org/10.1016/j.procs.2016.09.070."
   ]
  }
 ],
 "metadata": {
  "kernelspec": {
   "display_name": "Python 3 (ipykernel)",
   "language": "python",
   "name": "python3"
  },
  "language_info": {
   "codemirror_mode": {
    "name": "ipython",
    "version": 3
   },
   "file_extension": ".py",
   "mimetype": "text/x-python",
   "name": "python",
   "nbconvert_exporter": "python",
   "pygments_lexer": "ipython3",
   "version": "3.11.3"
  }
 },
 "nbformat": 4,
 "nbformat_minor": 4
}
