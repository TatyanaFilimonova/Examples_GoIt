{
 "cells": [
  {
   "attachments": {},
   "cell_type": "markdown",
   "metadata": {},
   "source": [
    "Домашнє завдання №1"
   ]
  },
  {
   "cell_type": "code",
   "execution_count": 1,
   "metadata": {},
   "outputs": [],
   "source": [
    "import numpy as np"
   ]
  },
  {
   "attachments": {},
   "cell_type": "markdown",
   "metadata": {},
   "source": [
    "1. Створіть одновимірний масив (вектор) з першими 10-ма натуральними числами та виведіть його значення."
   ]
  },
  {
   "cell_type": "code",
   "execution_count": 3,
   "metadata": {},
   "outputs": [
    {
     "name": "stdout",
     "output_type": "stream",
     "text": [
      "[ 1  2  3  4  5  6  7  8  9 10]\n"
     ]
    }
   ],
   "source": [
    "a = np.arange(1, 11)\n",
    "print(a)"
   ]
  },
  {
   "attachments": {},
   "cell_type": "markdown",
   "metadata": {},
   "source": [
    "2. Створіть двовимірний масив (матрицю) розміром 3x3, заповніть його нулями та виведіть його значення."
   ]
  },
  {
   "cell_type": "code",
   "execution_count": 4,
   "metadata": {},
   "outputs": [
    {
     "name": "stdout",
     "output_type": "stream",
     "text": [
      "[[0. 0. 0.]\n",
      " [0. 0. 0.]\n",
      " [0. 0. 0.]]\n"
     ]
    }
   ],
   "source": [
    "a = np.zeros((3, 3))\n",
    "print(a)"
   ]
  },
  {
   "attachments": {},
   "cell_type": "markdown",
   "metadata": {},
   "source": [
    "3. Створіть масив розміром 5x5, заповніть його випадковими цілими числами в діапазоні від 1 до 10 та виведіть його значення."
   ]
  },
  {
   "cell_type": "code",
   "execution_count": 5,
   "metadata": {},
   "outputs": [
    {
     "name": "stdout",
     "output_type": "stream",
     "text": [
      "[[ 7 10  6  2 10]\n",
      " [ 7  9  4  2  8]\n",
      " [ 3  3  6  5  9]\n",
      " [10  8  3  5  1]\n",
      " [ 3  3  9  1  5]]\n"
     ]
    }
   ],
   "source": [
    "a = np.random.randint(1, 11, (5,5))\n",
    "print(a)"
   ]
  },
  {
   "attachments": {},
   "cell_type": "markdown",
   "metadata": {},
   "source": [
    "4. Створіть масив розміром 4x4, заповніть його випадковими дійсними числами в діапазоні від 0 до 1 та виведіть його значення."
   ]
  },
  {
   "cell_type": "code",
   "execution_count": 6,
   "metadata": {},
   "outputs": [
    {
     "name": "stdout",
     "output_type": "stream",
     "text": [
      "[[0.35448893 0.62348182 0.25158109 0.20567579]\n",
      " [0.51100877 0.36949712 0.22480539 0.86426348]\n",
      " [0.67691192 0.03815413 0.42832246 0.20885283]\n",
      " [0.48009991 0.53849911 0.56553487 0.62994907]]\n"
     ]
    }
   ],
   "source": [
    "a = np.random.rand(4, 4)\n",
    "print(a)"
   ]
  },
  {
   "attachments": {},
   "cell_type": "markdown",
   "metadata": {},
   "source": [
    "5. Створіть два одновимірних масиви розміром 5, заповніть їх випадковими цілими числами в діапазоні від 1 до 10 та виконайте на них поелементні операції додавання, віднімання та множення."
   ]
  },
  {
   "cell_type": "code",
   "execution_count": 7,
   "metadata": {},
   "outputs": [
    {
     "name": "stdout",
     "output_type": "stream",
     "text": [
      "a =  [6 2 2 9 6]\n",
      "b =  [8 4 9 5 8]\n",
      "a + b =  [14  6 11 14 14]\n",
      "a - b =  [-2 -2 -7  4 -2]\n",
      "a * b =  [48  8 18 45 48]\n"
     ]
    }
   ],
   "source": [
    "a = np.random.randint(1, 11, size=5)\n",
    "b = np.random.randint(1, 11, size=5)\n",
    "\n",
    "print(\"a = \", a)\n",
    "print(\"b = \", b)\n",
    "\n",
    "print(\"a + b = \", a + b)\n",
    "print(\"a - b = \", a - b)\n",
    "print(\"a * b = \", a * b)"
   ]
  },
  {
   "attachments": {},
   "cell_type": "markdown",
   "metadata": {},
   "source": [
    "6. Створіть два вектори розміром 7, заповніть довільними числами та знайдіть їх скалярний добуток."
   ]
  },
  {
   "cell_type": "code",
   "execution_count": 11,
   "metadata": {},
   "outputs": [
    {
     "name": "stdout",
     "output_type": "stream",
     "text": [
      "a =  [6 6 6 9 4 1 8]\n",
      "b =  [ 3 10  9  3  5  2  9]\n",
      "Скалярний добуток векторів дорівнює: 253\n"
     ]
    }
   ],
   "source": [
    "a = np.random.randint(1, 11, size=7)\n",
    "b = np.random.randint(1, 11, size=7)\n",
    "\n",
    "dot_a_b = np.dot(a, b)\n",
    "\n",
    "print(\"a = \", a)\n",
    "print(\"b = \", b)\n",
    "print(\"Скалярний добуток векторів дорівнює:\", dot_a_b)"
   ]
  },
  {
   "attachments": {},
   "cell_type": "markdown",
   "metadata": {},
   "source": [
    "7. Створіть дві матриці розміром 2x2 та 2x3, заповніть їх випадковими цілими числами в діапазоні від 1 до 10 та перемножте їх між собою."
   ]
  },
  {
   "cell_type": "code",
   "execution_count": 14,
   "metadata": {},
   "outputs": [
    {
     "name": "stdout",
     "output_type": "stream",
     "text": [
      "a =  [[7 1]\n",
      " [3 5]]\n",
      "b =  [[3 1 1]\n",
      " [1 2 1]]\n",
      "Результат множення матриць:\n",
      "[[22  9  8]\n",
      " [14 13  8]]\n"
     ]
    }
   ],
   "source": [
    "a = np.random.randint(1, 10, size=(2, 2))\n",
    "b = np.random.randint(1, 10, size=(2, 3))\n",
    "\n",
    "dot_a_b = np.dot(a, b)\n",
    "\n",
    "print(\"a = \", a)\n",
    "print(\"b = \", b)\n",
    "print(\"Результат множення матриць:\")\n",
    "print(dot_a_b)"
   ]
  },
  {
   "attachments": {},
   "cell_type": "markdown",
   "metadata": {},
   "source": [
    "8. Створіть матрицю розміром 3x3, заповніть її випадковими цілими числами в діапазоні від 1 до 10 та знайдіть її обернену матрицю. (Обернена матриця існує тільки для квадратних матриць, для яких детермінант не дорівнює нулю)"
   ]
  },
  {
   "cell_type": "code",
   "execution_count": 21,
   "metadata": {},
   "outputs": [
    {
     "name": "stdout",
     "output_type": "stream",
     "text": [
      "Вихідна матриця:\n",
      "[[3 1 3]\n",
      " [5 8 7]\n",
      " [6 4 1]]\n",
      "Обернена матриця:\n",
      "[[ 0.18691589 -0.10280374  0.1588785 ]\n",
      " [-0.34579439  0.14018692  0.05607477]\n",
      " [ 0.26168224  0.05607477 -0.17757009]]\n"
     ]
    }
   ],
   "source": [
    "a = np.random.randint(1, 11, size=(3, 3))\n",
    "print(\"Вихідна матриця:\")\n",
    "print(a)\n",
    "\n",
    "# перевірка, чи можна знайти обернену матрицю\n",
    "if np.linalg.det(a) == 0:\n",
    "    print(\"Матриця не має оберненої матриці.\")\n",
    "else:\n",
    "    # знаходження оберненої матриці\n",
    "    inv_a = np.linalg.inv(a)\n",
    "    print(\"Обернена матриця:\")\n",
    "    print(inv_a)\n"
   ]
  },
  {
   "attachments": {},
   "cell_type": "markdown",
   "metadata": {},
   "source": [
    "9. Створіть матрицю розміром 4x4, заповніть її випадковими дійсними числами в діапазоні від 0 до 1 та транспонуйте її."
   ]
  },
  {
   "cell_type": "code",
   "execution_count": 23,
   "metadata": {},
   "outputs": [
    {
     "name": "stdout",
     "output_type": "stream",
     "text": [
      "[[0.87298873 0.32313631 0.84631268 0.70152019]\n",
      " [0.92968705 0.08546864 0.14092307 0.76525695]\n",
      " [0.12001872 0.22090021 0.28490696 0.32351804]\n",
      " [0.68992537 0.84135905 0.93096108 0.28223114]]\n",
      "Транспонована матриця:\n",
      "[[0.87298873 0.92968705 0.12001872 0.68992537]\n",
      " [0.32313631 0.08546864 0.22090021 0.84135905]\n",
      " [0.84631268 0.14092307 0.28490696 0.93096108]\n",
      " [0.70152019 0.76525695 0.32351804 0.28223114]]\n"
     ]
    }
   ],
   "source": [
    "a = np.random.rand(4, 4)\n",
    "print(a)\n",
    "\n",
    "a_transp = np.transpose(a)\n",
    "print(\"Транспонована матриця:\")\n",
    "print(a_transp)"
   ]
  },
  {
   "attachments": {},
   "cell_type": "markdown",
   "metadata": {},
   "source": [
    "10. Створіть матрицю розміром 3x4 та вектор розміром 4, заповніть їх випадковими цілими числами в діапазоні від 1 до 10 та перемножте матрицю на вектор."
   ]
  },
  {
   "cell_type": "code",
   "execution_count": 26,
   "metadata": {},
   "outputs": [
    {
     "name": "stdout",
     "output_type": "stream",
     "text": [
      "Матриця:\n",
      "[[8 3 7 6]\n",
      " [9 8 8 7]\n",
      " [9 7 3 6]]\n",
      "Вектор:\n",
      "[9 2 3 3]\n",
      "Результат множення матриці на вектор:\n",
      "[117 142 122]\n"
     ]
    }
   ],
   "source": [
    "matr = np.random.randint(1, 10, size=(3, 4))\n",
    "vect = np.random.randint(1, 10, size=4)\n",
    "print(\"Матриця:\")\n",
    "print(matr)\n",
    "print(\"Вектор:\")\n",
    "print(vect)\n",
    "\n",
    "print(\"Результат множення матриці на вектор:\")\n",
    "result = np.dot(matr, vect)\n",
    "print(result)"
   ]
  },
  {
   "attachments": {},
   "cell_type": "markdown",
   "metadata": {},
   "source": [
    "11. Створіть матрицю розміром 2x3 та вектор розміром 3, заповніть їх випадковими дійсними числами в діапазоні від 0 до 1 та перемножте матрицю на вектор."
   ]
  },
  {
   "cell_type": "code",
   "execution_count": 27,
   "metadata": {},
   "outputs": [
    {
     "name": "stdout",
     "output_type": "stream",
     "text": [
      "Матриця:\n",
      "[[0.69817495 0.66957257 0.0633264 ]\n",
      " [0.94132088 0.70192663 0.98405776]]\n",
      "Вектор:\n",
      "[0.97630631 0.55499514 0.06980454]\n",
      "Результат множення матриці на вектор:\n",
      "[1.0576626  1.37727509]\n"
     ]
    }
   ],
   "source": [
    "matr = np.random.rand(2, 3)\n",
    "vect = np.random.rand(3)\n",
    "print(\"Матриця:\")\n",
    "print(matr)\n",
    "print(\"Вектор:\")\n",
    "print(vect)\n",
    "\n",
    "print(\"Результат множення матриці на вектор:\")\n",
    "result = np.dot(matr, vect)\n",
    "print(result)"
   ]
  },
  {
   "attachments": {},
   "cell_type": "markdown",
   "metadata": {},
   "source": [
    "12. Створіть дві матриці розміром 2x2, заповніть їх випадковими цілими числами в діапазоні від 1 до 10 та виконайте їхнє поелементне множення."
   ]
  },
  {
   "cell_type": "code",
   "execution_count": 31,
   "metadata": {},
   "outputs": [
    {
     "name": "stdout",
     "output_type": "stream",
     "text": [
      "Перша матриця:\n",
      "[[5 4]\n",
      " [1 6]]\n",
      "Друга матриця:\n",
      "[[6 4]\n",
      " [1 8]]\n",
      "Поелементне множення через multiply:\n",
      "[[30 16]\n",
      " [ 1 48]]\n",
      "Поелементне множення через *:\n",
      "[[30 16]\n",
      " [ 1 48]]\n"
     ]
    }
   ],
   "source": [
    "a = np.random.randint(1, 11, size=(2, 2))\n",
    "b = np.random.randint(1, 11, size=(2, 2))\n",
    "print(\"Перша матриця:\")\n",
    "print(a)\n",
    "print(\"Друга матриця:\")\n",
    "print(b)\n",
    "\n",
    "print(\"Поелементне множення через multiply:\")\n",
    "result = np.multiply(a, b)\n",
    "print(result)\n",
    "print(\"Поелементне множення через *:\")\n",
    "print(a*b)"
   ]
  },
  {
   "attachments": {},
   "cell_type": "markdown",
   "metadata": {},
   "source": [
    "13. Створіть дві матриці розміром 2x2, заповніть їх випадковими цілими числами в діапазоні від 1 до 10 та знайдіть їх добуток."
   ]
  },
  {
   "cell_type": "code",
   "execution_count": 30,
   "metadata": {},
   "outputs": [
    {
     "name": "stdout",
     "output_type": "stream",
     "text": [
      "Перша матриця:\n",
      "[[5 8]\n",
      " [1 5]]\n",
      "Друга матриця:\n",
      "[[10  4]\n",
      " [ 6 10]]\n",
      "Добуток матриць:\n",
      "[[ 98 100]\n",
      " [ 40  54]]\n"
     ]
    }
   ],
   "source": [
    "a = np.random.randint(1, 11, size=(2, 2))\n",
    "b = np.random.randint(1, 11, size=(2, 2))\n",
    "print(\"Перша матриця:\")\n",
    "print(a)\n",
    "print(\"Друга матриця:\")\n",
    "print(b)\n",
    "\n",
    "print(\"Добуток матриць:\")\n",
    "result = np.dot(a, b)\n",
    "print(result)"
   ]
  },
  {
   "attachments": {},
   "cell_type": "markdown",
   "metadata": {},
   "source": [
    "14. Створіть матрицю розміром 5x5, заповніть її випадковими цілими числами в діапазоні від 1 до 100 та знайдіть суму елементів матриці."
   ]
  },
  {
   "cell_type": "code",
   "execution_count": 32,
   "metadata": {},
   "outputs": [
    {
     "name": "stdout",
     "output_type": "stream",
     "text": [
      "Матриця\n",
      "[[33 35 46 98  3]\n",
      " [35 26 67 92 30]\n",
      " [15 56 56 68 26]\n",
      " [64 95 21  6  2]\n",
      " [66 13 91  9 42]]\n",
      "Сума елементів матриці:\n",
      "1095\n"
     ]
    }
   ],
   "source": [
    "a = np.random.randint(1, 101, size=(5, 5))\n",
    "sum_a = np.sum(a)\n",
    "print(\"Матриця\")\n",
    "print(a)\n",
    "print(\"Сума елементів матриці:\")\n",
    "print(sum_a)"
   ]
  },
  {
   "attachments": {},
   "cell_type": "markdown",
   "metadata": {},
   "source": [
    "15. Створіть дві матриці розміром 4x4, заповніть їх випадковими цілими числами в діапазоні від 1 до 10 та знайдіть їхню різницю."
   ]
  },
  {
   "cell_type": "code",
   "execution_count": 33,
   "metadata": {},
   "outputs": [
    {
     "name": "stdout",
     "output_type": "stream",
     "text": [
      "Перша матриця:\n",
      "[[ 5  3  5  7]\n",
      " [ 9  5  3  2]\n",
      " [ 1  7  6  6]\n",
      " [ 6  9 10  9]]\n",
      "Друга матриця:\n",
      "[[ 6  2 10  3]\n",
      " [ 9  4  7  3]\n",
      " [ 7  1  7  6]\n",
      " [ 2  9  8  5]]\n",
      "Різниця матриць:\n",
      "[[-1  1 -5  4]\n",
      " [ 0  1 -4 -1]\n",
      " [-6  6 -1  0]\n",
      " [ 4  0  2  4]]\n"
     ]
    }
   ],
   "source": [
    "a = np.random.randint(1, 11, size=(4, 4))\n",
    "b = np.random.randint(1, 11, size=(4, 4))\n",
    "print(\"Перша матриця:\")\n",
    "print(a)\n",
    "print(\"Друга матриця:\")\n",
    "print(b)\n",
    "\n",
    "result = a - b\n",
    "print(\"Різниця матриць:\")\n",
    "print(result)"
   ]
  },
  {
   "attachments": {},
   "cell_type": "markdown",
   "metadata": {},
   "source": [
    "16. Створіть матрицю розміром 3x3, заповніть її випадковими дійсними числами в діапазоні від 0 до 1 та знайдіть вектор-стовпчик, що містить суму елементів кожного рядка матриці."
   ]
  },
  {
   "cell_type": "code",
   "execution_count": 34,
   "metadata": {},
   "outputs": [
    {
     "name": "stdout",
     "output_type": "stream",
     "text": [
      "Матриця:\n",
      "[[0.93691243 0.87759296 0.8300773 ]\n",
      " [0.10116688 0.39740299 0.30359529]\n",
      " [0.44538679 0.20820476 0.64165348]]\n",
      "Вектор-стовпчик з сумами елементів кожного рядка:\n",
      "[[2.64458269]\n",
      " [0.80216515]\n",
      " [1.29524503]]\n"
     ]
    }
   ],
   "source": [
    "a = np.random.rand(3, 3)\n",
    "print(\"Матриця:\")\n",
    "print(a)\n",
    "\n",
    "# Обчислення сум елементів кожного рядка матриці\n",
    "row_sums = a.sum(axis=1)\n",
    "\n",
    "# Перетворення одновимірного масиву на вектор-стовпчик\n",
    "col_vec = row_sums.reshape((-1, 1))\n",
    "\n",
    "print(\"Вектор-стовпчик з сумами елементів кожного рядка:\")\n",
    "print(col_vec)"
   ]
  },
  {
   "attachments": {},
   "cell_type": "markdown",
   "metadata": {},
   "source": [
    "17. Створіть матрицю розміром 3x4 з довільними цілими числами і створінь матрицю з квадратами цих чисел. "
   ]
  },
  {
   "cell_type": "code",
   "execution_count": 35,
   "metadata": {},
   "outputs": [
    {
     "name": "stdout",
     "output_type": "stream",
     "text": [
      "Матриця:\n",
      "[[ 2  3  9 10]\n",
      " [ 8  4  9  7]\n",
      " [ 6  8  8  9]]\n",
      "Квадрати значень матриці:\n",
      "[[  4   9  81 100]\n",
      " [ 64  16  81  49]\n",
      " [ 36  64  64  81]]\n"
     ]
    }
   ],
   "source": [
    "a = np.random.randint(1, 11, size=(3, 4))\n",
    "print(\"Матриця:\")\n",
    "print(a)\n",
    "\n",
    "print(\"Квадрати значень матриці:\")\n",
    "squares = np.power(a, 2)\n",
    "print(squares)"
   ]
  },
  {
   "attachments": {},
   "cell_type": "markdown",
   "metadata": {},
   "source": [
    "18. Створіть вектор розміром 4, заповніть його випадковими цілими числами в діапазоні від 1 до 50 та знайдіть вектор з квадратними коренями цих чисел."
   ]
  },
  {
   "cell_type": "code",
   "execution_count": 38,
   "metadata": {},
   "outputs": [
    {
     "name": "stdout",
     "output_type": "stream",
     "text": [
      "Вихідний вектор [10 20 18 19]\n",
      "Вектор з квадратими коренями: [3.16227766 4.47213595 4.24264069 4.35889894]\n"
     ]
    }
   ],
   "source": [
    "vect = np.random.randint(1, 50, size=4)\n",
    "print(\"Вихідний вектор\", vect)\n",
    "\n",
    "sqrt_vect = np.sqrt(vect)\n",
    "print(\"Вектор з квадратими коренями:\", sqrt_vect)"
   ]
  }
 ],
 "metadata": {
  "kernelspec": {
   "display_name": "Python 3.11.3 64-bit",
   "language": "python",
   "name": "python3"
  },
  "language_info": {
   "codemirror_mode": {
    "name": "ipython",
    "version": 3
   },
   "file_extension": ".py",
   "mimetype": "text/x-python",
   "name": "python",
   "nbconvert_exporter": "python",
   "pygments_lexer": "ipython3",
   "version": "3.11.3"
  },
  "orig_nbformat": 4,
  "vscode": {
   "interpreter": {
    "hash": "76ceb58c21b99c2491334cdcafb587b4d8bfb2e77a21510cb70e942a1c357109"
   }
  }
 },
 "nbformat": 4,
 "nbformat_minor": 2
}
