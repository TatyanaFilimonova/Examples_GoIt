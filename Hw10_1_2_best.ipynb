{
 "cells": [
  {
   "cell_type": "markdown",
   "metadata": {
    "id": "tTqhmTcBCD8m"
   },
   "source": [
    "# Дослідження датасету Fashion MNIST з допомогою згорткових нейронний мереж"
   ]
  },
  {
   "cell_type": "code",
   "execution_count": 1,
   "metadata": {
    "id": "CYgOBsDDC8TR"
   },
   "outputs": [],
   "source": [
    "import tensorflow as tf\n",
    "import numpy as np\n",
    "import pandas as pd\n",
    "import matplotlib.pyplot as plt\n",
    "import keras as K\n",
    "from sklearn.metrics import classification_report\n",
    "from keras.datasets import fashion_mnist\n",
    "from keras.models import Sequential\n",
    "from keras.layers import Dense, Flatten, Dropout, Conv2D, MaxPooling2D, BatchNormalization, LayerNormalization\n",
    "from keras import optimizers\n",
    "from keras import losses\n",
    "from keras import metrics\n",
    "from keras.callbacks import ModelCheckpoint\n",
    "from keras.applications.vgg16 import VGG16\n",
    "from keras.preprocessing.image import img_to_array, array_to_img\n",
    "from keras.callbacks import ModelCheckpoint"
   ]
  },
  {
   "cell_type": "markdown",
   "metadata": {
    "id": "NH6JW3qPCaB9"
   },
   "source": [
    "## Завантажуємо датасет"
   ]
  },
  {
   "cell_type": "code",
   "execution_count": 2,
   "metadata": {
    "id": "4KLb49-LGMeo"
   },
   "outputs": [],
   "source": [
    "(train_images, train_labels), (test_images, test_labels) = fashion_mnist.load_data()\n",
    "random_seed = 42\n",
    "tf.random.set_seed(random_seed)"
   ]
  },
  {
   "cell_type": "markdown",
   "metadata": {
    "id": "riScZUpLChd_"
   },
   "source": [
    "## Підготуємо дані для VGG16. Для цього картинки треба збільшити. Хоча мінімально допустимий розмір 32х32 ми поекспериментуємо з розмірами 48х48 та 100х100"
   ]
  },
  {
   "cell_type": "code",
   "execution_count": 3,
   "metadata": {
    "id": "O_ze_hmnES2u"
   },
   "outputs": [],
   "source": [
    "#vgg_image_size = 32\n",
    "vgg_image_size = 100\n",
    "\n",
    "vgg_train_images = np.dstack([train_images] * 3).reshape((60000, 28, 28, 3))\n",
    "vgg_train_images = vgg_train_images.astype(\"float32\") / 255\n",
    "vgg_test_images = np.dstack([test_images] * 3).reshape((10000, 28, 28, 3))\n",
    "vgg_test_images = vgg_test_images.astype(\"float32\") / 255\n",
    "\n",
    "vgg_train_images = tf.image.resize(vgg_train_images, [vgg_image_size, vgg_image_size])\n",
    "vgg_test_images = tf.image.resize(vgg_test_images, [vgg_image_size, vgg_image_size])\n",
    "\n",
    "vgg_x_val = vgg_train_images[:10000]\n",
    "vgg_x_train = vgg_train_images[10000:]"
   ]
  },
  {
   "cell_type": "markdown",
   "metadata": {
    "id": "nM4SakW9DB9U"
   },
   "source": [
    "## Підготуємо дані для нашої власної CNN"
   ]
  },
  {
   "cell_type": "code",
   "execution_count": 4,
   "metadata": {
    "id": "Cl9JwW5WK0Jc"
   },
   "outputs": [],
   "source": [
    "train_images = train_images.reshape((60000, 28, 28, 1))\n",
    "train_images = train_images.astype(\"float32\") / 255\n",
    "test_images = test_images.reshape((10000, 28, 28, 1))\n",
    "test_images = test_images.astype(\"float32\") / 255\n",
    "\n",
    "x_val = train_images[:10000]\n",
    "x_train = train_images[10000:]\n",
    "\n",
    "y_val = train_labels[:10000]\n",
    "y_train = train_labels[10000:]"
   ]
  },
  {
   "cell_type": "markdown",
   "metadata": {
    "id": "-SyldvBeDmr9"
   },
   "source": [
    "## За основу візьмемо мережу з двома згортковими шарами та одним повнозв'язним і будемо її покращувати"
   ]
  },
  {
   "cell_type": "code",
   "execution_count": 34,
   "metadata": {
    "id": "2IdV98FoDrv8"
   },
   "outputs": [],
   "source": [
    "model = Sequential([\n",
    "    Conv2D(32, (3, 3), activation=\"relu\", input_shape=(28, 28, 1)),\n",
    "    MaxPooling2D((2, 2)),\n",
    "\n",
    "    Conv2D(64, (3, 3), activation=\"relu\"),\n",
    "    MaxPooling2D((2, 2)),\n",
    "\n",
    "    Flatten(),\n",
    "    Dense(64, activation=\"relu\"),\n",
    "\n",
    "    Dense(10, activation=\"softmax\")\n",
    "])"
   ]
  },
  {
   "cell_type": "code",
   "execution_count": 35,
   "metadata": {
    "colab": {
     "base_uri": "https://localhost:8080/"
    },
    "id": "kUpHYjMJEz6-",
    "outputId": "7c99cb30-10a0-47b4-d000-055e9012f2e3"
   },
   "outputs": [
    {
     "name": "stdout",
     "output_type": "stream",
     "text": [
      "Epoch 1/10\n",
      "938/938 [==============================] - 4s 3ms/step - loss: 0.5236 - accuracy: 0.8106\n",
      "Epoch 2/10\n",
      "938/938 [==============================] - 3s 3ms/step - loss: 0.3475 - accuracy: 0.8739\n",
      "Epoch 3/10\n",
      "938/938 [==============================] - 3s 3ms/step - loss: 0.2996 - accuracy: 0.8914\n",
      "Epoch 4/10\n",
      "938/938 [==============================] - 3s 3ms/step - loss: 0.2665 - accuracy: 0.9031\n",
      "Epoch 5/10\n",
      "938/938 [==============================] - 3s 3ms/step - loss: 0.2431 - accuracy: 0.9122\n",
      "Epoch 6/10\n",
      "938/938 [==============================] - 3s 3ms/step - loss: 0.2186 - accuracy: 0.9204\n",
      "Epoch 7/10\n",
      "938/938 [==============================] - 3s 3ms/step - loss: 0.2034 - accuracy: 0.9254\n",
      "Epoch 8/10\n",
      "938/938 [==============================] - 3s 3ms/step - loss: 0.1853 - accuracy: 0.9320\n",
      "Epoch 9/10\n",
      "938/938 [==============================] - 3s 3ms/step - loss: 0.1714 - accuracy: 0.9362\n",
      "Epoch 10/10\n",
      "938/938 [==============================] - 3s 3ms/step - loss: 0.1604 - accuracy: 0.9406\n",
      "313/313 [==============================] - 1s 2ms/step - loss: 0.2716 - accuracy: 0.9093\n"
     ]
    }
   ],
   "source": [
    "model.compile(\n",
    "    optimizer=\"adam\",\n",
    "    loss=\"sparse_categorical_crossentropy\",\n",
    "    metrics=[\"accuracy\"]\n",
    ")\n",
    "model.fit(train_images, train_labels, epochs=10, batch_size=64)\n",
    "\n",
    "test_loss, test_acc = model.evaluate(test_images, test_labels)"
   ]
  },
  {
   "cell_type": "markdown",
   "metadata": {
    "id": "cnmrc_PvEGsV"
   },
   "source": [
    "## Відразу маємо непогану точність 91%, але збільшимо кількість нейронів у повнозв'язному шарі до 128"
   ]
  },
  {
   "cell_type": "code",
   "execution_count": 36,
   "metadata": {
    "id": "dUgn8az-Gi5-"
   },
   "outputs": [],
   "source": [
    "model_2 = Sequential([\n",
    "    Conv2D(32, (3, 3), padding='same', activation=\"relu\", input_shape=(28, 28, 1)),\n",
    "    MaxPooling2D((2, 2)),\n",
    "\n",
    "    Conv2D(64, (3, 3), padding='same', activation=\"relu\"),\n",
    "    MaxPooling2D((2, 2)),\n",
    "\n",
    "    Flatten(),\n",
    "    Dense(128, activation=\"relu\"),\n",
    "    Dropout(0.3),\n",
    "    Dense(10, activation=\"softmax\")\n",
    "])"
   ]
  },
  {
   "cell_type": "code",
   "execution_count": 37,
   "metadata": {
    "colab": {
     "base_uri": "https://localhost:8080/"
    },
    "id": "GFsRLHRrHZu8",
    "outputId": "fffc30d8-7ba9-436e-a293-b1e990223a9d"
   },
   "outputs": [
    {
     "name": "stdout",
     "output_type": "stream",
     "text": [
      "Epoch 1/15\n",
      "782/782 [==============================] - 4s 4ms/step - loss: 0.5049 - accuracy: 0.8196 - val_loss: 0.3324 - val_accuracy: 0.8774\n",
      "Epoch 2/15\n",
      "782/782 [==============================] - 3s 4ms/step - loss: 0.3277 - accuracy: 0.8826 - val_loss: 0.2741 - val_accuracy: 0.8987\n",
      "Epoch 3/15\n",
      "782/782 [==============================] - 3s 3ms/step - loss: 0.2774 - accuracy: 0.8987 - val_loss: 0.2518 - val_accuracy: 0.9088\n",
      "Epoch 4/15\n",
      "782/782 [==============================] - 3s 3ms/step - loss: 0.2457 - accuracy: 0.9102 - val_loss: 0.2458 - val_accuracy: 0.9131\n",
      "Epoch 5/15\n",
      "782/782 [==============================] - 3s 4ms/step - loss: 0.2209 - accuracy: 0.9184 - val_loss: 0.2198 - val_accuracy: 0.9200\n",
      "Epoch 6/15\n",
      "782/782 [==============================] - 3s 4ms/step - loss: 0.2021 - accuracy: 0.9248 - val_loss: 0.2153 - val_accuracy: 0.9215\n",
      "Epoch 7/15\n",
      "782/782 [==============================] - 3s 3ms/step - loss: 0.1829 - accuracy: 0.9320 - val_loss: 0.2116 - val_accuracy: 0.9241\n",
      "Epoch 8/15\n",
      "782/782 [==============================] - 3s 3ms/step - loss: 0.1667 - accuracy: 0.9376 - val_loss: 0.2131 - val_accuracy: 0.9230\n",
      "Epoch 9/15\n",
      "782/782 [==============================] - 3s 4ms/step - loss: 0.1486 - accuracy: 0.9449 - val_loss: 0.2187 - val_accuracy: 0.9225\n"
     ]
    },
    {
     "data": {
      "text/plain": [
       "<keras.src.callbacks.History at 0x79af04bd56c0>"
      ]
     },
     "execution_count": 37,
     "metadata": {},
     "output_type": "execute_result"
    }
   ],
   "source": [
    "model_2.compile(\n",
    "    optimizer=\"adam\",\n",
    "    loss=\"sparse_categorical_crossentropy\",\n",
    "    metrics=[\"accuracy\"]\n",
    ")\n",
    "early_stop = K.callbacks.EarlyStopping(monitor='val_loss', patience=2, restore_best_weights=True)\n",
    "model_2.fit(x_train, y_train, epochs=15, batch_size=64, validation_data=(x_val, y_val), callbacks=[early_stop])"
   ]
  },
  {
   "cell_type": "code",
   "execution_count": 38,
   "metadata": {
    "colab": {
     "base_uri": "https://localhost:8080/"
    },
    "id": "eXY739fAKNQb",
    "outputId": "0721b1a0-ed1c-4c1a-b12a-a2744d4db0b4"
   },
   "outputs": [
    {
     "name": "stdout",
     "output_type": "stream",
     "text": [
      "313/313 [==============================] - 1s 2ms/step - loss: 0.2377 - accuracy: 0.9161\n"
     ]
    }
   ],
   "source": [
    "test_loss, test_acc = model_2.evaluate(test_images, test_labels)"
   ]
  },
  {
   "cell_type": "markdown",
   "metadata": {
    "id": "2Ye9jmKiF0HW"
   },
   "source": [
    "## Результат дещо покращився, можливо варто збільшити кількість нейронів до 256. Будемо використовувати валідацію та ранню зупинку. Далі використовуватимемо оптимізатор Lion - чудово виконує свою роботу"
   ]
  },
  {
   "cell_type": "code",
   "execution_count": 39,
   "metadata": {
    "id": "a4tcJkLPKWZI"
   },
   "outputs": [],
   "source": [
    "model_3 = Sequential([\n",
    "    Conv2D(32, (3, 3), padding='same', activation=\"relu\", input_shape=(28, 28, 1)),\n",
    "    MaxPooling2D((2, 2)),\n",
    "\n",
    "    Conv2D(64, (3, 3), padding='same', activation=\"relu\"),\n",
    "    MaxPooling2D((2, 2)),\n",
    "\n",
    "    Flatten(),\n",
    "    Dense(256, activation=\"relu\"),\n",
    "    Dropout(0.5),\n",
    "    Dense(10, activation=\"softmax\")\n",
    "])"
   ]
  },
  {
   "cell_type": "code",
   "execution_count": 40,
   "metadata": {
    "colab": {
     "base_uri": "https://localhost:8080/"
    },
    "id": "6x3ELtdFKrjE",
    "outputId": "ef36fb70-f864-46aa-ae52-c1b234574a04"
   },
   "outputs": [
    {
     "name": "stdout",
     "output_type": "stream",
     "text": [
      "Epoch 1/15\n",
      "391/391 [==============================] - 3s 4ms/step - loss: 0.8390 - accuracy: 0.7091 - val_loss: 0.4423 - val_accuracy: 0.8390\n",
      "Epoch 2/15\n",
      "391/391 [==============================] - 1s 4ms/step - loss: 0.4298 - accuracy: 0.8471 - val_loss: 0.3358 - val_accuracy: 0.8804\n",
      "Epoch 3/15\n",
      "391/391 [==============================] - 1s 4ms/step - loss: 0.3560 - accuracy: 0.8723 - val_loss: 0.2991 - val_accuracy: 0.8928\n",
      "Epoch 4/15\n",
      "391/391 [==============================] - 1s 4ms/step - loss: 0.3190 - accuracy: 0.8853 - val_loss: 0.2781 - val_accuracy: 0.8999\n",
      "Epoch 5/15\n",
      "391/391 [==============================] - 1s 4ms/step - loss: 0.2934 - accuracy: 0.8933 - val_loss: 0.2570 - val_accuracy: 0.9076\n",
      "Epoch 6/15\n",
      "391/391 [==============================] - 1s 4ms/step - loss: 0.2757 - accuracy: 0.9004 - val_loss: 0.2467 - val_accuracy: 0.9121\n",
      "Epoch 7/15\n",
      "391/391 [==============================] - 1s 4ms/step - loss: 0.2596 - accuracy: 0.9075 - val_loss: 0.2364 - val_accuracy: 0.9113\n",
      "Epoch 8/15\n",
      "391/391 [==============================] - 1s 4ms/step - loss: 0.2468 - accuracy: 0.9099 - val_loss: 0.2295 - val_accuracy: 0.9171\n",
      "Epoch 9/15\n",
      "391/391 [==============================] - 1s 4ms/step - loss: 0.2306 - accuracy: 0.9168 - val_loss: 0.2203 - val_accuracy: 0.9211\n",
      "Epoch 10/15\n",
      "391/391 [==============================] - 1s 4ms/step - loss: 0.2195 - accuracy: 0.9194 - val_loss: 0.2154 - val_accuracy: 0.9208\n",
      "Epoch 11/15\n",
      "391/391 [==============================] - 1s 4ms/step - loss: 0.2100 - accuracy: 0.9238 - val_loss: 0.2160 - val_accuracy: 0.9219\n",
      "Epoch 12/15\n",
      "391/391 [==============================] - 1s 4ms/step - loss: 0.1994 - accuracy: 0.9284 - val_loss: 0.2057 - val_accuracy: 0.9263\n",
      "Epoch 13/15\n",
      "391/391 [==============================] - 1s 4ms/step - loss: 0.1889 - accuracy: 0.9297 - val_loss: 0.2064 - val_accuracy: 0.9254\n",
      "Epoch 14/15\n",
      "391/391 [==============================] - 1s 4ms/step - loss: 0.1812 - accuracy: 0.9338 - val_loss: 0.2024 - val_accuracy: 0.9284\n",
      "Epoch 15/15\n",
      "391/391 [==============================] - 1s 4ms/step - loss: 0.1719 - accuracy: 0.9354 - val_loss: 0.2100 - val_accuracy: 0.9263\n",
      "313/313 [==============================] - 1s 2ms/step - loss: 0.2293 - accuracy: 0.9206\n"
     ]
    }
   ],
   "source": [
    "model_3.compile(\n",
    "    optimizer=tf.keras.optimizers.Lion(),\n",
    "    loss=\"sparse_categorical_crossentropy\",\n",
    "    metrics=[\"accuracy\"]\n",
    ")\n",
    "early_stop = K.callbacks.EarlyStopping(monitor='val_loss', patience=2, restore_best_weights=True)\n",
    "model_3.fit(x_train, y_train, epochs=15, batch_size=128, validation_data=(x_val, y_val), callbacks=[early_stop])\n",
    "\n",
    "test_loss, test_acc = model_3.evaluate(test_images, test_labels)"
   ]
  },
  {
   "cell_type": "code",
   "execution_count": 41,
   "metadata": {
    "colab": {
     "base_uri": "https://localhost:8080/"
    },
    "id": "knekZvh_p1kA",
    "outputId": "ae5336b1-e527-4892-fef1-b73c9b13f2ac"
   },
   "outputs": [
    {
     "name": "stdout",
     "output_type": "stream",
     "text": [
      "313/313 [==============================] - 1s 1ms/step\n",
      "              precision    recall  f1-score   support\n",
      "\n",
      " T-shirt/top       0.86      0.89      0.88      1000\n",
      "     Trouser       0.99      0.98      0.99      1000\n",
      "    Pullover       0.89      0.87      0.88      1000\n",
      "       Dress       0.90      0.94      0.92      1000\n",
      "        Coat       0.87      0.87      0.87      1000\n",
      "      Sandal       0.99      0.98      0.99      1000\n",
      "       Shirt       0.78      0.75      0.76      1000\n",
      "     Sneaker       0.94      0.99      0.97      1000\n",
      "         Bag       0.99      0.98      0.98      1000\n",
      "  Ankle boot       0.99      0.95      0.97      1000\n",
      "\n",
      "    accuracy                           0.92     10000\n",
      "   macro avg       0.92      0.92      0.92     10000\n",
      "weighted avg       0.92      0.92      0.92     10000\n",
      "\n"
     ]
    }
   ],
   "source": [
    "class_labels=['T-shirt/top', 'Trouser', 'Pullover', 'Dress', 'Coat',\n",
    "        'Sandal', 'Shirt', 'Sneaker', 'Bag', 'Ankle boot']\n",
    "y_pred = tf.argmax(model_3.predict(test_images), axis=1)\n",
    "print(classification_report(test_labels, y_pred, target_names=class_labels))"
   ]
  },
  {
   "cell_type": "markdown",
   "metadata": {
    "id": "hD0-4Y_UGVgk"
   },
   "source": [
    "## Наш поточний результат 92%, додамо нормалізацію для згорткових шарів, щоб пришвидшити навчання, та збільшимо розмір батча до 256"
   ]
  },
  {
   "cell_type": "code",
   "execution_count": 50,
   "metadata": {
    "colab": {
     "base_uri": "https://localhost:8080/"
    },
    "id": "P4qp6b-1v41g",
    "outputId": "2672089f-5e3c-4398-aee9-c07b6424cce4"
   },
   "outputs": [
    {
     "name": "stdout",
     "output_type": "stream",
     "text": [
      "Epoch 1/15\n",
      "196/196 [==============================] - 2s 6ms/step - loss: 0.6408 - accuracy: 0.7816 - val_loss: 5.2135 - val_accuracy: 0.4060\n",
      "Epoch 2/15\n",
      "196/196 [==============================] - 1s 5ms/step - loss: 0.3591 - accuracy: 0.8735 - val_loss: 1.4331 - val_accuracy: 0.7264\n",
      "Epoch 3/15\n",
      "196/196 [==============================] - 1s 5ms/step - loss: 0.2994 - accuracy: 0.8916 - val_loss: 0.3369 - val_accuracy: 0.8836\n",
      "Epoch 4/15\n",
      "196/196 [==============================] - 1s 5ms/step - loss: 0.2574 - accuracy: 0.9057 - val_loss: 0.2449 - val_accuracy: 0.9112\n",
      "Epoch 5/15\n",
      "196/196 [==============================] - 1s 5ms/step - loss: 0.2358 - accuracy: 0.9142 - val_loss: 0.2259 - val_accuracy: 0.9204\n",
      "Epoch 6/15\n",
      "196/196 [==============================] - 1s 5ms/step - loss: 0.2127 - accuracy: 0.9214 - val_loss: 0.2160 - val_accuracy: 0.9255\n",
      "Epoch 7/15\n",
      "196/196 [==============================] - 1s 5ms/step - loss: 0.1956 - accuracy: 0.9275 - val_loss: 0.2123 - val_accuracy: 0.9270\n",
      "Epoch 8/15\n",
      "196/196 [==============================] - 1s 5ms/step - loss: 0.1799 - accuracy: 0.9328 - val_loss: 0.2230 - val_accuracy: 0.9217\n",
      "Epoch 9/15\n",
      "196/196 [==============================] - 1s 5ms/step - loss: 0.1644 - accuracy: 0.9392 - val_loss: 0.2180 - val_accuracy: 0.9260\n",
      "Epoch 10/15\n",
      "196/196 [==============================] - 1s 5ms/step - loss: 0.1526 - accuracy: 0.9417 - val_loss: 0.2319 - val_accuracy: 0.9251\n",
      "Epoch 11/15\n",
      "196/196 [==============================] - 1s 5ms/step - loss: 0.1440 - accuracy: 0.9455 - val_loss: 0.2413 - val_accuracy: 0.9230\n",
      "313/313 [==============================] - 1s 2ms/step - loss: 0.2349 - accuracy: 0.9198\n"
     ]
    }
   ],
   "source": [
    "model_4 = Sequential([\n",
    "    Conv2D(32, (3, 3), padding='same', activation=\"relu\", input_shape=(28, 28, 1)),\n",
    "    BatchNormalization(),\n",
    "    MaxPooling2D((2, 2)),\n",
    "\n",
    "    Conv2D(64, (3, 3), padding='same', activation=\"relu\"),\n",
    "    BatchNormalization(),\n",
    "    MaxPooling2D((2, 2)),\n",
    "\n",
    "    Flatten(),\n",
    "    Dense(256, activation=\"relu\"),\n",
    "    Dropout(0.5),\n",
    "    Dense(10, activation=\"softmax\")\n",
    "])\n",
    "model_4.compile(\n",
    "    optimizer=tf.keras.optimizers.Lion(),\n",
    "    loss=\"sparse_categorical_crossentropy\",\n",
    "    metrics=[\"accuracy\"]\n",
    ")\n",
    "early_stop = K.callbacks.EarlyStopping(monitor='val_loss', patience=4, restore_best_weights=True)\n",
    "model_4.fit(x_train, y_train, epochs=15, batch_size=256, validation_data=(x_val, y_val), callbacks=[early_stop])\n",
    "\n",
    "test_loss, test_acc = model_4.evaluate(test_images, test_labels)"
   ]
  },
  {
   "cell_type": "markdown",
   "metadata": {
    "id": "8eeYChrGH2o2"
   },
   "source": [
    "## За 7 епох замість 15 досягаємо точності в 92%. Наступний крок додати згорткових шарів. Маю припущення що через невеликий розмір зображеннь основний приріст якості матимемо від верхніх шарів. Перевіримо.."
   ]
  },
  {
   "cell_type": "code",
   "execution_count": 51,
   "metadata": {
    "colab": {
     "base_uri": "https://localhost:8080/"
    },
    "id": "EKJCFihy6xjg",
    "outputId": "7bbe02c1-a25c-4463-e88d-11f675fb32b7"
   },
   "outputs": [
    {
     "name": "stdout",
     "output_type": "stream",
     "text": [
      "Epoch 1/40\n",
      "196/196 [==============================] - 4s 11ms/step - loss: 0.6399 - accuracy: 0.7845 - val_loss: 2.3623 - val_accuracy: 0.1826\n",
      "Epoch 2/40\n",
      " 15/196 [=>............................] - ETA: 1s - loss: 0.3849 - accuracy: 0.8586"
     ]
    },
    {
     "name": "stderr",
     "output_type": "stream",
     "text": [
      "/usr/local/lib/python3.10/dist-packages/keras/src/engine/training.py:3103: UserWarning: You are saving your model as an HDF5 file via `model.save()`. This file format is considered legacy. We recommend using instead the native Keras format, e.g. `model.save('my_model.keras')`.\n",
      "  saving_api.save_model(\n"
     ]
    },
    {
     "name": "stdout",
     "output_type": "stream",
     "text": [
      "196/196 [==============================] - 2s 9ms/step - loss: 0.3334 - accuracy: 0.8805 - val_loss: 1.2423 - val_accuracy: 0.5809\n",
      "Epoch 3/40\n",
      "196/196 [==============================] - 2s 9ms/step - loss: 0.2754 - accuracy: 0.8997 - val_loss: 0.3620 - val_accuracy: 0.8586\n",
      "Epoch 4/40\n",
      "196/196 [==============================] - 2s 9ms/step - loss: 0.2440 - accuracy: 0.9124 - val_loss: 0.2334 - val_accuracy: 0.9108\n",
      "Epoch 5/40\n",
      "196/196 [==============================] - 2s 9ms/step - loss: 0.2162 - accuracy: 0.9195 - val_loss: 0.2123 - val_accuracy: 0.9197\n",
      "Epoch 6/40\n",
      "196/196 [==============================] - 2s 9ms/step - loss: 0.1961 - accuracy: 0.9292 - val_loss: 0.2194 - val_accuracy: 0.9240\n",
      "Epoch 7/40\n",
      "196/196 [==============================] - 2s 9ms/step - loss: 0.1802 - accuracy: 0.9335 - val_loss: 0.2068 - val_accuracy: 0.9262\n",
      "Epoch 8/40\n",
      "196/196 [==============================] - 2s 9ms/step - loss: 0.1627 - accuracy: 0.9391 - val_loss: 0.2077 - val_accuracy: 0.9241\n",
      "Epoch 9/40\n",
      "196/196 [==============================] - 2s 9ms/step - loss: 0.1509 - accuracy: 0.9433 - val_loss: 0.2086 - val_accuracy: 0.9289\n",
      "Epoch 10/40\n",
      "196/196 [==============================] - 2s 9ms/step - loss: 0.1402 - accuracy: 0.9474 - val_loss: 0.2028 - val_accuracy: 0.9320\n",
      "Epoch 11/40\n",
      "196/196 [==============================] - 2s 9ms/step - loss: 0.1268 - accuracy: 0.9511 - val_loss: 0.2279 - val_accuracy: 0.9260\n",
      "Epoch 12/40\n",
      "196/196 [==============================] - 2s 9ms/step - loss: 0.1190 - accuracy: 0.9553 - val_loss: 0.2232 - val_accuracy: 0.9270\n",
      "Epoch 13/40\n",
      "196/196 [==============================] - 2s 9ms/step - loss: 0.1067 - accuracy: 0.9587 - val_loss: 0.2326 - val_accuracy: 0.9342\n",
      "Epoch 14/40\n",
      "196/196 [==============================] - 2s 9ms/step - loss: 0.1008 - accuracy: 0.9624 - val_loss: 0.2550 - val_accuracy: 0.9275\n",
      "Epoch 15/40\n",
      "196/196 [==============================] - 2s 9ms/step - loss: 0.0917 - accuracy: 0.9644 - val_loss: 0.2397 - val_accuracy: 0.9312\n",
      "313/313 [==============================] - 1s 2ms/step - loss: 0.2611 - accuracy: 0.9297\n"
     ]
    }
   ],
   "source": [
    "model_5 = Sequential([\n",
    "    Conv2D(32, (3, 3), padding='same', activation=\"relu\", input_shape=(28, 28, 1)),\n",
    "    BatchNormalization(),\n",
    "    Conv2D(32, (3,3), padding='same', activation=\"relu\"),\n",
    "    BatchNormalization(),\n",
    "    MaxPooling2D((2, 2)),\n",
    "\n",
    "    Conv2D(64, (3, 3), padding='same', activation=\"relu\"),\n",
    "    BatchNormalization(),\n",
    "    Conv2D(64, (3, 3), padding='same', activation=\"relu\"),\n",
    "    BatchNormalization(),\n",
    "    MaxPooling2D((2, 2)),\n",
    "\n",
    "    Flatten(),\n",
    "    Dense(256, activation=\"relu\"),\n",
    "    Dropout(0.5),\n",
    "    Dense(10, activation=\"softmax\")\n",
    "])\n",
    "model_5.compile(\n",
    "    optimizer=tf.keras.optimizers.Lion(),\n",
    "    loss=\"sparse_categorical_crossentropy\",\n",
    "    metrics=[\"accuracy\"]\n",
    ")\n",
    "checkpoint = ModelCheckpoint('model_5.h5', monitor='val_accuracy', mode='max', save_best_only=True, verbose=0)\n",
    "early_stop = K.callbacks.EarlyStopping(monitor='val_loss', patience=5, restore_best_weights=True)\n",
    "history = model_5.fit(x_train, y_train, epochs=40, batch_size=256, validation_data=(x_val, y_val), callbacks=[checkpoint, early_stop])\n",
    "\n",
    "best_model = tf.keras.models.load_model('model_5.h5')\n",
    "test_loss, test_acc = best_model.evaluate(test_images, test_labels)"
   ]
  },
  {
   "cell_type": "code",
   "execution_count": 52,
   "metadata": {
    "colab": {
     "base_uri": "https://localhost:8080/",
     "height": 944
    },
    "id": "ihUumw-k776Q",
    "outputId": "3ac21021-1323-4fca-f5a1-0376971b045d"
   },
   "outputs": [
    {
     "data": {
      "image/png": "[encoded data removed]",
      "text/plain": [
       "<Figure size 640x480 with 1 Axes>"
      ]
     },
     "metadata": {},
     "output_type": "display_data"
    },
    {
     "data": {
      "text/plain": [
       "<matplotlib.legend.Legend at 0x79af196a65f0>"
      ]
     },
     "execution_count": 52,
     "metadata": {},
     "output_type": "execute_result"
    },
    {
     "data": {
      "image/png": "[encoded data removed]",
      "text/plain": [
       "<Figure size 640x480 with 1 Axes>"
      ]
     },
     "metadata": {},
     "output_type": "display_data"
    }
   ],
   "source": [
    "history_dict = history.history\n",
    "loss_values = history_dict['loss']\n",
    "val_loss_values = history_dict['val_loss']\n",
    "\n",
    "epochs = range(1, len(history_dict['accuracy']) + 1)\n",
    "\n",
    "plt.plot(epochs, loss_values, 'bo', label='Training loss')\n",
    "plt.plot(epochs, val_loss_values, 'b', label='Validation loss')\n",
    "plt.title('Training and validation loss')\n",
    "plt.xlabel('Epochs')\n",
    "plt.ylabel('Loss')\n",
    "plt.legend()\n",
    "plt.show()\n",
    "\n",
    "plt.clf()\n",
    "val_acc_values = history_dict['val_accuracy']\n",
    "plt.plot(epochs, history_dict['accuracy'], 'bo', label='Training acc')\n",
    "plt.plot(epochs, history_dict['val_accuracy'], 'b', label='Validation acc')\n",
    "plt.title('Training and validation accuracy')\n",
    "plt.xlabel('Epochs')\n",
    "plt.ylabel('Loss')\n",
    "plt.legend()"
   ]
  },
  {
   "cell_type": "code",
   "execution_count": 53,
   "metadata": {
    "colab": {
     "base_uri": "https://localhost:8080/"
    },
    "id": "YxOOmAj_8Ke4",
    "outputId": "ccf02636-6155-4b9b-ce31-c6f9d4fd6aff"
   },
   "outputs": [
    {
     "name": "stdout",
     "output_type": "stream",
     "text": [
      "313/313 [==============================] - 1s 2ms/step\n",
      "              precision    recall  f1-score   support\n",
      "\n",
      " T-shirt/top       0.88      0.87      0.88      1000\n",
      "     Trouser       0.99      0.98      0.99      1000\n",
      "    Pullover       0.91      0.89      0.90      1000\n",
      "       Dress       0.90      0.95      0.92      1000\n",
      "        Coat       0.88      0.91      0.89      1000\n",
      "      Sandal       0.99      0.99      0.99      1000\n",
      "       Shirt       0.81      0.77      0.79      1000\n",
      "     Sneaker       0.96      0.98      0.97      1000\n",
      "         Bag       0.99      0.99      0.99      1000\n",
      "  Ankle boot       0.98      0.96      0.97      1000\n",
      "\n",
      "    accuracy                           0.93     10000\n",
      "   macro avg       0.93      0.93      0.93     10000\n",
      "weighted avg       0.93      0.93      0.93     10000\n",
      "\n"
     ]
    }
   ],
   "source": [
    "class_labels=['T-shirt/top', 'Trouser', 'Pullover', 'Dress', 'Coat',\n",
    "        'Sandal', 'Shirt', 'Sneaker', 'Bag', 'Ankle boot']\n",
    "y_pred = tf.argmax(best_model.predict(test_images), axis=1)\n",
    "print(classification_report(test_labels, y_pred, target_names=class_labels))"
   ]
  },
  {
   "cell_type": "markdown",
   "metadata": {
    "id": "5XhV1giy1fNX"
   },
   "source": [
    "## Динаміка позитивна, але є загроза еренавчання, додамо дропаути для обох блоків та ще збільшимо розмір батча до 512. Цього разу не будемо робити ранню зупинку а спробуємо знайти та зберегти модель з найвищою точністю"
   ]
  },
  {
   "cell_type": "code",
   "execution_count": 54,
   "metadata": {
    "colab": {
     "base_uri": "https://localhost:8080/"
    },
    "id": "du8etyM_r_qx",
    "outputId": "ce2743a0-5fa9-486c-fef8-422e3bf56cb1"
   },
   "outputs": [
    {
     "name": "stdout",
     "output_type": "stream",
     "text": [
      "Epoch 1/40\n",
      "98/98 [==============================] - 5s 30ms/step - loss: 0.9974 - accuracy: 0.6813 - val_loss: 2.2474 - val_accuracy: 0.3572\n",
      "Epoch 2/40\n",
      " 5/98 [>.............................] - ETA: 2s - loss: 0.5854 - accuracy: 0.7914"
     ]
    },
    {
     "name": "stderr",
     "output_type": "stream",
     "text": [
      "/usr/local/lib/python3.10/dist-packages/keras/src/engine/training.py:3103: UserWarning: You are saving your model as an HDF5 file via `model.save()`. This file format is considered legacy. We recommend using instead the native Keras format, e.g. `model.save('my_model.keras')`.\n",
      "  saving_api.save_model(\n"
     ]
    },
    {
     "name": "stdout",
     "output_type": "stream",
     "text": [
      "98/98 [==============================] - 3s 28ms/step - loss: 0.4897 - accuracy: 0.8212 - val_loss: 2.1807 - val_accuracy: 0.1996\n",
      "Epoch 3/40\n",
      "98/98 [==============================] - 3s 28ms/step - loss: 0.3879 - accuracy: 0.8605 - val_loss: 2.5043 - val_accuracy: 0.3032\n",
      "Epoch 4/40\n",
      "98/98 [==============================] - 3s 28ms/step - loss: 0.3255 - accuracy: 0.8834 - val_loss: 2.3659 - val_accuracy: 0.3952\n",
      "Epoch 5/40\n",
      "98/98 [==============================] - 3s 28ms/step - loss: 0.2909 - accuracy: 0.8946 - val_loss: 1.6254 - val_accuracy: 0.6195\n",
      "Epoch 6/40\n",
      "98/98 [==============================] - 3s 28ms/step - loss: 0.2634 - accuracy: 0.9033 - val_loss: 0.6486 - val_accuracy: 0.7874\n",
      "Epoch 7/40\n",
      "98/98 [==============================] - 3s 28ms/step - loss: 0.2460 - accuracy: 0.9104 - val_loss: 0.5031 - val_accuracy: 0.8382\n",
      "Epoch 8/40\n",
      "98/98 [==============================] - 3s 28ms/step - loss: 0.2322 - accuracy: 0.9150 - val_loss: 0.2615 - val_accuracy: 0.9020\n",
      "Epoch 9/40\n",
      "98/98 [==============================] - 3s 28ms/step - loss: 0.2208 - accuracy: 0.9183 - val_loss: 0.1973 - val_accuracy: 0.9273\n",
      "Epoch 10/40\n",
      "98/98 [==============================] - 3s 28ms/step - loss: 0.2067 - accuracy: 0.9226 - val_loss: 0.1895 - val_accuracy: 0.9293\n",
      "Epoch 11/40\n",
      "98/98 [==============================] - 3s 28ms/step - loss: 0.1951 - accuracy: 0.9270 - val_loss: 0.2226 - val_accuracy: 0.9180\n",
      "Epoch 12/40\n",
      "98/98 [==============================] - 3s 27ms/step - loss: 0.1882 - accuracy: 0.9296 - val_loss: 0.2043 - val_accuracy: 0.9267\n",
      "Epoch 13/40\n",
      "98/98 [==============================] - 3s 28ms/step - loss: 0.1831 - accuracy: 0.9314 - val_loss: 0.1820 - val_accuracy: 0.9345\n",
      "Epoch 14/40\n",
      "98/98 [==============================] - 3s 27ms/step - loss: 0.1740 - accuracy: 0.9355 - val_loss: 0.1859 - val_accuracy: 0.9320\n",
      "Epoch 15/40\n",
      "98/98 [==============================] - 3s 27ms/step - loss: 0.1650 - accuracy: 0.9377 - val_loss: 0.1870 - val_accuracy: 0.9328\n",
      "Epoch 16/40\n",
      "98/98 [==============================] - 3s 28ms/step - loss: 0.1623 - accuracy: 0.9386 - val_loss: 0.1718 - val_accuracy: 0.9385\n",
      "Epoch 17/40\n",
      "98/98 [==============================] - 3s 27ms/step - loss: 0.1552 - accuracy: 0.9418 - val_loss: 0.1791 - val_accuracy: 0.9384\n",
      "Epoch 18/40\n",
      "98/98 [==============================] - 3s 27ms/step - loss: 0.1539 - accuracy: 0.9418 - val_loss: 0.1768 - val_accuracy: 0.9369\n",
      "Epoch 19/40\n",
      "98/98 [==============================] - 3s 27ms/step - loss: 0.1448 - accuracy: 0.9454 - val_loss: 0.1856 - val_accuracy: 0.9366\n",
      "Epoch 20/40\n",
      "98/98 [==============================] - 3s 28ms/step - loss: 0.1434 - accuracy: 0.9457 - val_loss: 0.1802 - val_accuracy: 0.9387\n",
      "Epoch 21/40\n",
      "98/98 [==============================] - 3s 28ms/step - loss: 0.1363 - accuracy: 0.9479 - val_loss: 0.1838 - val_accuracy: 0.9397\n",
      "Epoch 22/40\n",
      "98/98 [==============================] - 3s 28ms/step - loss: 0.1320 - accuracy: 0.9490 - val_loss: 0.1760 - val_accuracy: 0.9403\n",
      "Epoch 23/40\n",
      "98/98 [==============================] - 3s 27ms/step - loss: 0.1265 - accuracy: 0.9521 - val_loss: 0.1886 - val_accuracy: 0.9382\n",
      "Epoch 24/40\n",
      "98/98 [==============================] - 3s 28ms/step - loss: 0.1254 - accuracy: 0.9519 - val_loss: 0.1877 - val_accuracy: 0.9407\n",
      "Epoch 25/40\n",
      "98/98 [==============================] - 3s 27ms/step - loss: 0.1207 - accuracy: 0.9540 - val_loss: 0.1923 - val_accuracy: 0.9375\n",
      "Epoch 26/40\n",
      "98/98 [==============================] - 3s 27ms/step - loss: 0.1188 - accuracy: 0.9539 - val_loss: 0.1982 - val_accuracy: 0.9384\n",
      "Epoch 27/40\n",
      "98/98 [==============================] - 3s 27ms/step - loss: 0.1123 - accuracy: 0.9560 - val_loss: 0.2067 - val_accuracy: 0.9344\n",
      "Epoch 28/40\n",
      "98/98 [==============================] - 3s 27ms/step - loss: 0.1098 - accuracy: 0.9574 - val_loss: 0.1932 - val_accuracy: 0.9400\n",
      "Epoch 29/40\n",
      "98/98 [==============================] - 3s 27ms/step - loss: 0.1089 - accuracy: 0.9580 - val_loss: 0.2009 - val_accuracy: 0.9391\n",
      "Epoch 30/40\n",
      "98/98 [==============================] - 3s 27ms/step - loss: 0.1059 - accuracy: 0.9593 - val_loss: 0.2051 - val_accuracy: 0.9391\n",
      "Epoch 31/40\n",
      "98/98 [==============================] - 3s 28ms/step - loss: 0.1060 - accuracy: 0.9599 - val_loss: 0.1983 - val_accuracy: 0.9425\n",
      "Epoch 32/40\n",
      "98/98 [==============================] - 3s 27ms/step - loss: 0.1014 - accuracy: 0.9595 - val_loss: 0.2010 - val_accuracy: 0.9417\n",
      "Epoch 33/40\n",
      "98/98 [==============================] - 3s 27ms/step - loss: 0.0996 - accuracy: 0.9609 - val_loss: 0.2038 - val_accuracy: 0.9406\n",
      "Epoch 34/40\n",
      "98/98 [==============================] - 3s 27ms/step - loss: 0.0991 - accuracy: 0.9615 - val_loss: 0.2232 - val_accuracy: 0.9377\n",
      "Epoch 35/40\n",
      "98/98 [==============================] - 3s 27ms/step - loss: 0.0958 - accuracy: 0.9635 - val_loss: 0.2075 - val_accuracy: 0.9413\n",
      "Epoch 36/40\n",
      "98/98 [==============================] - 3s 27ms/step - loss: 0.0956 - accuracy: 0.9630 - val_loss: 0.2110 - val_accuracy: 0.9412\n",
      "Epoch 37/40\n",
      "98/98 [==============================] - 3s 27ms/step - loss: 0.0921 - accuracy: 0.9645 - val_loss: 0.2145 - val_accuracy: 0.9395\n",
      "Epoch 38/40\n",
      "98/98 [==============================] - 3s 27ms/step - loss: 0.0903 - accuracy: 0.9650 - val_loss: 0.2180 - val_accuracy: 0.9392\n",
      "Epoch 39/40\n",
      "98/98 [==============================] - 3s 27ms/step - loss: 0.0883 - accuracy: 0.9664 - val_loss: 0.2337 - val_accuracy: 0.9418\n",
      "Epoch 40/40\n",
      "98/98 [==============================] - 3s 27ms/step - loss: 0.0864 - accuracy: 0.9667 - val_loss: 0.2504 - val_accuracy: 0.9352\n",
      "313/313 [==============================] - 1s 2ms/step - loss: 0.2334 - accuracy: 0.9365\n"
     ]
    }
   ],
   "source": [
    "model_5 = Sequential([\n",
    "    Conv2D(32, (3, 3), padding='same', activation=\"relu\", input_shape=(28, 28, 1)),\n",
    "    BatchNormalization(),\n",
    "    Conv2D(32, (3,3), padding='same', activation=\"relu\"),\n",
    "    BatchNormalization(),\n",
    "    MaxPooling2D((2, 2)),\n",
    "    Dropout(0.2),\n",
    "\n",
    "    Conv2D(64, (3, 3), padding='same', activation=\"relu\"),\n",
    "    BatchNormalization(),\n",
    "    Conv2D(64, (3, 3), padding='same', activation=\"relu\"),\n",
    "    BatchNormalization(),\n",
    "    MaxPooling2D((2, 2)),\n",
    "    Dropout(0.2),\n",
    "\n",
    "    Flatten(),\n",
    "    Dense(256, activation=\"relu\"),\n",
    "    Dropout(0.5),\n",
    "    Dense(10, activation=\"softmax\")\n",
    "])\n",
    "model_5.compile(\n",
    "    optimizer=tf.keras.optimizers.Lion(),\n",
    "    loss=\"sparse_categorical_crossentropy\",\n",
    "    metrics=[\"accuracy\"]\n",
    ")\n",
    "checkpoint = ModelCheckpoint('model_5.h5', monitor='val_accuracy', mode='max', save_best_only=True, verbose=0)\n",
    "history = model_5.fit(x_train, y_train, epochs=40, batch_size=512, validation_data=(x_val, y_val), callbacks=[checkpoint])\n",
    "\n",
    "best_model = tf.keras.models.load_model('model_5.h5')\n",
    "test_loss, test_acc = best_model.evaluate(test_images, test_labels)"
   ]
  },
  {
   "cell_type": "code",
   "execution_count": 55,
   "metadata": {
    "colab": {
     "base_uri": "https://localhost:8080/",
     "height": 944
    },
    "id": "JeWFC__R1uaI",
    "outputId": "d0e6f7e4-55d5-412f-d9d5-937ea0e87227"
   },
   "outputs": [
    {
     "data": {
      "image/png": "[encoded data removed]",
      "text/plain": [
       "<Figure size 640x480 with 1 Axes>"
      ]
     },
     "metadata": {},
     "output_type": "display_data"
    },
    {
     "data": {
      "text/plain": [
       "<matplotlib.legend.Legend at 0x79ae302c7dc0>"
      ]
     },
     "execution_count": 55,
     "metadata": {},
     "output_type": "execute_result"
    },
    {
     "data": {
      "image/png": "[encoded data removed]",
      "text/plain": [
       "<Figure size 640x480 with 1 Axes>"
      ]
     },
     "metadata": {},
     "output_type": "display_data"
    }
   ],
   "source": [
    "history_dict = history.history\n",
    "loss_values = history_dict['loss']\n",
    "val_loss_values = history_dict['val_loss']\n",
    "\n",
    "epochs = range(1, len(history_dict['accuracy']) + 1)\n",
    "\n",
    "plt.plot(epochs, loss_values, 'bo', label='Training loss')\n",
    "plt.plot(epochs, val_loss_values, 'b', label='Validation loss')\n",
    "plt.title('Training and validation loss')\n",
    "plt.xlabel('Epochs')\n",
    "plt.ylabel('Loss')\n",
    "plt.legend()\n",
    "plt.show()\n",
    "\n",
    "plt.clf()\n",
    "val_acc_values = history_dict['val_accuracy']\n",
    "plt.plot(epochs, history_dict['accuracy'], 'bo', label='Training acc')\n",
    "plt.plot(epochs, history_dict['val_accuracy'], 'b', label='Validation acc')\n",
    "plt.title('Training and validation accuracy')\n",
    "plt.xlabel('Epochs')\n",
    "plt.ylabel('Loss')\n",
    "plt.legend()"
   ]
  },
  {
   "cell_type": "code",
   "execution_count": 56,
   "metadata": {
    "colab": {
     "base_uri": "https://localhost:8080/"
    },
    "id": "y1KVN5Qw13fJ",
    "outputId": "0579e04a-3536-44b4-dc93-cf483c40c3c3"
   },
   "outputs": [
    {
     "name": "stdout",
     "output_type": "stream",
     "text": [
      "313/313 [==============================] - 1s 2ms/step\n",
      "              precision    recall  f1-score   support\n",
      "\n",
      " T-shirt/top       0.88      0.90      0.89      1000\n",
      "     Trouser       1.00      0.99      0.99      1000\n",
      "    Pullover       0.92      0.91      0.91      1000\n",
      "       Dress       0.92      0.95      0.93      1000\n",
      "        Coat       0.90      0.91      0.90      1000\n",
      "      Sandal       0.99      0.99      0.99      1000\n",
      "       Shirt       0.82      0.79      0.80      1000\n",
      "     Sneaker       0.97      0.98      0.98      1000\n",
      "         Bag       0.99      0.99      0.99      1000\n",
      "  Ankle boot       0.98      0.96      0.97      1000\n",
      "\n",
      "    accuracy                           0.94     10000\n",
      "   macro avg       0.94      0.94      0.94     10000\n",
      "weighted avg       0.94      0.94      0.94     10000\n",
      "\n"
     ]
    }
   ],
   "source": [
    "class_labels=['T-shirt/top', 'Trouser', 'Pullover', 'Dress', 'Coat',\n",
    "        'Sandal', 'Shirt', 'Sneaker', 'Bag', 'Ankle boot']\n",
    "y_pred = tf.argmax(best_model.predict(test_images), axis=1)\n",
    "print(classification_report(test_labels, y_pred, target_names=class_labels))"
   ]
  },
  {
   "cell_type": "markdown",
   "metadata": {
    "id": "3eh7jqXh2ABn"
   },
   "source": [
    "# Вдалося досягти точності приблизно в 94% графіки також показують плато. Зупинимось на цих показниках, бо ресурси та час обмежені."
   ]
  },
  {
   "cell_type": "markdown",
   "metadata": {
    "id": "y4N0mB6vTm5x"
   },
   "source": [
    "# Дослідження з VGG16\n",
    "## Почнемо з VGG16 - згорткова основа, повнозв'язний шар на 512 нейронів батч на 8"
   ]
  },
  {
   "cell_type": "markdown",
   "metadata": {
    "id": "DM78_bMjNfbx"
   },
   "source": [
    "### Почнемо з мінімально дозволеного розміру картинки 32х32"
   ]
  },
  {
   "cell_type": "code",
   "execution_count": 83,
   "metadata": {
    "colab": {
     "base_uri": "https://localhost:8080/"
    },
    "id": "Ut0ygHtNMuM3",
    "outputId": "3283f927-2f6d-471f-b699-6301204cf873"
   },
   "outputs": [
    {
     "name": "stdout",
     "output_type": "stream",
     "text": [
      "Epoch 1/15\n",
      "6250/6250 [==============================] - 24s 4ms/step - loss: 0.6021 - accuracy: 0.7828 - val_loss: 0.5170 - val_accuracy: 0.8066\n",
      "Epoch 2/15\n",
      "6250/6250 [==============================] - 23s 4ms/step - loss: 0.4908 - accuracy: 0.8205 - val_loss: 0.5025 - val_accuracy: 0.8154\n",
      "Epoch 3/15\n",
      "6250/6250 [==============================] - 23s 4ms/step - loss: 0.4626 - accuracy: 0.8306 - val_loss: 0.4825 - val_accuracy: 0.8219\n",
      "Epoch 4/15\n",
      "6250/6250 [==============================] - 23s 4ms/step - loss: 0.4432 - accuracy: 0.8366 - val_loss: 0.4524 - val_accuracy: 0.8333\n",
      "Epoch 5/15\n",
      "6250/6250 [==============================] - 23s 4ms/step - loss: 0.4280 - accuracy: 0.8425 - val_loss: 0.4757 - val_accuracy: 0.8313\n",
      "Epoch 6/15\n",
      "6250/6250 [==============================] - 23s 4ms/step - loss: 0.4192 - accuracy: 0.8453 - val_loss: 0.4674 - val_accuracy: 0.8331\n",
      "Epoch 7/15\n",
      "6250/6250 [==============================] - 23s 4ms/step - loss: 0.4113 - accuracy: 0.8482 - val_loss: 0.4891 - val_accuracy: 0.8202\n",
      "313/313 [==============================] - 2s 5ms/step - loss: 0.4772 - accuracy: 0.8309\n"
     ]
    }
   ],
   "source": [
    "vgg_base = VGG16(weights=\"imagenet\", include_top=False, input_shape=(vgg_image_size, vgg_image_size, 3))\n",
    "vgg_base.trainable = False\n",
    "\n",
    "model_vgg = Sequential([\n",
    "   vgg_base,\n",
    "   Flatten(),\n",
    "   Dense(512, activation=\"relu\"),\n",
    "   Dense(10, activation=\"softmax\"),\n",
    "])\n",
    "\n",
    "model_vgg.compile(\n",
    "    optimizer=tf.keras.optimizers.Lion(),\n",
    "    loss=\"sparse_categorical_crossentropy\",\n",
    "    metrics=[\"accuracy\"]\n",
    ")\n",
    "\n",
    "early_stop = K.callbacks.EarlyStopping(monitor='val_loss', patience=3, restore_best_weights=True)\n",
    "model_vgg.fit(vgg_x_train, y_train, epochs=15, batch_size=8, validation_data=(vgg_x_val, y_val), callbacks=[early_stop])\n",
    "\n",
    "test_loss, test_acc = model_vgg.evaluate(vgg_test_images, test_labels)"
   ]
  },
  {
   "cell_type": "code",
   "execution_count": 85,
   "metadata": {
    "colab": {
     "base_uri": "https://localhost:8080/"
    },
    "id": "Xe_B3v3oN5pf",
    "outputId": "0a5a7543-11e0-404f-f258-7bfa6783ca17"
   },
   "outputs": [
    {
     "name": "stdout",
     "output_type": "stream",
     "text": [
      "Model: \"vgg16\"\n",
      "_________________________________________________________________\n",
      " Layer (type)                Output Shape              Param #   \n",
      "=================================================================\n",
      " input_20 (InputLayer)       [(None, 32, 32, 3)]       0         \n",
      "                                                                 \n",
      " block1_conv1 (Conv2D)       (None, 32, 32, 64)        1792      \n",
      "                                                                 \n",
      " block1_conv2 (Conv2D)       (None, 32, 32, 64)        36928     \n",
      "                                                                 \n",
      " block1_pool (MaxPooling2D)  (None, 16, 16, 64)        0         \n",
      "                                                                 \n",
      " block2_conv1 (Conv2D)       (None, 16, 16, 128)       73856     \n",
      "                                                                 \n",
      " block2_conv2 (Conv2D)       (None, 16, 16, 128)       147584    \n",
      "                                                                 \n",
      " block2_pool (MaxPooling2D)  (None, 8, 8, 128)         0         \n",
      "                                                                 \n",
      " block3_conv1 (Conv2D)       (None, 8, 8, 256)         295168    \n",
      "                                                                 \n",
      " block3_conv2 (Conv2D)       (None, 8, 8, 256)         590080    \n",
      "                                                                 \n",
      " block3_conv3 (Conv2D)       (None, 8, 8, 256)         590080    \n",
      "                                                                 \n",
      " block3_pool (MaxPooling2D)  (None, 4, 4, 256)         0         \n",
      "                                                                 \n",
      " block4_conv1 (Conv2D)       (None, 4, 4, 512)         1180160   \n",
      "                                                                 \n",
      " block4_conv2 (Conv2D)       (None, 4, 4, 512)         2359808   \n",
      "                                                                 \n",
      " block4_conv3 (Conv2D)       (None, 4, 4, 512)         2359808   \n",
      "                                                                 \n",
      " block4_pool (MaxPooling2D)  (None, 2, 2, 512)         0         \n",
      "                                                                 \n",
      " block5_conv1 (Conv2D)       (None, 2, 2, 512)         2359808   \n",
      "                                                                 \n",
      " block5_conv2 (Conv2D)       (None, 2, 2, 512)         2359808   \n",
      "                                                                 \n",
      " block5_conv3 (Conv2D)       (None, 2, 2, 512)         2359808   \n",
      "                                                                 \n",
      " block5_pool (MaxPooling2D)  (None, 1, 1, 512)         0         \n",
      "                                                                 \n",
      "=================================================================\n",
      "Total params: 14714688 (56.13 MB)\n",
      "Trainable params: 0 (0.00 Byte)\n",
      "Non-trainable params: 14714688 (56.13 MB)\n",
      "_________________________________________________________________\n"
     ]
    }
   ],
   "source": [
    "vgg_base.summary()"
   ]
  },
  {
   "cell_type": "markdown",
   "metadata": {
    "id": "-A2YtFzZNvBa"
   },
   "source": [
    "### Тепер спробуємо 100х100"
   ]
  },
  {
   "cell_type": "code",
   "execution_count": 15,
   "metadata": {
    "colab": {
     "base_uri": "https://localhost:8080/"
    },
    "id": "2Tybo86PANlO",
    "outputId": "6641113e-e829-4a9e-e630-0c8869c8f688"
   },
   "outputs": [
    {
     "name": "stdout",
     "output_type": "stream",
     "text": [
      "Epoch 1/15\n",
      "6250/6250 [==============================] - 60s 9ms/step - loss: 0.5561 - accuracy: 0.8005 - val_loss: 0.4637 - val_accuracy: 0.8306\n",
      "Epoch 2/15\n",
      "6250/6250 [==============================] - 57s 9ms/step - loss: 0.4440 - accuracy: 0.8380 - val_loss: 0.4563 - val_accuracy: 0.8342\n",
      "Epoch 3/15\n",
      "6250/6250 [==============================] - 57s 9ms/step - loss: 0.4157 - accuracy: 0.8469 - val_loss: 0.4281 - val_accuracy: 0.8424\n",
      "Epoch 4/15\n",
      "6250/6250 [==============================] - 57s 9ms/step - loss: 0.3950 - accuracy: 0.8549 - val_loss: 0.4336 - val_accuracy: 0.8458\n",
      "Epoch 5/15\n",
      "6250/6250 [==============================] - 58s 9ms/step - loss: 0.3799 - accuracy: 0.8604 - val_loss: 0.4101 - val_accuracy: 0.8549\n",
      "Epoch 6/15\n",
      "6250/6250 [==============================] - 59s 9ms/step - loss: 0.3670 - accuracy: 0.8648 - val_loss: 0.4246 - val_accuracy: 0.8523\n",
      "Epoch 7/15\n",
      "6250/6250 [==============================] - 57s 9ms/step - loss: 0.3581 - accuracy: 0.8670 - val_loss: 0.4395 - val_accuracy: 0.8495\n",
      "Epoch 8/15\n",
      "6250/6250 [==============================] - 62s 10ms/step - loss: 0.3525 - accuracy: 0.8684 - val_loss: 0.4462 - val_accuracy: 0.8504\n",
      "313/313 [==============================] - 5s 12ms/step - loss: 0.4247 - accuracy: 0.8531\n"
     ]
    }
   ],
   "source": [
    "vgg_base = VGG16(weights=\"imagenet\", include_top=False, input_shape=(vgg_image_size, vgg_image_size, 3))\n",
    "vgg_base.trainable = False\n",
    "\n",
    "model_vgg = Sequential([\n",
    "   vgg_base,\n",
    "   Flatten(),\n",
    "   Dense(512, activation=\"relu\"),\n",
    "   Dense(10, activation=\"softmax\"),\n",
    "])\n",
    "\n",
    "model_vgg.compile(\n",
    "    optimizer=tf.keras.optimizers.Lion(),\n",
    "    loss=\"sparse_categorical_crossentropy\",\n",
    "    metrics=[\"accuracy\"]\n",
    ")\n",
    "\n",
    "early_stop = K.callbacks.EarlyStopping(monitor='val_loss', patience=3, restore_best_weights=True)\n",
    "model_vgg.fit(vgg_x_train, y_train, epochs=15, batch_size=8, validation_data=(vgg_x_val, y_val), callbacks=[early_stop])\n",
    "\n",
    "test_loss, test_acc = model_vgg.evaluate(vgg_test_images, test_labels)"
   ]
  },
  {
   "cell_type": "code",
   "execution_count": 7,
   "metadata": {
    "colab": {
     "base_uri": "https://localhost:8080/"
    },
    "id": "G8w4B8wzO24D",
    "outputId": "d223140a-684d-483f-bf5e-92af68061f16"
   },
   "outputs": [
    {
     "name": "stdout",
     "output_type": "stream",
     "text": [
      "Model: \"vgg16\"\n",
      "_________________________________________________________________\n",
      " Layer (type)                Output Shape              Param #   \n",
      "=================================================================\n",
      " input_2 (InputLayer)        [(None, 100, 100, 3)]     0         \n",
      "                                                                 \n",
      " block1_conv1 (Conv2D)       (None, 100, 100, 64)      1792      \n",
      "                                                                 \n",
      " block1_conv2 (Conv2D)       (None, 100, 100, 64)      36928     \n",
      "                                                                 \n",
      " block1_pool (MaxPooling2D)  (None, 50, 50, 64)        0         \n",
      "                                                                 \n",
      " block2_conv1 (Conv2D)       (None, 50, 50, 128)       73856     \n",
      "                                                                 \n",
      " block2_conv2 (Conv2D)       (None, 50, 50, 128)       147584    \n",
      "                                                                 \n",
      " block2_pool (MaxPooling2D)  (None, 25, 25, 128)       0         \n",
      "                                                                 \n",
      " block3_conv1 (Conv2D)       (None, 25, 25, 256)       295168    \n",
      "                                                                 \n",
      " block3_conv2 (Conv2D)       (None, 25, 25, 256)       590080    \n",
      "                                                                 \n",
      " block3_conv3 (Conv2D)       (None, 25, 25, 256)       590080    \n",
      "                                                                 \n",
      " block3_pool (MaxPooling2D)  (None, 12, 12, 256)       0         \n",
      "                                                                 \n",
      " block4_conv1 (Conv2D)       (None, 12, 12, 512)       1180160   \n",
      "                                                                 \n",
      " block4_conv2 (Conv2D)       (None, 12, 12, 512)       2359808   \n",
      "                                                                 \n",
      " block4_conv3 (Conv2D)       (None, 12, 12, 512)       2359808   \n",
      "                                                                 \n",
      " block4_pool (MaxPooling2D)  (None, 6, 6, 512)         0         \n",
      "                                                                 \n",
      " block5_conv1 (Conv2D)       (None, 6, 6, 512)         2359808   \n",
      "                                                                 \n",
      " block5_conv2 (Conv2D)       (None, 6, 6, 512)         2359808   \n",
      "                                                                 \n",
      " block5_conv3 (Conv2D)       (None, 6, 6, 512)         2359808   \n",
      "                                                                 \n",
      " block5_pool (MaxPooling2D)  (None, 3, 3, 512)         0         \n",
      "                                                                 \n",
      "=================================================================\n",
      "Total params: 14714688 (56.13 MB)\n",
      "Trainable params: 0 (0.00 Byte)\n",
      "Non-trainable params: 14714688 (56.13 MB)\n",
      "_________________________________________________________________\n"
     ]
    }
   ],
   "source": [
    "vgg_base.summary()"
   ]
  },
  {
   "cell_type": "markdown",
   "metadata": {
    "id": "OrwrSBCHURTk"
   },
   "source": [
    "## Як бачимо єфективніше працювати з більшими забраженнями. Базова точність 85%, збільшимо батч до 16"
   ]
  },
  {
   "cell_type": "code",
   "execution_count": 14,
   "metadata": {
    "colab": {
     "base_uri": "https://localhost:8080/"
    },
    "id": "jq-X_g416JL1",
    "outputId": "2049f052-d34e-430b-9120-fa845dea6525"
   },
   "outputs": [
    {
     "name": "stdout",
     "output_type": "stream",
     "text": [
      "Epoch 1/15\n",
      "3125/3125 [==============================] - 38s 12ms/step - loss: 0.4710 - accuracy: 0.8317 - val_loss: 0.3976 - val_accuracy: 0.8547\n",
      "Epoch 2/15\n",
      "3125/3125 [==============================] - 37s 12ms/step - loss: 0.3629 - accuracy: 0.8671 - val_loss: 0.3740 - val_accuracy: 0.8629\n",
      "Epoch 3/15\n",
      "3125/3125 [==============================] - 41s 13ms/step - loss: 0.3331 - accuracy: 0.8790 - val_loss: 0.3605 - val_accuracy: 0.8697\n",
      "Epoch 4/15\n",
      "3125/3125 [==============================] - 42s 13ms/step - loss: 0.3142 - accuracy: 0.8850 - val_loss: 0.3575 - val_accuracy: 0.8689\n",
      "Epoch 5/15\n",
      "3125/3125 [==============================] - 37s 12ms/step - loss: 0.2975 - accuracy: 0.8894 - val_loss: 0.3582 - val_accuracy: 0.8721\n",
      "Epoch 6/15\n",
      "3125/3125 [==============================] - 36s 12ms/step - loss: 0.2837 - accuracy: 0.8957 - val_loss: 0.3576 - val_accuracy: 0.8757\n",
      "Epoch 7/15\n",
      "3125/3125 [==============================] - 36s 12ms/step - loss: 0.2736 - accuracy: 0.8990 - val_loss: 0.3781 - val_accuracy: 0.8707\n",
      "313/313 [==============================] - 5s 15ms/step - loss: 0.3689 - accuracy: 0.8705\n"
     ]
    }
   ],
   "source": [
    "vgg_base = VGG16(weights=\"imagenet\", include_top=False, input_shape=(vgg_image_size, vgg_image_size, 3))\n",
    "vgg_base.trainable = False\n",
    "\n",
    "model_vgg = Sequential([\n",
    "   vgg_base,\n",
    "   Flatten(),\n",
    "   Dense(512, activation=\"relu\"),\n",
    "   Dense(10, activation=\"softmax\"),\n",
    "])\n",
    "\n",
    "model_vgg.compile(\n",
    "    optimizer=tf.keras.optimizers.Lion(),\n",
    "    loss=\"sparse_categorical_crossentropy\",\n",
    "    metrics=[\"accuracy\"]\n",
    ")\n",
    "\n",
    "early_stop = K.callbacks.EarlyStopping(monitor='val_loss', patience=3, restore_best_weights=True)\n",
    "model_vgg.fit(vgg_x_train, y_train, epochs=15, batch_size=16, validation_data=(vgg_x_val, y_val), callbacks=[early_stop])\n",
    "\n",
    "test_loss, test_acc = model_vgg.evaluate(vgg_test_images, test_labels)"
   ]
  },
  {
   "cell_type": "markdown",
   "metadata": {
    "id": "OGLXiDJNUj-r"
   },
   "source": [
    "## Точність зросла до 87% збільшимо батч до 64 додамо шар дропаут"
   ]
  },
  {
   "cell_type": "code",
   "execution_count": 20,
   "metadata": {
    "colab": {
     "base_uri": "https://localhost:8080/"
    },
    "id": "vgbQGihpVuuX",
    "outputId": "34e33fd4-9db6-449a-80c2-7906f56e114d"
   },
   "outputs": [
    {
     "name": "stdout",
     "output_type": "stream",
     "text": [
      "Epoch 1/15\n",
      "782/782 [==============================] - 61s 73ms/step - loss: 0.5548 - accuracy: 0.8015 - val_loss: 0.3692 - val_accuracy: 0.8646\n",
      "Epoch 2/15\n",
      "782/782 [==============================] - 57s 73ms/step - loss: 0.3954 - accuracy: 0.8593 - val_loss: 0.3385 - val_accuracy: 0.8724\n",
      "Epoch 3/15\n",
      "782/782 [==============================] - 57s 73ms/step - loss: 0.3736 - accuracy: 0.8658 - val_loss: 0.3312 - val_accuracy: 0.8750\n",
      "Epoch 4/15\n",
      "782/782 [==============================] - 57s 73ms/step - loss: 0.3587 - accuracy: 0.8693 - val_loss: 0.3173 - val_accuracy: 0.8798\n",
      "Epoch 5/15\n",
      "782/782 [==============================] - 57s 73ms/step - loss: 0.3444 - accuracy: 0.8740 - val_loss: 0.3171 - val_accuracy: 0.8815\n",
      "Epoch 6/15\n",
      "782/782 [==============================] - 57s 73ms/step - loss: 0.3378 - accuracy: 0.8781 - val_loss: 0.3128 - val_accuracy: 0.8831\n",
      "Epoch 7/15\n",
      "782/782 [==============================] - 57s 73ms/step - loss: 0.3370 - accuracy: 0.8765 - val_loss: 0.3150 - val_accuracy: 0.8818\n",
      "Epoch 8/15\n",
      "782/782 [==============================] - 57s 73ms/step - loss: 0.3242 - accuracy: 0.8826 - val_loss: 0.3058 - val_accuracy: 0.8880\n",
      "Epoch 9/15\n",
      "782/782 [==============================] - 57s 73ms/step - loss: 0.3234 - accuracy: 0.8813 - val_loss: 0.3089 - val_accuracy: 0.8858\n",
      "Epoch 10/15\n",
      "782/782 [==============================] - 57s 73ms/step - loss: 0.3190 - accuracy: 0.8824 - val_loss: 0.3171 - val_accuracy: 0.8852\n",
      "Epoch 11/15\n",
      "782/782 [==============================] - 57s 73ms/step - loss: 0.3071 - accuracy: 0.8850 - val_loss: 0.3099 - val_accuracy: 0.8892\n",
      "313/313 [==============================] - 12s 33ms/step - loss: 0.3237 - accuracy: 0.8843\n"
     ]
    }
   ],
   "source": [
    "vgg_base = VGG16(weights=\"imagenet\", include_top=False, input_shape=(vgg_image_size, vgg_image_size, 3))\n",
    "vgg_base.trainable = False\n",
    "\n",
    "model_vgg = Sequential([\n",
    "   vgg_base,\n",
    "   Flatten(),\n",
    "   Dense(512, activation=\"relu\"),\n",
    "   Dropout(0.5),\n",
    "   Dense(10, activation=\"softmax\"),\n",
    "])\n",
    "\n",
    "model_vgg.compile(\n",
    "    optimizer=tf.keras.optimizers.Lion(),\n",
    "    loss=\"sparse_categorical_crossentropy\",\n",
    "    metrics=[\"accuracy\"]\n",
    ")\n",
    "\n",
    "early_stop = K.callbacks.EarlyStopping(monitor='val_loss', patience=3, restore_best_weights=True)\n",
    "model_vgg.fit(vgg_x_train, y_train, epochs=15, batch_size=64, validation_data=(vgg_x_val, y_val), callbacks=[early_stop])\n",
    "\n",
    "test_loss, test_acc = model_vgg.evaluate(vgg_test_images, test_labels)"
   ]
  },
  {
   "cell_type": "markdown",
   "metadata": {
    "id": "KNidTfO-YD7Q"
   },
   "source": [
    "## Точність зросла до 88%. Збільшимо батч до 256"
   ]
  },
  {
   "cell_type": "code",
   "execution_count": 6,
   "metadata": {
    "colab": {
     "base_uri": "https://localhost:8080/"
    },
    "id": "tTSF80I1bCC2",
    "outputId": "abd43858-37b3-472d-9d45-89608e9beb92"
   },
   "outputs": [
    {
     "name": "stdout",
     "output_type": "stream",
     "text": [
      "Epoch 1/25\n",
      "196/196 [==============================] - 50s 201ms/step - loss: 0.7152 - accuracy: 0.7483 - val_loss: 0.4219 - val_accuracy: 0.8446\n",
      "Epoch 2/25\n",
      "196/196 [==============================] - 36s 182ms/step - loss: 0.4237 - accuracy: 0.8476 - val_loss: 0.3538 - val_accuracy: 0.8667\n",
      "Epoch 3/25\n",
      "196/196 [==============================] - 36s 182ms/step - loss: 0.3781 - accuracy: 0.8612 - val_loss: 0.3317 - val_accuracy: 0.8734\n",
      "Epoch 4/25\n",
      "196/196 [==============================] - 36s 182ms/step - loss: 0.3456 - accuracy: 0.8743 - val_loss: 0.3189 - val_accuracy: 0.8768\n",
      "Epoch 5/25\n",
      "196/196 [==============================] - 36s 182ms/step - loss: 0.3299 - accuracy: 0.8800 - val_loss: 0.3102 - val_accuracy: 0.8816\n",
      "Epoch 6/25\n",
      "196/196 [==============================] - 36s 182ms/step - loss: 0.3162 - accuracy: 0.8856 - val_loss: 0.3037 - val_accuracy: 0.8854\n",
      "Epoch 7/25\n",
      "196/196 [==============================] - 36s 182ms/step - loss: 0.3066 - accuracy: 0.8887 - val_loss: 0.2997 - val_accuracy: 0.8864\n",
      "Epoch 8/25\n",
      "196/196 [==============================] - 36s 182ms/step - loss: 0.2983 - accuracy: 0.8918 - val_loss: 0.2943 - val_accuracy: 0.8889\n",
      "Epoch 9/25\n",
      "196/196 [==============================] - 36s 182ms/step - loss: 0.2895 - accuracy: 0.8937 - val_loss: 0.2922 - val_accuracy: 0.8903\n",
      "Epoch 10/25\n",
      "196/196 [==============================] - 36s 182ms/step - loss: 0.2815 - accuracy: 0.8967 - val_loss: 0.2912 - val_accuracy: 0.8898\n",
      "Epoch 11/25\n",
      "196/196 [==============================] - 36s 182ms/step - loss: 0.2740 - accuracy: 0.8990 - val_loss: 0.2903 - val_accuracy: 0.8915\n",
      "Epoch 12/25\n",
      "196/196 [==============================] - 36s 182ms/step - loss: 0.2676 - accuracy: 0.9005 - val_loss: 0.2899 - val_accuracy: 0.8928\n",
      "Epoch 13/25\n",
      "196/196 [==============================] - 36s 182ms/step - loss: 0.2606 - accuracy: 0.9031 - val_loss: 0.2905 - val_accuracy: 0.8930\n",
      "Epoch 14/25\n",
      "196/196 [==============================] - 36s 182ms/step - loss: 0.2548 - accuracy: 0.9053 - val_loss: 0.2908 - val_accuracy: 0.8941\n",
      "Epoch 15/25\n",
      "196/196 [==============================] - 36s 182ms/step - loss: 0.2476 - accuracy: 0.9082 - val_loss: 0.2951 - val_accuracy: 0.8951\n",
      "313/313 [==============================] - 7s 20ms/step - loss: 0.3094 - accuracy: 0.8906\n"
     ]
    }
   ],
   "source": [
    "vgg_base = VGG16(weights=\"imagenet\", include_top=False, input_shape=(vgg_image_size, vgg_image_size, 3))\n",
    "vgg_base.trainable = False\n",
    "\n",
    "model_vgg = Sequential([\n",
    "   vgg_base,\n",
    "   Flatten(),\n",
    "   LayerNormalization(),\n",
    "   Dense(512, activation=\"relu\"),\n",
    "   Dropout(0.5),\n",
    "   Dense(10, activation=\"softmax\"),\n",
    "])\n",
    "\n",
    "model_vgg.compile(\n",
    "    optimizer=tf.keras.optimizers.Lion(),\n",
    "    loss=\"sparse_categorical_crossentropy\",\n",
    "    metrics=[\"accuracy\"]\n",
    ")\n",
    "\n",
    "early_stop = K.callbacks.EarlyStopping(monitor='val_loss', patience=3, restore_best_weights=True)\n",
    "model_vgg.fit(vgg_x_train, y_train, epochs=25, batch_size=256, validation_data=(vgg_x_val, y_val), callbacks=[early_stop])\n",
    "\n",
    "test_loss, test_acc = model_vgg.evaluate(vgg_test_images, test_labels)"
   ]
  },
  {
   "cell_type": "markdown",
   "metadata": {
    "id": "-y9G8b_7YT_F"
   },
   "source": [
    "## Маємо точність 89%. Подивимось структуру мережі VGG16 яку використовуємо"
   ]
  },
  {
   "cell_type": "code",
   "execution_count": 8,
   "metadata": {
    "colab": {
     "base_uri": "https://localhost:8080/"
    },
    "id": "R0tY-5laoItg",
    "outputId": "440aaeb4-705b-46d0-f3e9-9503a0352025"
   },
   "outputs": [
    {
     "name": "stdout",
     "output_type": "stream",
     "text": [
      "Model: \"vgg16\"\n",
      "_________________________________________________________________\n",
      " Layer (type)                Output Shape              Param #   \n",
      "=================================================================\n",
      " input_2 (InputLayer)        [(None, 100, 100, 3)]     0         \n",
      "                                                                 \n",
      " block1_conv1 (Conv2D)       (None, 100, 100, 64)      1792      \n",
      "                                                                 \n",
      " block1_conv2 (Conv2D)       (None, 100, 100, 64)      36928     \n",
      "                                                                 \n",
      " block1_pool (MaxPooling2D)  (None, 50, 50, 64)        0         \n",
      "                                                                 \n",
      " block2_conv1 (Conv2D)       (None, 50, 50, 128)       73856     \n",
      "                                                                 \n",
      " block2_conv2 (Conv2D)       (None, 50, 50, 128)       147584    \n",
      "                                                                 \n",
      " block2_pool (MaxPooling2D)  (None, 25, 25, 128)       0         \n",
      "                                                                 \n",
      " block3_conv1 (Conv2D)       (None, 25, 25, 256)       295168    \n",
      "                                                                 \n",
      " block3_conv2 (Conv2D)       (None, 25, 25, 256)       590080    \n",
      "                                                                 \n",
      " block3_conv3 (Conv2D)       (None, 25, 25, 256)       590080    \n",
      "                                                                 \n",
      " block3_pool (MaxPooling2D)  (None, 12, 12, 256)       0         \n",
      "                                                                 \n",
      " block4_conv1 (Conv2D)       (None, 12, 12, 512)       1180160   \n",
      "                                                                 \n",
      " block4_conv2 (Conv2D)       (None, 12, 12, 512)       2359808   \n",
      "                                                                 \n",
      " block4_conv3 (Conv2D)       (None, 12, 12, 512)       2359808   \n",
      "                                                                 \n",
      " block4_pool (MaxPooling2D)  (None, 6, 6, 512)         0         \n",
      "                                                                 \n",
      " block5_conv1 (Conv2D)       (None, 6, 6, 512)         2359808   \n",
      "                                                                 \n",
      " block5_conv2 (Conv2D)       (None, 6, 6, 512)         2359808   \n",
      "                                                                 \n",
      " block5_conv3 (Conv2D)       (None, 6, 6, 512)         2359808   \n",
      "                                                                 \n",
      " block5_pool (MaxPooling2D)  (None, 3, 3, 512)         0         \n",
      "                                                                 \n",
      "=================================================================\n",
      "Total params: 14714688 (56.13 MB)\n",
      "Trainable params: 0 (0.00 Byte)\n",
      "Non-trainable params: 14714688 (56.13 MB)\n",
      "_________________________________________________________________\n"
     ]
    }
   ],
   "source": [
    "vgg_base.summary()"
   ]
  },
  {
   "cell_type": "markdown",
   "metadata": {
    "id": "lhxE4yBuYytV"
   },
   "source": [
    "## Наші картинки все одно доволі малі, спробуємо взяти лише перші 4 блоки, і подивимось як це вплине на точність"
   ]
  },
  {
   "cell_type": "code",
   "execution_count": 20,
   "metadata": {
    "colab": {
     "base_uri": "https://localhost:8080/"
    },
    "id": "tQC1NMkup133",
    "outputId": "a9a959d5-59ac-48d7-9ef6-177565d8dbf4"
   },
   "outputs": [
    {
     "name": "stdout",
     "output_type": "stream",
     "text": [
      "Epoch 1/25\n",
      "196/196 [==============================] - 36s 181ms/step - loss: 0.4611 - accuracy: 0.8512 - val_loss: 0.3007 - val_accuracy: 0.8901\n",
      "Epoch 2/25\n",
      "196/196 [==============================] - 35s 179ms/step - loss: 0.2262 - accuracy: 0.9167 - val_loss: 0.2599 - val_accuracy: 0.9076\n",
      "Epoch 3/25\n",
      "196/196 [==============================] - 35s 178ms/step - loss: 0.1723 - accuracy: 0.9369 - val_loss: 0.2480 - val_accuracy: 0.9128\n",
      "Epoch 4/25\n",
      "196/196 [==============================] - 35s 178ms/step - loss: 0.1393 - accuracy: 0.9489 - val_loss: 0.2465 - val_accuracy: 0.9162\n",
      "Epoch 5/25\n",
      "196/196 [==============================] - 35s 178ms/step - loss: 0.1171 - accuracy: 0.9578 - val_loss: 0.2629 - val_accuracy: 0.9129\n",
      "Epoch 6/25\n",
      "196/196 [==============================] - 35s 178ms/step - loss: 0.0973 - accuracy: 0.9654 - val_loss: 0.2740 - val_accuracy: 0.9133\n",
      "Epoch 7/25\n",
      "196/196 [==============================] - 35s 179ms/step - loss: 0.0813 - accuracy: 0.9713 - val_loss: 0.2924 - val_accuracy: 0.9129\n",
      "313/313 [==============================] - 6s 20ms/step - loss: 0.2690 - accuracy: 0.9080\n"
     ]
    }
   ],
   "source": [
    "vgg_base = VGG16(weights=\"imagenet\", include_top=False, input_shape=(vgg_image_size, vgg_image_size, 3))\n",
    "vgg_base.trainable = False\n",
    "\n",
    "model_vgg = Sequential([\n",
    "   *vgg_base.layers[:15],\n",
    "   Flatten(),\n",
    "   LayerNormalization(),\n",
    "   Dense(512, activation=\"relu\", activity_regularizer=\"L1L2\"),\n",
    "   Dense(10, activation=\"softmax\"),\n",
    "])\n",
    "\n",
    "model_vgg.compile(\n",
    "    optimizer=tf.keras.optimizers.Lion(),\n",
    "    loss=\"sparse_categorical_crossentropy\",\n",
    "    metrics=[\"accuracy\"]\n",
    ")\n",
    "\n",
    "early_stop = K.callbacks.EarlyStopping(monitor='val_loss', patience=3, restore_best_weights=True)\n",
    "model_vgg.fit(vgg_x_train, y_train, epochs=25, batch_size=256, validation_data=(vgg_x_val, y_val), callbacks=[early_stop])\n",
    "\n",
    "test_loss, test_acc = model_vgg.evaluate(vgg_test_images, test_labels)"
   ]
  },
  {
   "cell_type": "markdown",
   "metadata": {
    "id": "2hhkBm-B_Ho5"
   },
   "source": [
    "# Динаміка позитивна, тепер спробуємо лише перші три блоки"
   ]
  },
  {
   "cell_type": "code",
   "execution_count": 57,
   "metadata": {
    "colab": {
     "base_uri": "https://localhost:8080/"
    },
    "id": "fl25BA2S-Ax3",
    "outputId": "867c334a-cde2-4618-9346-0dac05b9084f"
   },
   "outputs": [
    {
     "name": "stdout",
     "output_type": "stream",
     "text": [
      "Epoch 1/25\n",
      "196/196 [==============================] - 32s 158ms/step - loss: 0.6088 - accuracy: 0.8421 - val_loss: 0.3441 - val_accuracy: 0.8874\n",
      "Epoch 2/25\n",
      "196/196 [==============================] - 30s 154ms/step - loss: 0.2406 - accuracy: 0.9144 - val_loss: 0.2663 - val_accuracy: 0.9051\n",
      "Epoch 3/25\n",
      "196/196 [==============================] - 30s 154ms/step - loss: 0.1861 - accuracy: 0.9334 - val_loss: 0.2551 - val_accuracy: 0.9103\n",
      "Epoch 4/25\n",
      "196/196 [==============================] - 30s 155ms/step - loss: 0.1542 - accuracy: 0.9449 - val_loss: 0.2353 - val_accuracy: 0.9184\n",
      "Epoch 5/25\n",
      "196/196 [==============================] - 30s 155ms/step - loss: 0.1317 - accuracy: 0.9523 - val_loss: 0.2314 - val_accuracy: 0.9195\n",
      "Epoch 6/25\n",
      "196/196 [==============================] - 30s 154ms/step - loss: 0.1122 - accuracy: 0.9594 - val_loss: 0.2371 - val_accuracy: 0.9205\n",
      "Epoch 7/25\n",
      "196/196 [==============================] - 30s 154ms/step - loss: 0.0981 - accuracy: 0.9649 - val_loss: 0.2502 - val_accuracy: 0.9218\n",
      "Epoch 8/25\n",
      "196/196 [==============================] - 30s 155ms/step - loss: 0.0864 - accuracy: 0.9692 - val_loss: 0.2853 - val_accuracy: 0.9110\n",
      "313/313 [==============================] - 5s 16ms/step - loss: 0.2634 - accuracy: 0.9111\n"
     ]
    }
   ],
   "source": [
    "vgg_base = VGG16(weights=\"imagenet\", include_top=False, input_shape=(vgg_image_size, vgg_image_size, 3))\n",
    "vgg_base.trainable = False\n",
    "\n",
    "model_vgg = Sequential([\n",
    "   *vgg_base.layers[:11],\n",
    "   Flatten(),\n",
    "   LayerNormalization(),\n",
    "   Dense(512, activation=\"relu\", activity_regularizer=\"L1L2\"),\n",
    "   Dense(10, activation=\"softmax\"),\n",
    "])\n",
    "\n",
    "model_vgg.compile(\n",
    "    optimizer=tf.keras.optimizers.Lion(),\n",
    "    loss=\"sparse_categorical_crossentropy\",\n",
    "    metrics=[\"accuracy\"]\n",
    ")\n",
    "\n",
    "early_stop = K.callbacks.EarlyStopping(monitor='val_loss', patience=3, restore_best_weights=True)\n",
    "model_vgg.fit(vgg_x_train, y_train, epochs=25, batch_size=256, validation_data=(vgg_x_val, y_val), callbacks=[early_stop])\n",
    "\n",
    "test_loss, test_acc = model_vgg.evaluate(vgg_test_images, test_labels)"
   ]
  },
  {
   "cell_type": "code",
   "execution_count": 67,
   "metadata": {
    "colab": {
     "base_uri": "https://localhost:8080/"
    },
    "id": "4DKEkiDID4EU",
    "outputId": "31b5e505-49dd-425a-b84e-d901c61b57c4"
   },
   "outputs": [
    {
     "name": "stdout",
     "output_type": "stream",
     "text": [
      "Epoch 1/15\n",
      "98/98 [==============================] - 32s 312ms/step - loss: 0.5029 - accuracy: 0.8280 - val_loss: 0.3982 - val_accuracy: 0.8755\n",
      "Epoch 2/15\n",
      "98/98 [==============================] - 29s 298ms/step - loss: 0.3549 - accuracy: 0.8754 - val_loss: 0.3120 - val_accuracy: 0.8927\n",
      "Epoch 3/15\n",
      "98/98 [==============================] - 29s 297ms/step - loss: 0.3112 - accuracy: 0.8887 - val_loss: 0.2743 - val_accuracy: 0.9025\n",
      "Epoch 4/15\n",
      "98/98 [==============================] - 29s 299ms/step - loss: 0.2789 - accuracy: 0.8998 - val_loss: 0.2503 - val_accuracy: 0.9089\n",
      "Epoch 5/15\n",
      "98/98 [==============================] - 29s 300ms/step - loss: 0.2546 - accuracy: 0.9089 - val_loss: 0.2418 - val_accuracy: 0.9131\n",
      "Epoch 6/15\n",
      "98/98 [==============================] - 29s 298ms/step - loss: 0.2322 - accuracy: 0.9169 - val_loss: 0.2255 - val_accuracy: 0.9171\n",
      "Epoch 7/15\n",
      "98/98 [==============================] - 29s 299ms/step - loss: 0.2112 - accuracy: 0.9248 - val_loss: 0.2196 - val_accuracy: 0.9178\n",
      "Epoch 8/15\n",
      "98/98 [==============================] - 29s 299ms/step - loss: 0.1910 - accuracy: 0.9309 - val_loss: 0.2123 - val_accuracy: 0.9218\n",
      "Epoch 9/15\n",
      "98/98 [==============================] - 29s 299ms/step - loss: 0.1777 - accuracy: 0.9363 - val_loss: 0.2085 - val_accuracy: 0.9224\n",
      "Epoch 10/15\n",
      "98/98 [==============================] - 29s 299ms/step - loss: 0.1632 - accuracy: 0.9421 - val_loss: 0.2046 - val_accuracy: 0.9243\n",
      "Epoch 11/15\n",
      "98/98 [==============================] - 29s 299ms/step - loss: 0.1513 - accuracy: 0.9456 - val_loss: 0.2022 - val_accuracy: 0.9278\n",
      "Epoch 12/15\n",
      "98/98 [==============================] - 29s 298ms/step - loss: 0.1402 - accuracy: 0.9495 - val_loss: 0.1993 - val_accuracy: 0.9287\n",
      "Epoch 13/15\n",
      "98/98 [==============================] - 29s 298ms/step - loss: 0.1297 - accuracy: 0.9534 - val_loss: 0.2010 - val_accuracy: 0.9272\n",
      "Epoch 14/15\n",
      "98/98 [==============================] - 29s 299ms/step - loss: 0.1188 - accuracy: 0.9574 - val_loss: 0.2023 - val_accuracy: 0.9283\n",
      "Epoch 15/15\n",
      "98/98 [==============================] - 29s 299ms/step - loss: 0.1110 - accuracy: 0.9595 - val_loss: 0.1983 - val_accuracy: 0.9303\n",
      "313/313 [==============================] - 5s 15ms/step - loss: 0.2260 - accuracy: 0.9212\n"
     ]
    }
   ],
   "source": [
    "vgg_base = VGG16(weights=\"imagenet\", include_top=False, input_shape=(vgg_image_size, vgg_image_size, 3))\n",
    "vgg_base.trainable = False\n",
    "\n",
    "model_vgg = Sequential([\n",
    "   *vgg_base.layers[:11],\n",
    "   Flatten(),\n",
    "   Dense(256, activation=\"relu\"),\n",
    "   Dropout(0.5),\n",
    "   BatchNormalization(),\n",
    "   Dense(10, activation=\"softmax\"),\n",
    "])\n",
    "\n",
    "model_vgg.compile(\n",
    "    optimizer=tf.keras.optimizers.Lion(),\n",
    "    loss=\"sparse_categorical_crossentropy\",\n",
    "    metrics=[\"accuracy\"]\n",
    ")\n",
    "\n",
    "early_stop = K.callbacks.EarlyStopping(monitor='val_loss', patience=3, restore_best_weights=True)\n",
    "model_vgg.fit(vgg_x_train, y_train, epochs=15, batch_size=512, validation_data=(vgg_x_val, y_val), callbacks=[early_stop])\n",
    "\n",
    "test_loss, test_acc = model_vgg.evaluate(vgg_test_images, test_labels)"
   ]
  },
  {
   "cell_type": "markdown",
   "metadata": {
    "id": "ZX94oEkiZPiD"
   },
   "source": [
    "## Точність підвищилась до 92%. Донавчимо третій блок, він останній з тих що ми використовуємо"
   ]
  },
  {
   "cell_type": "code",
   "execution_count": 10,
   "metadata": {
    "colab": {
     "base_uri": "https://localhost:8080/"
    },
    "id": "4rrWTWH3tRBW",
    "outputId": "7c874447-dee4-42d7-eedd-b5333cff1ed7"
   },
   "outputs": [
    {
     "name": "stdout",
     "output_type": "stream",
     "text": [
      "Epoch 1/25\n",
      "98/98 [==============================] - 59s 525ms/step - loss: 0.7653 - accuracy: 0.7407 - val_loss: 0.4139 - val_accuracy: 0.8592\n",
      "Epoch 2/25\n",
      "98/98 [==============================] - 33s 336ms/step - loss: 0.3964 - accuracy: 0.8635 - val_loss: 0.3109 - val_accuracy: 0.8911\n",
      "Epoch 3/25\n",
      "98/98 [==============================] - 33s 339ms/step - loss: 0.3206 - accuracy: 0.8884 - val_loss: 0.2800 - val_accuracy: 0.9065\n",
      "Epoch 4/25\n",
      "98/98 [==============================] - 33s 338ms/step - loss: 0.2696 - accuracy: 0.9066 - val_loss: 0.2609 - val_accuracy: 0.9106\n",
      "Epoch 5/25\n",
      "98/98 [==============================] - 33s 337ms/step - loss: 0.2357 - accuracy: 0.9189 - val_loss: 0.2285 - val_accuracy: 0.9215\n",
      "Epoch 6/25\n",
      "98/98 [==============================] - 33s 337ms/step - loss: 0.2052 - accuracy: 0.9300 - val_loss: 0.2270 - val_accuracy: 0.9248\n",
      "Epoch 7/25\n",
      "98/98 [==============================] - 33s 337ms/step - loss: 0.1788 - accuracy: 0.9402 - val_loss: 0.2145 - val_accuracy: 0.9291\n",
      "Epoch 8/25\n",
      "98/98 [==============================] - 33s 336ms/step - loss: 0.1538 - accuracy: 0.9489 - val_loss: 0.2134 - val_accuracy: 0.9299\n",
      "Epoch 9/25\n",
      "98/98 [==============================] - 33s 337ms/step - loss: 0.1320 - accuracy: 0.9579 - val_loss: 0.1983 - val_accuracy: 0.9290\n",
      "Epoch 10/25\n",
      "98/98 [==============================] - 33s 336ms/step - loss: 0.1101 - accuracy: 0.9653 - val_loss: 0.1991 - val_accuracy: 0.9323\n",
      "Epoch 11/25\n",
      "98/98 [==============================] - 33s 336ms/step - loss: 0.0917 - accuracy: 0.9727 - val_loss: 0.1904 - val_accuracy: 0.9339\n",
      "Epoch 12/25\n",
      "98/98 [==============================] - 33s 336ms/step - loss: 0.0778 - accuracy: 0.9789 - val_loss: 0.1882 - val_accuracy: 0.9344\n",
      "Epoch 13/25\n",
      "98/98 [==============================] - 33s 336ms/step - loss: 0.0627 - accuracy: 0.9851 - val_loss: 0.1844 - val_accuracy: 0.9351\n",
      "Epoch 14/25\n",
      "98/98 [==============================] - 33s 336ms/step - loss: 0.0514 - accuracy: 0.9884 - val_loss: 0.1883 - val_accuracy: 0.9346\n",
      "Epoch 15/25\n",
      "98/98 [==============================] - 33s 336ms/step - loss: 0.0418 - accuracy: 0.9917 - val_loss: 0.1885 - val_accuracy: 0.9360\n",
      "Epoch 16/25\n",
      "98/98 [==============================] - 33s 336ms/step - loss: 0.0341 - accuracy: 0.9945 - val_loss: 0.1881 - val_accuracy: 0.9360\n",
      "313/313 [==============================] - 6s 17ms/step - loss: 0.2082 - accuracy: 0.9298\n"
     ]
    }
   ],
   "source": [
    "vgg_base = VGG16(weights=\"imagenet\", include_top=False, input_shape=(vgg_image_size, vgg_image_size, 3))\n",
    "vgg_base.trainable = True\n",
    "\n",
    "set_trainable = False\n",
    "for layer in vgg_base.layers:\n",
    "    if layer.name == \"block3_conv1\":\n",
    "        set_trainable = True\n",
    "    if set_trainable:\n",
    "        layer.trainable = True\n",
    "    else:\n",
    "        layer.trainable = False\n",
    "\n",
    "model_vgg = Sequential([\n",
    "   *vgg_base.layers[:11],\n",
    "\n",
    "   Flatten(),\n",
    "   Dense(256, activation=\"relu\"),\n",
    "   Dropout(0.5),\n",
    "   BatchNormalization(),\n",
    "   Dense(10, activation=\"softmax\"),\n",
    "])\n",
    "\n",
    "model_vgg.compile(\n",
    "    optimizer=tf.keras.optimizers.Lion(learning_rate=0.00001),\n",
    "    loss=\"sparse_categorical_crossentropy\",\n",
    "    metrics=[\"accuracy\"]\n",
    ")\n",
    "\n",
    "early_stop = K.callbacks.EarlyStopping(monitor='val_loss', patience=3, restore_best_weights=True)\n",
    "model_vgg.fit(vgg_x_train, y_train, epochs=25, batch_size=512, validation_data=(vgg_x_val, y_val), callbacks=[early_stop])\n",
    "\n",
    "test_loss, test_acc = model_vgg.evaluate(vgg_test_images, test_labels)"
   ]
  },
  {
   "cell_type": "code",
   "execution_count": 12,
   "metadata": {
    "colab": {
     "base_uri": "https://localhost:8080/",
     "height": 944
    },
    "id": "HGFscBHZU2Mi",
    "outputId": "b6d3108f-a470-4e2d-a7b9-7f34cd2931b6"
   },
   "outputs": [
    {
     "data": {
      "image/png": "[encoded data removed]",
      "text/plain": [
       "<Figure size 640x480 with 1 Axes>"
      ]
     },
     "metadata": {},
     "output_type": "display_data"
    },
    {
     "data": {
      "text/plain": [
       "<matplotlib.legend.Legend at 0x7d48ec26a2f0>"
      ]
     },
     "execution_count": 12,
     "metadata": {},
     "output_type": "execute_result"
    },
    {
     "data": {
      "image/png": "[encoded data removed]",
      "text/plain": [
       "<Figure size 640x480 with 1 Axes>"
      ]
     },
     "metadata": {},
     "output_type": "display_data"
    }
   ],
   "source": [
    "history_dict = history.history\n",
    "loss_values = history_dict['loss']\n",
    "val_loss_values = history_dict['val_loss']\n",
    "\n",
    "epochs = range(1, len(history_dict['accuracy']) + 1)\n",
    "\n",
    "plt.plot(epochs, loss_values, 'bo', label='Training loss')\n",
    "plt.plot(epochs, val_loss_values, 'b', label='Validation loss')\n",
    "plt.title('Training and validation loss')\n",
    "plt.xlabel('Epochs')\n",
    "plt.ylabel('Loss')\n",
    "plt.legend()\n",
    "plt.show()\n",
    "\n",
    "plt.clf()\n",
    "val_acc_values = history_dict['val_accuracy']\n",
    "plt.plot(epochs, history_dict['accuracy'], 'bo', label='Training acc')\n",
    "plt.plot(epochs, history_dict['val_accuracy'], 'b', label='Validation acc')\n",
    "plt.title('Training and validation accuracy')\n",
    "plt.xlabel('Epochs')\n",
    "plt.ylabel('Loss')\n",
    "plt.legend()"
   ]
  },
  {
   "cell_type": "code",
   "execution_count": 16,
   "metadata": {
    "colab": {
     "base_uri": "https://localhost:8080/"
    },
    "id": "Y3b-i7G3VCZ-",
    "outputId": "00720551-81ce-4b40-8780-61d731f37625"
   },
   "outputs": [
    {
     "name": "stdout",
     "output_type": "stream",
     "text": [
      "313/313 [==============================] - 5s 15ms/step\n",
      "              precision    recall  f1-score   support\n",
      "\n",
      " T-shirt/top       0.88      0.87      0.88      1000\n",
      "     Trouser       1.00      0.98      0.99      1000\n",
      "    Pullover       0.88      0.90      0.89      1000\n",
      "       Dress       0.93      0.94      0.93      1000\n",
      "        Coat       0.87      0.90      0.88      1000\n",
      "      Sandal       0.99      0.99      0.99      1000\n",
      "       Shirt       0.80      0.77      0.78      1000\n",
      "     Sneaker       0.97      0.98      0.98      1000\n",
      "         Bag       0.98      0.99      0.99      1000\n",
      "  Ankle boot       0.98      0.97      0.98      1000\n",
      "\n",
      "    accuracy                           0.93     10000\n",
      "   macro avg       0.93      0.93      0.93     10000\n",
      "weighted avg       0.93      0.93      0.93     10000\n",
      "\n"
     ]
    }
   ],
   "source": [
    "class_labels=['T-shirt/top', 'Trouser', 'Pullover', 'Dress', 'Coat',\n",
    "        'Sandal', 'Shirt', 'Sneaker', 'Bag', 'Ankle boot']\n",
    "y_pred = tf.argmax(model_vgg.predict(vgg_test_images), axis=1)\n",
    "print(classification_report(test_labels, y_pred, target_names=class_labels))"
   ]
  },
  {
   "cell_type": "markdown",
   "metadata": {
    "id": "yWusfqPXsdS5"
   },
   "source": [
    "### Отримали точність у 93%. Спробуємо навчання з аугментацією даних"
   ]
  },
  {
   "cell_type": "code",
   "execution_count": 17,
   "metadata": {
    "id": "GxgOGputXmZX"
   },
   "outputs": [],
   "source": [
    "vgg_base = VGG16(weights=\"imagenet\", include_top=False, input_shape=(vgg_image_size, vgg_image_size, 3))\n",
    "vgg_base.trainable = True\n",
    "\n",
    "set_trainable = False\n",
    "for layer in vgg_base.layers:\n",
    "    if layer.name == \"block3_conv1\":\n",
    "        set_trainable = True\n",
    "    if set_trainable:\n",
    "        layer.trainable = True\n",
    "    else:\n",
    "        layer.trainable = False\n",
    "\n",
    "model_vgg = Sequential([\n",
    "   *vgg_base.layers[:11],\n",
    "\n",
    "   Flatten(),\n",
    "   Dense(256, activation=\"relu\"),\n",
    "   Dropout(0.5),\n",
    "   BatchNormalization(),\n",
    "   Dense(10, activation=\"softmax\"),\n",
    "])\n",
    "\n",
    "model_vgg.compile(\n",
    "    optimizer=tf.keras.optimizers.Lion(learning_rate=0.00001),\n",
    "    loss=\"sparse_categorical_crossentropy\",\n",
    "    metrics=[\"accuracy\"]\n",
    ")"
   ]
  },
  {
   "cell_type": "code",
   "execution_count": 18,
   "metadata": {
    "colab": {
     "base_uri": "https://localhost:8080/"
    },
    "id": "kK0dCfAQWTeS",
    "outputId": "d91a5598-8258-4aed-ae9b-b09208125cae"
   },
   "outputs": [
    {
     "name": "stdout",
     "output_type": "stream",
     "text": [
      "Epoch 1/50\n",
      "782/782 [==============================] - 117s 145ms/step - loss: 0.6831 - accuracy: 0.7634 - val_loss: 0.3638 - val_accuracy: 0.8712\n",
      "Epoch 2/50\n",
      "782/782 [==============================] - 114s 146ms/step - loss: 0.3992 - accuracy: 0.8607 - val_loss: 0.2943 - val_accuracy: 0.8928\n",
      "Epoch 3/50\n",
      "782/782 [==============================] - 115s 147ms/step - loss: 0.3507 - accuracy: 0.8780 - val_loss: 0.2643 - val_accuracy: 0.9065\n",
      "Epoch 4/50\n",
      "782/782 [==============================] - 114s 146ms/step - loss: 0.3109 - accuracy: 0.8903 - val_loss: 0.2462 - val_accuracy: 0.9080\n",
      "Epoch 5/50\n",
      "782/782 [==============================] - 114s 145ms/step - loss: 0.2898 - accuracy: 0.8967 - val_loss: 0.2373 - val_accuracy: 0.9124\n",
      "Epoch 6/50\n",
      "782/782 [==============================] - 114s 146ms/step - loss: 0.2772 - accuracy: 0.9011 - val_loss: 0.2275 - val_accuracy: 0.9178\n",
      "Epoch 7/50\n",
      "782/782 [==============================] - 113s 145ms/step - loss: 0.2591 - accuracy: 0.9083 - val_loss: 0.2268 - val_accuracy: 0.9181\n",
      "Epoch 8/50\n",
      "782/782 [==============================] - 114s 146ms/step - loss: 0.2467 - accuracy: 0.9114 - val_loss: 0.2094 - val_accuracy: 0.9219\n",
      "Epoch 9/50\n",
      "782/782 [==============================] - 114s 146ms/step - loss: 0.2366 - accuracy: 0.9168 - val_loss: 0.2150 - val_accuracy: 0.9221\n",
      "Epoch 10/50\n",
      "782/782 [==============================] - 114s 146ms/step - loss: 0.2268 - accuracy: 0.9195 - val_loss: 0.2162 - val_accuracy: 0.9188\n",
      "Epoch 11/50\n",
      "782/782 [==============================] - 114s 146ms/step - loss: 0.2164 - accuracy: 0.9237 - val_loss: 0.2073 - val_accuracy: 0.9244\n",
      "Epoch 12/50\n",
      "782/782 [==============================] - 114s 145ms/step - loss: 0.2092 - accuracy: 0.9245 - val_loss: 0.1953 - val_accuracy: 0.9299\n",
      "Epoch 13/50\n",
      "782/782 [==============================] - 115s 146ms/step - loss: 0.2018 - accuracy: 0.9289 - val_loss: 0.1994 - val_accuracy: 0.9277\n",
      "Epoch 14/50\n",
      "782/782 [==============================] - 114s 145ms/step - loss: 0.1965 - accuracy: 0.9300 - val_loss: 0.1995 - val_accuracy: 0.9274\n",
      "Epoch 15/50\n",
      "782/782 [==============================] - 114s 146ms/step - loss: 0.1901 - accuracy: 0.9318 - val_loss: 0.1924 - val_accuracy: 0.9302\n",
      "Epoch 16/50\n",
      "782/782 [==============================] - 114s 146ms/step - loss: 0.1834 - accuracy: 0.9339 - val_loss: 0.2089 - val_accuracy: 0.9275\n",
      "Epoch 17/50\n",
      "782/782 [==============================] - 115s 147ms/step - loss: 0.1792 - accuracy: 0.9358 - val_loss: 0.2005 - val_accuracy: 0.9306\n",
      "Epoch 18/50\n",
      "782/782 [==============================] - 114s 145ms/step - loss: 0.1732 - accuracy: 0.9381 - val_loss: 0.1965 - val_accuracy: 0.9304\n",
      "Epoch 19/50\n",
      "782/782 [==============================] - 114s 146ms/step - loss: 0.1699 - accuracy: 0.9387 - val_loss: 0.1918 - val_accuracy: 0.9316\n",
      "Epoch 20/50\n",
      "782/782 [==============================] - 114s 145ms/step - loss: 0.1652 - accuracy: 0.9411 - val_loss: 0.1999 - val_accuracy: 0.9305\n",
      "Epoch 21/50\n",
      "782/782 [==============================] - 114s 146ms/step - loss: 0.1598 - accuracy: 0.9434 - val_loss: 0.2026 - val_accuracy: 0.9301\n",
      "Epoch 22/50\n",
      "782/782 [==============================] - 113s 145ms/step - loss: 0.1556 - accuracy: 0.9436 - val_loss: 0.1900 - val_accuracy: 0.9347\n",
      "Epoch 23/50\n",
      "782/782 [==============================] - 114s 146ms/step - loss: 0.1505 - accuracy: 0.9471 - val_loss: 0.1936 - val_accuracy: 0.9345\n",
      "Epoch 24/50\n",
      "782/782 [==============================] - 113s 145ms/step - loss: 0.1471 - accuracy: 0.9464 - val_loss: 0.1935 - val_accuracy: 0.9326\n",
      "Epoch 25/50\n",
      "782/782 [==============================] - 113s 145ms/step - loss: 0.1441 - accuracy: 0.9479 - val_loss: 0.2003 - val_accuracy: 0.9330\n",
      "Epoch 26/50\n",
      "782/782 [==============================] - 113s 145ms/step - loss: 0.1434 - accuracy: 0.9486 - val_loss: 0.2026 - val_accuracy: 0.9306\n",
      "Epoch 27/50\n",
      "782/782 [==============================] - 114s 146ms/step - loss: 0.1379 - accuracy: 0.9505 - val_loss: 0.2054 - val_accuracy: 0.9328\n"
     ]
    }
   ],
   "source": [
    "early_stoping = tf.keras.callbacks.EarlyStopping(patience=5, restore_best_weights=True)\n",
    "datagen = K.preprocessing.image.ImageDataGenerator(\n",
    "                                                    horizontal_flip=True,\n",
    "                                                    width_shift_range=0.1,\n",
    "                                                    height_shift_range=0.1\n",
    "                                                    )\n",
    "\n",
    "\n",
    "train_gen = datagen.flow(vgg_x_train,y_train, batch_size=64)\n",
    "\n",
    "history = model_vgg.fit(train_gen,\n",
    "                        validation_data=(vgg_x_val,y_val),\n",
    "                        epochs=50,\n",
    "                        callbacks=[early_stoping])"
   ]
  },
  {
   "cell_type": "code",
   "execution_count": 19,
   "metadata": {
    "colab": {
     "base_uri": "https://localhost:8080/"
    },
    "id": "eqIVlUiLjxfa",
    "outputId": "db1d5a44-2c1d-43f8-b47a-b0948ba282af"
   },
   "outputs": [
    {
     "name": "stdout",
     "output_type": "stream",
     "text": [
      "313/313 [==============================] - 5s 16ms/step - loss: 0.2220 - accuracy: 0.9241\n"
     ]
    }
   ],
   "source": [
    "test_loss, test_acc = model_vgg.evaluate(vgg_test_images, test_labels)"
   ]
  },
  {
   "cell_type": "markdown",
   "metadata": {
    "id": "Cbiv50PssxQ_"
   },
   "source": [
    "### Результат навіть трохи гірший"
   ]
  },
  {
   "cell_type": "markdown",
   "metadata": {
    "id": "jZJ3kZQEYPeY"
   },
   "source": [
    "# Висновки\n",
    "## Частина 1\n",
    "### В порівнянні з повнозв'язною мережею, згорткова, на даному датасеті, показала кращі результати 94% в порівнянні з 90%. Це пов'язано з її так би мовити налаштованістю на розпізнавання образів, виділення форм кольорів і ті.\n",
    "### Статистика розпізнавання по класам має набагато кращий вигляд, CNN краще розпіснає схожі категорії товарів, майже не плутаючи їх.\n",
    "### Паддінг на даному датасеті виявився корисним, бо зображення не мають так би мовити \"рамки\".\n",
    "### Дуже корисним виявився Lion-оптимізатор, дає дуже плавне сходження до мінімума\n",
    "### При використанні шарів дропаут краще збільшувати розмір батча\n",
    "### Налаштування параметрів мережі дуже важливе, адже без цього важко відчути переваги CNN.\n",
    "\n",
    "## Частина 2\n",
    "### Використання глибокої CNN вимагає великих потужностей.\n",
    "### Результат при використанні VGG16 кращий ніж при використанні DNN але гірший за модель створену в частині 1 та навчену виключно на даних призначених для неї. Вважаю тут зіграли декілька факторів, можливість більш тонкого налаштування, та пристосованість саме до такого формату зображень. Скоріш за все VGG16 навачалася на зображеннях більш високої розподільної здатності, до того ж кольрових і це не дало в повній мірі розкрити всю силу даної моделі. Глибокі шари моделі просто розпорошують зображення на атоми. Це підтверджує той факт, що ми спостерігали зростання точності розпізнавання коли відкинули два нижні блоки.\n",
    "### Донавчання не дало очікуваного приросту якості\n",
    "### Аугментація даних як і очікувалося для даного типу зображень не дала результату\n",
    "\n",
    "\n",
    "\n",
    "\n"
   ]
  }
 ],
 "metadata": {
  "accelerator": "GPU",
  "colab": {
   "gpuType": "L4",
   "machine_shape": "hm",
   "provenance": []
  },
  "kernelspec": {
   "display_name": "Python 3 (ipykernel)",
   "language": "python",
   "name": "python3"
  },
  "language_info": {
   "codemirror_mode": {
    "name": "ipython",
    "version": 3
   },
   "file_extension": ".py",
   "mimetype": "text/x-python",
   "name": "python",
   "nbconvert_exporter": "python",
   "pygments_lexer": "ipython3",
   "version": "3.9.2"
  }
 },
 "nbformat": 4,
 "nbformat_minor": 4
}
