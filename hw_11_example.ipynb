{
  "nbformat": 4,
  "nbformat_minor": 0,
  "metadata": {
    "colab": {
      "provenance": []
    },
    "kernelspec": {
      "name": "python3",
      "display_name": "Python 3"
    },
    "language_info": {
      "name": "python"
    }
  },
  "cells": [
    {
      "cell_type": "code",
      "execution_count": null,
      "metadata": {
        "id": "y1OpaLr_i4H-",
        "colab": {
          "base_uri": "https://localhost:8080/"
        },
        "outputId": "aaa1bee7-5523-4304-d90b-5c9fedc01b3c"
      },
      "outputs": [
        {
          "output_type": "stream",
          "name": "stdout",
          "text": [
            "Downloading data from https://storage.googleapis.com/tensorflow/tf-keras-datasets/imdb.npz\n",
            "17464789/17464789 [==============================] - 0s 0us/step\n"
          ]
        }
      ],
      "source": [
        "import numpy as np\n",
        "from tensorflow.keras.datasets import imdb\n",
        "from tensorflow.keras.preprocessing.sequence import pad_sequences\n",
        "from tensorflow.keras.models import Sequential\n",
        "from tensorflow.keras.layers import Embedding, SimpleRNN, LSTM, Bidirectional, Dense\n",
        "\n",
        "num_words = 10000\n",
        "maxlen = 200\n",
        "\n",
        "(X_train, y_train), (X_test, y_test) = imdb.load_data(num_words=num_words)\n",
        "X_train = pad_sequences(X_train, maxlen=maxlen)\n",
        "X_test = pad_sequences(X_test, maxlen=maxlen)"
      ]
    },
    {
      "cell_type": "markdown",
      "source": [
        "# RNN\n"
      ],
      "metadata": {
        "id": "i1PkgzO3qZBt"
      }
    },
    {
      "cell_type": "code",
      "source": [
        "model_rnn = Sequential()\n",
        "model_rnn.add(Embedding(num_words, 32))\n",
        "model_rnn.add(SimpleRNN(64))\n",
        "model_rnn.add(Dense(1, activation='sigmoid'))\n",
        "\n",
        "model_rnn.compile(optimizer='adam', loss='binary_crossentropy', metrics=['accuracy'])\n",
        "\n",
        "model_rnn.summary()"
      ],
      "metadata": {
        "colab": {
          "base_uri": "https://localhost:8080/"
        },
        "id": "r-50-PzwqWub",
        "outputId": "315f76ab-e97a-4692-9b5f-229c45f1258f"
      },
      "execution_count": null,
      "outputs": [
        {
          "output_type": "stream",
          "name": "stdout",
          "text": [
            "Model: \"sequential\"\n",
            "_________________________________________________________________\n",
            " Layer (type)                Output Shape              Param #   \n",
            "=================================================================\n",
            " embedding (Embedding)       (None, None, 32)          320000    \n",
            "                                                                 \n",
            " simple_rnn (SimpleRNN)      (None, 64)                6208      \n",
            "                                                                 \n",
            " dense (Dense)               (None, 1)                 65        \n",
            "                                                                 \n",
            "=================================================================\n",
            "Total params: 326,273\n",
            "Trainable params: 326,273\n",
            "Non-trainable params: 0\n",
            "_________________________________________________________________\n"
          ]
        }
      ]
    },
    {
      "cell_type": "code",
      "source": [
        "model_rnn.fit(X_train, y_train, validation_data=(X_test, y_test), epochs=10, batch_size=128)\n",
        "\n",
        "loss, accuracy = model_rnn.evaluate(X_test, y_test, verbose=0)\n",
        "print('Test Accuracy: {:.2f}%'.format(accuracy * 100))"
      ],
      "metadata": {
        "colab": {
          "base_uri": "https://localhost:8080/"
        },
        "id": "mvAu8UoSq2Y6",
        "outputId": "83c9e801-62e8-4a39-d9f0-3544f9a37693"
      },
      "execution_count": null,
      "outputs": [
        {
          "output_type": "stream",
          "name": "stdout",
          "text": [
            "Epoch 1/10\n",
            "196/196 [==============================] - 31s 148ms/step - loss: 0.6542 - accuracy: 0.5986 - val_loss: 0.4651 - val_accuracy: 0.7905\n",
            "Epoch 2/10\n",
            "196/196 [==============================] - 24s 125ms/step - loss: 0.4431 - accuracy: 0.8042 - val_loss: 0.4023 - val_accuracy: 0.8294\n",
            "Epoch 3/10\n",
            "196/196 [==============================] - 24s 124ms/step - loss: 0.3399 - accuracy: 0.8556 - val_loss: 0.4183 - val_accuracy: 0.8148\n",
            "Epoch 4/10\n",
            "196/196 [==============================] - 25s 129ms/step - loss: 0.2982 - accuracy: 0.8798 - val_loss: 0.4049 - val_accuracy: 0.8368\n",
            "Epoch 5/10\n",
            "196/196 [==============================] - 24s 122ms/step - loss: 0.2440 - accuracy: 0.9065 - val_loss: 0.4225 - val_accuracy: 0.8212\n",
            "Epoch 6/10\n",
            "196/196 [==============================] - 25s 129ms/step - loss: 0.2140 - accuracy: 0.9193 - val_loss: 0.4264 - val_accuracy: 0.8293\n",
            "Epoch 7/10\n",
            "196/196 [==============================] - 28s 145ms/step - loss: 0.1582 - accuracy: 0.9446 - val_loss: 0.4507 - val_accuracy: 0.8419\n",
            "Epoch 8/10\n",
            "196/196 [==============================] - 28s 142ms/step - loss: 0.1240 - accuracy: 0.9582 - val_loss: 0.5318 - val_accuracy: 0.7908\n",
            "Epoch 9/10\n",
            "196/196 [==============================] - 24s 120ms/step - loss: 0.1450 - accuracy: 0.9446 - val_loss: 0.6754 - val_accuracy: 0.6519\n",
            "Epoch 10/10\n",
            "196/196 [==============================] - 28s 143ms/step - loss: 0.4343 - accuracy: 0.7862 - val_loss: 0.5385 - val_accuracy: 0.7706\n",
            "Test Accuracy: 77.06%\n"
          ]
        }
      ]
    },
    {
      "cell_type": "markdown",
      "source": [
        "**RNN**\n",
        "\n",
        "**5 епох**, виконання 2 хвилини, точність 83.04%\n",
        "\n",
        "**10 епох**, виконання 4 хвилини, точність 77.06%.\n",
        "Під час тренування спостерігався overfitting. Пік точності було досягнуто на 7 епосі - 84%"
      ],
      "metadata": {
        "id": "3BfnW-NbsiHz"
      }
    },
    {
      "cell_type": "markdown",
      "source": [
        "# LSTM"
      ],
      "metadata": {
        "id": "7Tar_XUAqgrc"
      }
    },
    {
      "cell_type": "code",
      "source": [
        "model_lstm = Sequential()\n",
        "model_lstm.add(Embedding(num_words, 32))\n",
        "model_lstm.add(LSTM(64))\n",
        "model_lstm.add(Dense(1, activation='sigmoid'))\n",
        "\n",
        "model_lstm.compile(optimizer='adam', loss='binary_crossentropy', metrics=['accuracy'])\n",
        "\n",
        "model_lstm.summary()"
      ],
      "metadata": {
        "id": "cQqtk4ZpqhlU",
        "colab": {
          "base_uri": "https://localhost:8080/"
        },
        "outputId": "1f7d1faf-f849-447e-dd1b-3ac026dd3654"
      },
      "execution_count": null,
      "outputs": [
        {
          "output_type": "stream",
          "name": "stdout",
          "text": [
            "Model: \"sequential_1\"\n",
            "_________________________________________________________________\n",
            " Layer (type)                Output Shape              Param #   \n",
            "=================================================================\n",
            " embedding_1 (Embedding)     (None, None, 32)          320000    \n",
            "                                                                 \n",
            " lstm (LSTM)                 (None, 64)                24832     \n",
            "                                                                 \n",
            " dense_1 (Dense)             (None, 1)                 65        \n",
            "                                                                 \n",
            "=================================================================\n",
            "Total params: 344,897\n",
            "Trainable params: 344,897\n",
            "Non-trainable params: 0\n",
            "_________________________________________________________________\n"
          ]
        }
      ]
    },
    {
      "cell_type": "code",
      "source": [
        "model_lstm.fit(X_train, y_train, validation_data=(X_test, y_test), epochs=10, batch_size=128)\n",
        "\n",
        "loss, accuracy = model_lstm.evaluate(X_test, y_test, verbose=0)\n",
        "print('Test Accuracy: {:.2f}%'.format(accuracy * 100))\n"
      ],
      "metadata": {
        "id": "a7QIKUtRrEX6",
        "colab": {
          "base_uri": "https://localhost:8080/"
        },
        "outputId": "a9366eb3-061f-467a-d319-8c786f146f09"
      },
      "execution_count": null,
      "outputs": [
        {
          "output_type": "stream",
          "name": "stdout",
          "text": [
            "Epoch 1/10\n",
            "196/196 [==============================] - 89s 439ms/step - loss: 0.4721 - accuracy: 0.7738 - val_loss: 0.3139 - val_accuracy: 0.8672\n",
            "Epoch 2/10\n",
            "196/196 [==============================] - 104s 533ms/step - loss: 0.2433 - accuracy: 0.9054 - val_loss: 0.3216 - val_accuracy: 0.8720\n",
            "Epoch 3/10\n",
            "196/196 [==============================] - 103s 526ms/step - loss: 0.1862 - accuracy: 0.9328 - val_loss: 0.3160 - val_accuracy: 0.8706\n",
            "Epoch 4/10\n",
            "196/196 [==============================] - 104s 529ms/step - loss: 0.1531 - accuracy: 0.9458 - val_loss: 0.4486 - val_accuracy: 0.8527\n",
            "Epoch 5/10\n",
            "196/196 [==============================] - 103s 525ms/step - loss: 0.1302 - accuracy: 0.9552 - val_loss: 0.3885 - val_accuracy: 0.8629\n",
            "Epoch 6/10\n",
            "196/196 [==============================] - 101s 513ms/step - loss: 0.0903 - accuracy: 0.9716 - val_loss: 0.6018 - val_accuracy: 0.8466\n",
            "Epoch 7/10\n",
            "196/196 [==============================] - 82s 418ms/step - loss: 0.0751 - accuracy: 0.9758 - val_loss: 0.4826 - val_accuracy: 0.8527\n",
            "Epoch 8/10\n",
            "196/196 [==============================] - 101s 518ms/step - loss: 0.0667 - accuracy: 0.9780 - val_loss: 0.7223 - val_accuracy: 0.8404\n",
            "Epoch 9/10\n",
            "196/196 [==============================] - 104s 531ms/step - loss: 0.0584 - accuracy: 0.9810 - val_loss: 0.6078 - val_accuracy: 0.8426\n",
            "Epoch 10/10\n",
            "196/196 [==============================] - 102s 524ms/step - loss: 0.0478 - accuracy: 0.9853 - val_loss: 0.5353 - val_accuracy: 0.8484\n",
            "Test Accuracy: 84.84%\n"
          ]
        }
      ]
    },
    {
      "cell_type": "markdown",
      "source": [
        "**LSTM**\n",
        "\n",
        "**5 епох**, 7 хвилин, точність 85.98%\n",
        "\n",
        "**10 епох**, 17 хвилин, точність 84.84%.\n",
        "Спостерігається незначний спад точності після початкового підвищення"
      ],
      "metadata": {
        "id": "X9GnVsmCuGZi"
      }
    },
    {
      "cell_type": "markdown",
      "source": [
        "# Двостороння мережа (Bidirectional)"
      ],
      "metadata": {
        "id": "u08IWCj9qkoL"
      }
    },
    {
      "cell_type": "code",
      "source": [
        "model_bidirectional = Sequential()\n",
        "model_bidirectional.add(Embedding(num_words, 32))\n",
        "model_bidirectional.add(Bidirectional(LSTM(64)))\n",
        "model_bidirectional.add(Dense(1, activation='sigmoid'))\n",
        "\n",
        "model_bidirectional.compile(optimizer='adam', loss='binary_crossentropy', metrics=['accuracy'])\n",
        "\n",
        "model_bidirectional.summary()"
      ],
      "metadata": {
        "id": "YGsmORH6qpNj",
        "colab": {
          "base_uri": "https://localhost:8080/"
        },
        "outputId": "d676ce95-6ba6-46ff-c487-e3dbbbaf3f4b"
      },
      "execution_count": null,
      "outputs": [
        {
          "output_type": "stream",
          "name": "stdout",
          "text": [
            "Model: \"sequential_2\"\n",
            "_________________________________________________________________\n",
            " Layer (type)                Output Shape              Param #   \n",
            "=================================================================\n",
            " embedding_2 (Embedding)     (None, None, 32)          320000    \n",
            "                                                                 \n",
            " bidirectional (Bidirectiona  (None, 128)              49664     \n",
            " l)                                                              \n",
            "                                                                 \n",
            " dense_2 (Dense)             (None, 1)                 129       \n",
            "                                                                 \n",
            "=================================================================\n",
            "Total params: 369,793\n",
            "Trainable params: 369,793\n",
            "Non-trainable params: 0\n",
            "_________________________________________________________________\n"
          ]
        }
      ]
    },
    {
      "cell_type": "code",
      "source": [
        "model_bidirectional.fit(X_train, y_train, validation_data=(X_test, y_test), epochs=10, batch_size=128)\n",
        "\n",
        "loss, accuracy = model_bidirectional.evaluate(X_test, y_test, verbose=0)\n",
        "print('Test Accuracy: {:.2f}%'.format(accuracy * 100))"
      ],
      "metadata": {
        "id": "OZ5KBOXqrIN_",
        "colab": {
          "base_uri": "https://localhost:8080/"
        },
        "outputId": "a1c1810a-232f-4965-c84c-439df1c6d75a"
      },
      "execution_count": null,
      "outputs": [
        {
          "output_type": "stream",
          "name": "stdout",
          "text": [
            "Epoch 1/10\n",
            "196/196 [==============================] - 149s 740ms/step - loss: 0.4703 - accuracy: 0.7699 - val_loss: 0.3274 - val_accuracy: 0.8655\n",
            "Epoch 2/10\n",
            "196/196 [==============================] - 145s 737ms/step - loss: 0.2471 - accuracy: 0.9058 - val_loss: 0.3040 - val_accuracy: 0.8704\n",
            "Epoch 3/10\n",
            "196/196 [==============================] - 146s 748ms/step - loss: 0.1847 - accuracy: 0.9316 - val_loss: 0.3222 - val_accuracy: 0.8692\n",
            "Epoch 4/10\n",
            "196/196 [==============================] - 137s 698ms/step - loss: 0.1518 - accuracy: 0.9475 - val_loss: 0.3467 - val_accuracy: 0.8602\n",
            "Epoch 5/10\n",
            "196/196 [==============================] - 147s 750ms/step - loss: 0.1267 - accuracy: 0.9555 - val_loss: 0.4532 - val_accuracy: 0.8486\n",
            "Epoch 6/10\n",
            "196/196 [==============================] - 145s 739ms/step - loss: 0.1015 - accuracy: 0.9654 - val_loss: 0.3887 - val_accuracy: 0.8576\n",
            "Epoch 7/10\n",
            "196/196 [==============================] - 145s 742ms/step - loss: 0.0846 - accuracy: 0.9718 - val_loss: 0.4458 - val_accuracy: 0.8505\n",
            "Epoch 8/10\n",
            "196/196 [==============================] - 144s 735ms/step - loss: 0.0724 - accuracy: 0.9762 - val_loss: 0.5216 - val_accuracy: 0.8490\n",
            "Epoch 9/10\n",
            "196/196 [==============================] - 143s 729ms/step - loss: 0.0762 - accuracy: 0.9732 - val_loss: 0.5929 - val_accuracy: 0.8521\n",
            "Epoch 10/10\n",
            "196/196 [==============================] - 144s 733ms/step - loss: 0.0623 - accuracy: 0.9793 - val_loss: 0.5841 - val_accuracy: 0.8494\n",
            "Test Accuracy: 84.94%\n"
          ]
        }
      ]
    },
    {
      "cell_type": "markdown",
      "source": [
        "**Bidirectional**\n",
        "\n",
        "**5 епох**, 12 хвилин, точність 85.76%\n",
        "\n",
        "**10 епох**, виконання 25 хвилин, точність 84.94%. Попри зниження точності після перших кількох епох, модель Bidirectional все ще показує достатньо високу точність"
      ],
      "metadata": {
        "id": "SfyoZ_-EwzMY"
      }
    },
    {
      "cell_type": "markdown",
      "source": [
        "# Глибока мережа (Deep)\n"
      ],
      "metadata": {
        "id": "g6G_CA_vqtAj"
      }
    },
    {
      "cell_type": "code",
      "source": [
        "model_deep = Sequential()\n",
        "model_deep.add(Embedding(num_words, 32))\n",
        "model_deep.add(LSTM(64, return_sequences=True))\n",
        "model_deep.add(LSTM(64))\n",
        "model_deep.add(Dense(1, activation='sigmoid'))\n",
        "\n",
        "model_deep.compile(optimizer='adam', loss='binary_crossentropy', metrics=['accuracy'])\n",
        "\n",
        "model_deep.summary()"
      ],
      "metadata": {
        "id": "s08wXirYqwrL",
        "colab": {
          "base_uri": "https://localhost:8080/"
        },
        "outputId": "b07fc52a-05b6-4c5b-ad17-5632d3405acd"
      },
      "execution_count": null,
      "outputs": [
        {
          "output_type": "stream",
          "name": "stdout",
          "text": [
            "Model: \"sequential_3\"\n",
            "_________________________________________________________________\n",
            " Layer (type)                Output Shape              Param #   \n",
            "=================================================================\n",
            " embedding_3 (Embedding)     (None, None, 32)          320000    \n",
            "                                                                 \n",
            " lstm_2 (LSTM)               (None, None, 64)          24832     \n",
            "                                                                 \n",
            " lstm_3 (LSTM)               (None, 64)                33024     \n",
            "                                                                 \n",
            " dense_3 (Dense)             (None, 1)                 65        \n",
            "                                                                 \n",
            "=================================================================\n",
            "Total params: 377,921\n",
            "Trainable params: 377,921\n",
            "Non-trainable params: 0\n",
            "_________________________________________________________________\n"
          ]
        }
      ]
    },
    {
      "cell_type": "code",
      "source": [
        "model_deep.fit(X_train, y_train, validation_data=(X_test, y_test), epochs=10, batch_size=128)\n",
        "\n",
        "loss, accuracy = model_deep.evaluate(X_test, y_test, verbose=0)\n",
        "print('Test Accuracy: {:.2f}%'.format(accuracy * 100))"
      ],
      "metadata": {
        "id": "dHGnVdimrLSR",
        "colab": {
          "base_uri": "https://localhost:8080/"
        },
        "outputId": "38074ea2-d324-43e9-c9e6-55571b93db94"
      },
      "execution_count": null,
      "outputs": [
        {
          "output_type": "stream",
          "name": "stdout",
          "text": [
            "Epoch 1/10\n",
            "196/196 [==============================] - 223s 1s/step - loss: 0.4560 - accuracy: 0.7718 - val_loss: 0.3188 - val_accuracy: 0.8656\n",
            "Epoch 2/10\n",
            "196/196 [==============================] - 214s 1s/step - loss: 0.2531 - accuracy: 0.9003 - val_loss: 0.3200 - val_accuracy: 0.8669\n",
            "Epoch 3/10\n",
            "196/196 [==============================] - 215s 1s/step - loss: 0.1890 - accuracy: 0.9301 - val_loss: 0.3745 - val_accuracy: 0.8650\n",
            "Epoch 4/10\n",
            "196/196 [==============================] - 212s 1s/step - loss: 0.1521 - accuracy: 0.9460 - val_loss: 0.4169 - val_accuracy: 0.8536\n",
            "Epoch 5/10\n",
            "196/196 [==============================] - 213s 1s/step - loss: 0.1202 - accuracy: 0.9598 - val_loss: 0.4419 - val_accuracy: 0.8449\n",
            "Epoch 6/10\n",
            "196/196 [==============================] - 216s 1s/step - loss: 0.1036 - accuracy: 0.9640 - val_loss: 0.4043 - val_accuracy: 0.8522\n",
            "Epoch 7/10\n",
            "196/196 [==============================] - 214s 1s/step - loss: 0.0703 - accuracy: 0.9780 - val_loss: 0.5481 - val_accuracy: 0.8524\n",
            "Epoch 8/10\n",
            "196/196 [==============================] - 213s 1s/step - loss: 0.0532 - accuracy: 0.9831 - val_loss: 0.5215 - val_accuracy: 0.8491\n",
            "Epoch 9/10\n",
            "196/196 [==============================] - 215s 1s/step - loss: 0.0448 - accuracy: 0.9863 - val_loss: 0.6578 - val_accuracy: 0.8470\n",
            "Epoch 10/10\n",
            "196/196 [==============================] - 212s 1s/step - loss: 0.0480 - accuracy: 0.9846 - val_loss: 0.5847 - val_accuracy: 0.8461\n",
            "Test Accuracy: 84.61%\n"
          ]
        }
      ]
    },
    {
      "cell_type": "markdown",
      "source": [
        "**Deep**\n",
        "\n",
        "**5 епох**, 19 хвилин, точність 85.55%\n",
        "\n",
        "**10 епох**, виконання 38 хвилин, точність 84.61%.\n",
        " Після певного зростання точності протягом перших епох, точність на валідаційному наборі стає стійкою та показує добрі результати"
      ],
      "metadata": {
        "id": "qMNn5cDt1XoO"
      }
    },
    {
      "cell_type": "markdown",
      "source": [
        "# Висновки"
      ],
      "metadata": {
        "id": "C2nhroj5X_ED"
      }
    },
    {
      "cell_type": "markdown",
      "source": [
        "**Після тренування моделей протягом 5 епох**\n",
        "\n",
        "\n",
        "**LSTM** та двостороння мережа **Bidirectional** показують кращі результати, оскільки вони можуть краще усвідомлювати довгострокові залежності в тексті. Однак, різниця у точності між цими моделями є несуттєвою."
      ],
      "metadata": {
        "id": "WcynnwB13arg"
      }
    },
    {
      "cell_type": "markdown",
      "source": [
        "**Загальні**\n",
        "\n",
        "**RNN**: При збільшенні кількості епох з 5 до 10 спостерігається overfitting моделі, що проявляється у зниженні точності на валідаційному наборі даних. При 7 епохах досягається пік точності, але загальна точність (77.06%) є нижчою в порівнянні з іншими моделями.\n",
        "\n",
        "**LSTM**: При 5 епохах модель досягає високої точності (85.98%), але при подовженні тренування до 10 епох точність незначно знижується (84.84%). Це може свідчити про наявність незначного overfitting після певної кількості епох.\n",
        "\n",
        "**Bidirectional**: Модель показує добрі результати при обох кількостях епох (85.76% при 5 епохах і 84.94% при 10 епохах). Хоча точність знижується після перших кількох епох, вона все ще залишається на високому рівні, що свідчить про ефективність моделі.\n",
        "\n",
        "**Deep**: Точність моделі Deep також залишається на високому рівні незалежно від кількості епох (85.55% при 5 епохах і 84.61% при 10 епохах). Після певного зростання точності протягом перших епох, модель стає стійкою і показує добрі результати.\n",
        "\n",
        "\n",
        "Загалом, можна зробити висновок, що моделі **LSTM**, **Bidirectional** і **Deep** показують добрі результати у класифікації рецензій, з високою точністю навіть після певного зниження в деяких випадках. Проте, **Bidirectional** і особливо **Deep** вимагають значно більше часу для навчання"
      ],
      "metadata": {
        "id": "goyQu_HJcbfb"
      }
    }
  ]
}