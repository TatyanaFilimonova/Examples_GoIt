{
 "cells": [
  {
   "cell_type": "code",
   "execution_count": 1,
   "id": "3a84959c",
   "metadata": {},
   "outputs": [],
   "source": [
    "import pandas as pd\n",
    "import numpy as np\n",
    "import os\n",
    "from sklearn.model_selection import train_test_split\n",
    "from sklearn.svm import SVC\n",
    "from  sklearn.ensemble import RandomForestClassifier"
   ]
  },
  {
   "cell_type": "code",
   "execution_count": 16,
   "id": "749f0d5b",
   "metadata": {},
   "outputs": [],
   "source": [
    "file_path = '/home/igor8282/Desktop/Projects/DS_5/homework/data'"
   ]
  },
  {
   "cell_type": "code",
   "execution_count": 18,
   "id": "66a01ebe",
   "metadata": {},
   "outputs": [],
   "source": [
    "def concat_to_df():\n",
    "    to_concate = []\n",
    "    for root, dirs, files in os.walk(file_path):\n",
    "        for file in files:\n",
    "            if file.startswith('idle'):\n",
    "                temp = pd.read_csv(file_path + '/idle/' + file)\n",
    "                temp['name'] = file.split('.')[0]\n",
    "                temp['activity'] = 'idle'\n",
    "                to_concate.append(temp)\n",
    "            elif file.startswith('running'):\n",
    "                temp = pd.read_csv(file_path + '/running/' + file)\n",
    "                temp['name'] = file.split('.')[0]\n",
    "                temp['activity'] = 'running'\n",
    "                to_concate.append(temp)\n",
    "            elif file.startswith('stairs'):\n",
    "                temp = pd.read_csv(file_path + '/stairs/' + file)\n",
    "                temp['name'] = file.split('.')[0]\n",
    "                temp['activity'] = 'stairs'\n",
    "                to_concate.append(temp)\n",
    "            else:\n",
    "                temp = pd.read_csv(file_path + '/walking/' + file)\n",
    "                temp['name'] = file.split('.')[0]\n",
    "                temp['activity'] = 'walking'\n",
    "                to_concate.append(temp)\n",
    "    return pd.concat(to_concate)"
   ]
  },
  {
   "cell_type": "code",
   "execution_count": 20,
   "id": "70e39636",
   "metadata": {},
   "outputs": [],
   "source": [
    "df = concat_to_df()"
   ]
  },
  {
   "cell_type": "code",
   "execution_count": 45,
   "id": "555d7b22",
   "metadata": {},
   "outputs": [
    {
     "data": {
      "text/html": [
       "<div>\n",
       "<style scoped>\n",
       "    .dataframe tbody tr th:only-of-type {\n",
       "        vertical-align: middle;\n",
       "    }\n",
       "\n",
       "    .dataframe tbody tr th {\n",
       "        vertical-align: top;\n",
       "    }\n",
       "\n",
       "    .dataframe thead th {\n",
       "        text-align: right;\n",
       "    }\n",
       "</style>\n",
       "<table border=\"1\" class=\"dataframe\">\n",
       "  <thead>\n",
       "    <tr style=\"text-align: right;\">\n",
       "      <th></th>\n",
       "      <th>accelerometer_X</th>\n",
       "      <th>accelerometer_Y</th>\n",
       "      <th>accelerometer_Z</th>\n",
       "      <th>name</th>\n",
       "      <th>activity</th>\n",
       "    </tr>\n",
       "  </thead>\n",
       "  <tbody>\n",
       "    <tr>\n",
       "      <th>0</th>\n",
       "      <td>-8.231265</td>\n",
       "      <td>4.299987</td>\n",
       "      <td>1.968034</td>\n",
       "      <td>running-117</td>\n",
       "      <td>running</td>\n",
       "    </tr>\n",
       "    <tr>\n",
       "      <th>1</th>\n",
       "      <td>18.784906</td>\n",
       "      <td>-11.453861</td>\n",
       "      <td>1.766921</td>\n",
       "      <td>running-117</td>\n",
       "      <td>running</td>\n",
       "    </tr>\n",
       "    <tr>\n",
       "      <th>2</th>\n",
       "      <td>15.787366</td>\n",
       "      <td>15.883134</td>\n",
       "      <td>-1.628057</td>\n",
       "      <td>running-117</td>\n",
       "      <td>running</td>\n",
       "    </tr>\n",
       "    <tr>\n",
       "      <th>3</th>\n",
       "      <td>-2.202665</td>\n",
       "      <td>9.428367</td>\n",
       "      <td>-2.020706</td>\n",
       "      <td>running-117</td>\n",
       "      <td>running</td>\n",
       "    </tr>\n",
       "    <tr>\n",
       "      <th>4</th>\n",
       "      <td>1.915361</td>\n",
       "      <td>-19.531897</td>\n",
       "      <td>-0.718260</td>\n",
       "      <td>running-117</td>\n",
       "      <td>running</td>\n",
       "    </tr>\n",
       "    <tr>\n",
       "      <th>...</th>\n",
       "      <td>...</td>\n",
       "      <td>...</td>\n",
       "      <td>...</td>\n",
       "      <td>...</td>\n",
       "      <td>...</td>\n",
       "    </tr>\n",
       "    <tr>\n",
       "      <th>25</th>\n",
       "      <td>-0.627281</td>\n",
       "      <td>-8.944737</td>\n",
       "      <td>-6.315904</td>\n",
       "      <td>stairs-131</td>\n",
       "      <td>stairs</td>\n",
       "    </tr>\n",
       "    <tr>\n",
       "      <th>26</th>\n",
       "      <td>-1.082179</td>\n",
       "      <td>-5.779603</td>\n",
       "      <td>-0.483629</td>\n",
       "      <td>stairs-131</td>\n",
       "      <td>stairs</td>\n",
       "    </tr>\n",
       "    <tr>\n",
       "      <th>27</th>\n",
       "      <td>1.460463</td>\n",
       "      <td>-11.267113</td>\n",
       "      <td>-1.340753</td>\n",
       "      <td>stairs-131</td>\n",
       "      <td>stairs</td>\n",
       "    </tr>\n",
       "    <tr>\n",
       "      <th>28</th>\n",
       "      <td>-3.835511</td>\n",
       "      <td>-12.253524</td>\n",
       "      <td>8.130709</td>\n",
       "      <td>stairs-131</td>\n",
       "      <td>stairs</td>\n",
       "    </tr>\n",
       "    <tr>\n",
       "      <th>29</th>\n",
       "      <td>1.776498</td>\n",
       "      <td>-7.091625</td>\n",
       "      <td>0.636858</td>\n",
       "      <td>stairs-131</td>\n",
       "      <td>stairs</td>\n",
       "    </tr>\n",
       "  </tbody>\n",
       "</table>\n",
       "<p>193860 rows × 5 columns</p>\n",
       "</div>"
      ],
      "text/plain": [
       "    accelerometer_X  accelerometer_Y  accelerometer_Z         name activity\n",
       "0         -8.231265         4.299987         1.968034  running-117  running\n",
       "1         18.784906       -11.453861         1.766921  running-117  running\n",
       "2         15.787366        15.883134        -1.628057  running-117  running\n",
       "3         -2.202665         9.428367        -2.020706  running-117  running\n",
       "4          1.915361       -19.531897        -0.718260  running-117  running\n",
       "..              ...              ...              ...          ...      ...\n",
       "25        -0.627281        -8.944737        -6.315904   stairs-131   stairs\n",
       "26        -1.082179        -5.779603        -0.483629   stairs-131   stairs\n",
       "27         1.460463       -11.267113        -1.340753   stairs-131   stairs\n",
       "28        -3.835511       -12.253524         8.130709   stairs-131   stairs\n",
       "29         1.776498        -7.091625         0.636858   stairs-131   stairs\n",
       "\n",
       "[193860 rows x 5 columns]"
      ]
     },
     "execution_count": 45,
     "metadata": {},
     "output_type": "execute_result"
    }
   ],
   "source": [
    "df"
   ]
  },
  {
   "cell_type": "code",
   "execution_count": 23,
   "id": "32f2586f",
   "metadata": {},
   "outputs": [],
   "source": [
    "x_train, x_test, y_train, y_test = train_test_split(df.iloc[:, :3], df['activity'], train_size=0.2, shuffle=True)"
   ]
  },
  {
   "cell_type": "markdown",
   "id": "df33f8ac",
   "metadata": {},
   "source": [
    "#### SVC Model (RBF Kernel)"
   ]
  },
  {
   "cell_type": "code",
   "execution_count": 24,
   "id": "59eb7112",
   "metadata": {},
   "outputs": [],
   "source": [
    "model_svc = SVC().fit(x_train, y_train)"
   ]
  },
  {
   "cell_type": "code",
   "execution_count": 28,
   "id": "bd03b23a",
   "metadata": {},
   "outputs": [
    {
     "data": {
      "text/plain": [
       "0.889578819766842"
      ]
     },
     "execution_count": 28,
     "metadata": {},
     "output_type": "execute_result"
    }
   ],
   "source": [
    "model_svc.score(x_test, y_test)ariation"
   ]
  },
  {
   "cell_type": "code",
   "execution_count": 29,
   "id": "5778d725",
   "metadata": {},
   "outputs": [
    {
     "data": {
      "text/plain": [
       "0.8915712369751367"
      ]
     },
     "execution_count": 29,
     "metadata": {},
     "output_type": "execute_result"
    }
   ],
   "source": [
    "model_svc.score(x_train, y_train)"
   ]
  },
  {
   "cell_type": "markdown",
   "id": "e68b2c8a",
   "metadata": {},
   "source": [
    "#### SVC Model Kernel Variation"
   ]
  },
  {
   "cell_type": "code",
   "execution_count": 37,
   "id": "b6210723",
   "metadata": {},
   "outputs": [],
   "source": [
    "model_svc_poly = SVC(kernel='poly').fit(x_train, y_train)"
   ]
  },
  {
   "cell_type": "code",
   "execution_count": 38,
   "id": "c88911af",
   "metadata": {},
   "outputs": [
    {
     "data": {
      "text/plain": [
       "0.7494325802125245"
      ]
     },
     "execution_count": 38,
     "metadata": {},
     "output_type": "execute_result"
    }
   ],
   "source": [
    "model_svc_poly.score(x_train, y_train)"
   ]
  },
  {
   "cell_type": "code",
   "execution_count": 40,
   "id": "748b75df",
   "metadata": {},
   "outputs": [],
   "source": [
    "model_svc_sigmoid = SVC(kernel='sigmoid').fit(x_train, y_train)"
   ]
  },
  {
   "cell_type": "code",
   "execution_count": 43,
   "id": "9786bbe7",
   "metadata": {},
   "outputs": [
    {
     "data": {
      "text/plain": [
       "0.610853193025895"
      ]
     },
     "execution_count": 43,
     "metadata": {},
     "output_type": "execute_result"
    }
   ],
   "source": [
    "model_svc_sigmoid.score(x_train, y_train)"
   ]
  },
  {
   "cell_type": "markdown",
   "id": "ab6c09ce",
   "metadata": {},
   "source": [
    "#### RandomForestClassifier Model"
   ]
  },
  {
   "cell_type": "code",
   "execution_count": 26,
   "id": "b39e2c30",
   "metadata": {},
   "outputs": [],
   "source": [
    "model_rfc = RandomForestClassifier().fit(x_train, y_train)"
   ]
  },
  {
   "cell_type": "code",
   "execution_count": 27,
   "id": "2d9ffc76",
   "metadata": {},
   "outputs": [
    {
     "data": {
      "text/plain": [
       "1.0"
      ]
     },
     "execution_count": 27,
     "metadata": {},
     "output_type": "execute_result"
    }
   ],
   "source": [
    "model_rfc.score(x_train, y_train)"
   ]
  },
  {
   "cell_type": "code",
   "execution_count": 30,
   "id": "3c7884cc",
   "metadata": {},
   "outputs": [
    {
     "data": {
      "text/plain": [
       "0.992791189518209"
      ]
     },
     "execution_count": 30,
     "metadata": {},
     "output_type": "execute_result"
    }
   ],
   "source": [
    "model_rfc.score(x_test, y_test)"
   ]
  }
 ],
 "metadata": {
  "kernelspec": {
   "display_name": "Python 3 (ipykernel)",
   "language": "python",
   "name": "python3"
  },
  "language_info": {
   "codemirror_mode": {
    "name": "ipython",
    "version": 3
   },
   "file_extension": ".py",
   "mimetype": "text/x-python",
   "name": "python",
   "nbconvert_exporter": "python",
   "pygments_lexer": "ipython3",
   "version": "3.11.0rc1"
  }
 },
 "nbformat": 4,
 "nbformat_minor": 5
}
