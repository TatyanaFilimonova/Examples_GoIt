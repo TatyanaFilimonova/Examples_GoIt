{
 "cells": [
  {
   "cell_type": "markdown",
   "id": "97b1c944",
   "metadata": {},
   "source": [
    " Функція гіпотези лінійної регресії у векторному вигляді:\n"
   ]
  },
  {
   "cell_type": "code",
   "execution_count": null,
   "id": "b18a8e3c",
   "metadata": {},
   "outputs": [],
   "source": [
    "def h(w, X):\n",
    "    y_pred = np.dot(X, w)\n",
    "    return y_pred"
   ]
  },
  {
   "cell_type": "markdown",
   "id": "583bbacb",
   "metadata": {},
   "source": [
    "Функція втрат"
   ]
  },
  {
   "cell_type": "code",
   "execution_count": null,
   "id": "7f227418",
   "metadata": {},
   "outputs": [],
   "source": [
    "def loss_function(y_true, y_pred):\n",
    "    m = y_true.shape[0]\n",
    "    loss = 1/(2*m) * np.sum(np.square(y_pred - y_true))\n",
    "    return loss"
   ]
  },
  {
   "cell_type": "markdown",
   "id": "484dbdf1",
   "metadata": {},
   "source": [
    "Градієнтний спуск:"
   ]
  },
  {
   "cell_type": "code",
   "execution_count": null,
   "id": "f502e1d2",
   "metadata": {},
   "outputs": [],
   "source": [
    "def gradient_descent_step(w, X, y, learning_rate):\n",
    "    m = y.shape[0]\n",
    "    y_pred = h(w, X)\n",
    "    dw = 1/m * np.dot(X.T, (y_pred - y))\n",
    "    w = w - learning_rate * dw\n",
    "    return w"
   ]
  },
  {
   "cell_type": "code",
   "execution_count": 26,
   "id": "3b40f671",
   "metadata": {
    "scrolled": false
   },
   "outputs": [
    {
     "data": {
      "text/plain": [
       "Index(['price', 'area', 'bedrooms', 'bathrooms', 'stories', 'mainroad',\n",
       "       'guestroom', 'basement', 'hotwaterheating', 'airconditioning',\n",
       "       'parking', 'prefarea', 'furnishingstatus'],\n",
       "      dtype='object')"
      ]
     },
     "execution_count": 26,
     "metadata": {},
     "output_type": "execute_result"
    }
   ],
   "source": [
    "import pandas as pd\n",
    "path = \"Housing.csv\"\n",
    "df = pd.read_csv(path)\n",
    "df.columns"
   ]
  },
  {
   "cell_type": "code",
   "execution_count": 45,
   "id": "838e1400",
   "metadata": {},
   "outputs": [
    {
     "name": "stdout",
     "output_type": "stream",
     "text": [
      "Коефіцієнти моделі: [3.78762754e+02 4.06820034e+05 1.38604950e+06]\n"
     ]
    }
   ],
   "source": [
    "from sklearn.linear_model import LinearRegression\n",
    "\n",
    "X = np.array(df[['area', 'bedrooms', 'bathrooms']])\n",
    "y = np.array(df['price'])\n",
    "\n",
    "reg = LinearRegression().fit(X,y)\n",
    "\n",
    "print('Коефіцієнти моделі:', reg.coef_)"
   ]
  },
  {
   "cell_type": "code",
   "execution_count": 56,
   "id": "b2041706",
   "metadata": {},
   "outputs": [
    {
     "name": "stdout",
     "output_type": "stream",
     "text": [
      "Коефіцієнти моделі: [3.72448352e+02 3.68974672e+05 1.37031315e+06]\n"
     ]
    }
   ],
   "source": [
    "X = np.array(df[['area', 'bedrooms', 'bathrooms']])\n",
    "y = np.array(df['price'])\n",
    "\n",
    "\n",
    "params = np.linalg.inv(X.T.dot(X)).dot(X.T).dot(y)\n",
    "\n",
    "\n",
    "print('Коефіцієнти моделі:', params)"
   ]
  },
  {
   "cell_type": "code",
   "execution_count": null,
   "id": "1409f290",
   "metadata": {},
   "outputs": [],
   "source": []
  }
 ],
 "metadata": {
  "kernelspec": {
   "display_name": "Python 3 (ipykernel)",
   "language": "python",
   "name": "python3"
  },
  "language_info": {
   "codemirror_mode": {
    "name": "ipython",
    "version": 3
   },
   "file_extension": ".py",
   "mimetype": "text/x-python",
   "name": "python",
   "nbconvert_exporter": "python",
   "pygments_lexer": "ipython3",
   "version": "3.10.9"
  }
 },
 "nbformat": 4,
 "nbformat_minor": 5
}
