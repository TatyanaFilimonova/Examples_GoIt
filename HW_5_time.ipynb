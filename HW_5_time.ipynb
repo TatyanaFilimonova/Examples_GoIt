{
 "cells": [
  {
   "cell_type": "code",
   "execution_count": 1,
   "id": "4cad80f1-f350-43c6-9d30-2b9ca389b5b8",
   "metadata": {},
   "outputs": [],
   "source": [
    "import os\n",
    "import pandas as pd\n",
    "import time\n",
    "\n",
    "from sklearn.svm import SVC\n",
    "from sklearn.ensemble import RandomForestClassifier\n",
    "from sklearn.metrics import accuracy_score\n",
    "from sklearn.model_selection import train_test_split\n",
    "from sklearn.metrics import classification_report\n",
    "from sklearn.ensemble import IsolationForest\n"
   ]
  },
  {
   "cell_type": "code",
   "execution_count": 2,
   "id": "9ddc68a6-1c52-41d8-b074-f9c43e0c7cb4",
   "metadata": {},
   "outputs": [],
   "source": [
    "main_path = \"data\"\n",
    "\n",
    "path_to_idle = pd.DataFrame()\n",
    "path_to_running = pd.DataFrame()\n",
    "path_to_stairs = pd.DataFrame()\n",
    "path_to_walking = pd.DataFrame()\n",
    "\n",
    "for i in os.listdir(main_path):\n",
    "    i_path = os.path.join(main_path, i)\n",
    "    if os.path.isdir(i_path):\n",
    "        for file in os.listdir(i_path):\n",
    "            end_path = os.path.join(i_path, file)        \n",
    "            \n",
    "            df = pd.read_csv(end_path)\n",
    "            df['activity_folder'] = i  \n",
    "            \n",
    "            if i == 'idle':\n",
    "                path_to_idle = pd.concat([path_to_idle, df], ignore_index=True)\n",
    "            elif i == 'running':\n",
    "                path_to_running = pd.concat([path_to_running, df], ignore_index=True)\n",
    "            elif i == 'stairs':\n",
    "                path_to_stairs = pd.concat([path_to_stairs, df], ignore_index=True)\n",
    "            elif i == 'walking':\n",
    "                path_to_walking = pd.concat([path_to_walking, df], ignore_index=True)\n",
    "\n",
    "data = pd.concat([path_to_idle, \n",
    "                  path_to_running, \n",
    "                  path_to_stairs, \n",
    "                  path_to_walking], ignore_index=True)\n",
    "    "
   ]
  },
  {
   "cell_type": "markdown",
   "id": "51501193-8e73-4fc0-a143-fe0b0bc40cd9",
   "metadata": {},
   "source": [
    "Запишемо остаточний результат в окремий файл csv, щоб з ним було зручно працювати"
   ]
  },
  {
   "cell_type": "code",
   "execution_count": 3,
   "id": "a2a84fba-db9c-44f1-b60b-54237ef7d122",
   "metadata": {},
   "outputs": [
    {
     "data": {
      "text/html": [
       "<div>\n",
       "<style scoped>\n",
       "    .dataframe tbody tr th:only-of-type {\n",
       "        vertical-align: middle;\n",
       "    }\n",
       "\n",
       "    .dataframe tbody tr th {\n",
       "        vertical-align: top;\n",
       "    }\n",
       "\n",
       "    .dataframe thead th {\n",
       "        text-align: right;\n",
       "    }\n",
       "</style>\n",
       "<table border=\"1\" class=\"dataframe\">\n",
       "  <thead>\n",
       "    <tr style=\"text-align: right;\">\n",
       "      <th></th>\n",
       "      <th>accelerometer_X</th>\n",
       "      <th>accelerometer_Y</th>\n",
       "      <th>accelerometer_Z</th>\n",
       "      <th>activity_folder</th>\n",
       "    </tr>\n",
       "  </thead>\n",
       "  <tbody>\n",
       "    <tr>\n",
       "      <th>0</th>\n",
       "      <td>1.000776</td>\n",
       "      <td>4.616021</td>\n",
       "      <td>8.576031</td>\n",
       "      <td>idle</td>\n",
       "    </tr>\n",
       "    <tr>\n",
       "      <th>1</th>\n",
       "      <td>0.718261</td>\n",
       "      <td>4.209007</td>\n",
       "      <td>8.446744</td>\n",
       "      <td>idle</td>\n",
       "    </tr>\n",
       "    <tr>\n",
       "      <th>2</th>\n",
       "      <td>-0.909797</td>\n",
       "      <td>-0.282516</td>\n",
       "      <td>9.203311</td>\n",
       "      <td>idle</td>\n",
       "    </tr>\n",
       "    <tr>\n",
       "      <th>3</th>\n",
       "      <td>5.099650</td>\n",
       "      <td>0.148441</td>\n",
       "      <td>8.418014</td>\n",
       "      <td>idle</td>\n",
       "    </tr>\n",
       "    <tr>\n",
       "      <th>4</th>\n",
       "      <td>1.762132</td>\n",
       "      <td>-0.162806</td>\n",
       "      <td>9.251195</td>\n",
       "      <td>idle</td>\n",
       "    </tr>\n",
       "    <tr>\n",
       "      <th>...</th>\n",
       "      <td>...</td>\n",
       "      <td>...</td>\n",
       "      <td>...</td>\n",
       "      <td>...</td>\n",
       "    </tr>\n",
       "    <tr>\n",
       "      <th>193855</th>\n",
       "      <td>5.109226</td>\n",
       "      <td>-15.452178</td>\n",
       "      <td>-1.470040</td>\n",
       "      <td>walking</td>\n",
       "    </tr>\n",
       "    <tr>\n",
       "      <th>193856</th>\n",
       "      <td>6.373365</td>\n",
       "      <td>-11.741165</td>\n",
       "      <td>-8.226476</td>\n",
       "      <td>walking</td>\n",
       "    </tr>\n",
       "    <tr>\n",
       "      <th>193857</th>\n",
       "      <td>3.289633</td>\n",
       "      <td>-9.993398</td>\n",
       "      <td>-0.383072</td>\n",
       "      <td>walking</td>\n",
       "    </tr>\n",
       "    <tr>\n",
       "      <th>193858</th>\n",
       "      <td>-2.978387</td>\n",
       "      <td>-3.050213</td>\n",
       "      <td>1.273715</td>\n",
       "      <td>walking</td>\n",
       "    </tr>\n",
       "    <tr>\n",
       "      <th>193859</th>\n",
       "      <td>-4.347870</td>\n",
       "      <td>-9.926360</td>\n",
       "      <td>-1.642422</td>\n",
       "      <td>walking</td>\n",
       "    </tr>\n",
       "  </tbody>\n",
       "</table>\n",
       "<p>193860 rows × 4 columns</p>\n",
       "</div>"
      ],
      "text/plain": [
       "        accelerometer_X  accelerometer_Y  accelerometer_Z activity_folder\n",
       "0              1.000776         4.616021         8.576031            idle\n",
       "1              0.718261         4.209007         8.446744            idle\n",
       "2             -0.909797        -0.282516         9.203311            idle\n",
       "3              5.099650         0.148441         8.418014            idle\n",
       "4              1.762132        -0.162806         9.251195            idle\n",
       "...                 ...              ...              ...             ...\n",
       "193855         5.109226       -15.452178        -1.470040         walking\n",
       "193856         6.373365       -11.741165        -8.226476         walking\n",
       "193857         3.289633        -9.993398        -0.383072         walking\n",
       "193858        -2.978387        -3.050213         1.273715         walking\n",
       "193859        -4.347870        -9.926360        -1.642422         walking\n",
       "\n",
       "[193860 rows x 4 columns]"
      ]
     },
     "execution_count": 3,
     "metadata": {},
     "output_type": "execute_result"
    }
   ],
   "source": [
    "path_to_csv = 'indicators.csv'\n",
    "data.to_csv(path_to_csv, index=False)\n",
    "\n",
    "result_data = pd.read_csv('indicators.csv')\n",
    "result_data"
   ]
  },
  {
   "cell_type": "code",
   "execution_count": 4,
   "id": "d895ed03-7899-4af4-9d46-4b659731d341",
   "metadata": {},
   "outputs": [
    {
     "data": {
      "text/html": [
       "<div>\n",
       "<style scoped>\n",
       "    .dataframe tbody tr th:only-of-type {\n",
       "        vertical-align: middle;\n",
       "    }\n",
       "\n",
       "    .dataframe tbody tr th {\n",
       "        vertical-align: top;\n",
       "    }\n",
       "\n",
       "    .dataframe thead th {\n",
       "        text-align: right;\n",
       "    }\n",
       "</style>\n",
       "<table border=\"1\" class=\"dataframe\">\n",
       "  <thead>\n",
       "    <tr style=\"text-align: right;\">\n",
       "      <th></th>\n",
       "      <th>accelerometer_X</th>\n",
       "      <th>accelerometer_Y</th>\n",
       "      <th>accelerometer_Z</th>\n",
       "    </tr>\n",
       "  </thead>\n",
       "  <tbody>\n",
       "    <tr>\n",
       "      <th>0</th>\n",
       "      <td>1.000776</td>\n",
       "      <td>4.616021</td>\n",
       "      <td>8.576031</td>\n",
       "    </tr>\n",
       "    <tr>\n",
       "      <th>1</th>\n",
       "      <td>0.718261</td>\n",
       "      <td>4.209007</td>\n",
       "      <td>8.446744</td>\n",
       "    </tr>\n",
       "    <tr>\n",
       "      <th>2</th>\n",
       "      <td>-0.909797</td>\n",
       "      <td>-0.282516</td>\n",
       "      <td>9.203311</td>\n",
       "    </tr>\n",
       "    <tr>\n",
       "      <th>3</th>\n",
       "      <td>5.099650</td>\n",
       "      <td>0.148441</td>\n",
       "      <td>8.418014</td>\n",
       "    </tr>\n",
       "    <tr>\n",
       "      <th>4</th>\n",
       "      <td>1.762132</td>\n",
       "      <td>-0.162806</td>\n",
       "      <td>9.251195</td>\n",
       "    </tr>\n",
       "  </tbody>\n",
       "</table>\n",
       "</div>"
      ],
      "text/plain": [
       "   accelerometer_X  accelerometer_Y  accelerometer_Z\n",
       "0         1.000776         4.616021         8.576031\n",
       "1         0.718261         4.209007         8.446744\n",
       "2        -0.909797        -0.282516         9.203311\n",
       "3         5.099650         0.148441         8.418014\n",
       "4         1.762132        -0.162806         9.251195"
      ]
     },
     "execution_count": 4,
     "metadata": {},
     "output_type": "execute_result"
    }
   ],
   "source": [
    "X = result_data.drop('activity_folder', axis=1)\n",
    "X.head()"
   ]
  },
  {
   "cell_type": "code",
   "execution_count": 5,
   "id": "9716090e-1052-4853-bc1d-e4c27819689c",
   "metadata": {},
   "outputs": [
    {
     "data": {
      "text/plain": [
       "0    idle\n",
       "1    idle\n",
       "2    idle\n",
       "3    idle\n",
       "4    idle\n",
       "Name: activity_folder, dtype: object"
      ]
     },
     "execution_count": 5,
     "metadata": {},
     "output_type": "execute_result"
    }
   ],
   "source": [
    "y = result_data['activity_folder']\n",
    "y.head()"
   ]
  },
  {
   "cell_type": "code",
   "execution_count": 6,
   "id": "bc3a7053-a39b-4240-93e3-b35ec8a3be9f",
   "metadata": {},
   "outputs": [],
   "source": [
    "X_train, X_test, y_train, y_test = train_test_split(X, y, test_size=0.25, random_state=42)"
   ]
  },
  {
   "cell_type": "markdown",
   "id": "1ba3ebea-19ac-4a49-84b4-65bf11f80055",
   "metadata": {},
   "source": [
    "Тепер визначимо середні значення наших данних"
   ]
  },
  {
   "cell_type": "code",
   "execution_count": 7,
   "id": "d718f5ee-65cd-46f1-af33-c7031acff894",
   "metadata": {},
   "outputs": [
    {
     "data": {
      "text/html": [
       "<div>\n",
       "<style scoped>\n",
       "    .dataframe tbody tr th:only-of-type {\n",
       "        vertical-align: middle;\n",
       "    }\n",
       "\n",
       "    .dataframe tbody tr th {\n",
       "        vertical-align: top;\n",
       "    }\n",
       "\n",
       "    .dataframe thead th {\n",
       "        text-align: right;\n",
       "    }\n",
       "</style>\n",
       "<table border=\"1\" class=\"dataframe\">\n",
       "  <thead>\n",
       "    <tr style=\"text-align: right;\">\n",
       "      <th></th>\n",
       "      <th>accelerometer_X</th>\n",
       "      <th>accelerometer_Y</th>\n",
       "      <th>accelerometer_Z</th>\n",
       "      <th>average over time</th>\n",
       "    </tr>\n",
       "  </thead>\n",
       "  <tbody>\n",
       "    <tr>\n",
       "      <th>57654</th>\n",
       "      <td>-2.212242</td>\n",
       "      <td>7.522582</td>\n",
       "      <td>-1.924938</td>\n",
       "      <td>1.128467</td>\n",
       "    </tr>\n",
       "    <tr>\n",
       "      <th>12457</th>\n",
       "      <td>0.296881</td>\n",
       "      <td>0.028730</td>\n",
       "      <td>9.792285</td>\n",
       "      <td>3.372632</td>\n",
       "    </tr>\n",
       "    <tr>\n",
       "      <th>177098</th>\n",
       "      <td>2.288857</td>\n",
       "      <td>-10.242394</td>\n",
       "      <td>-1.647211</td>\n",
       "      <td>-3.200249</td>\n",
       "    </tr>\n",
       "    <tr>\n",
       "      <th>191995</th>\n",
       "      <td>-3.490746</td>\n",
       "      <td>-9.471462</td>\n",
       "      <td>-1.197101</td>\n",
       "      <td>-4.719770</td>\n",
       "    </tr>\n",
       "    <tr>\n",
       "      <th>118812</th>\n",
       "      <td>-0.191536</td>\n",
       "      <td>5.980716</td>\n",
       "      <td>-0.967257</td>\n",
       "      <td>1.607308</td>\n",
       "    </tr>\n",
       "  </tbody>\n",
       "</table>\n",
       "</div>"
      ],
      "text/plain": [
       "        accelerometer_X  accelerometer_Y  accelerometer_Z  average over time\n",
       "57654         -2.212242         7.522582        -1.924938           1.128467\n",
       "12457          0.296881         0.028730         9.792285           3.372632\n",
       "177098         2.288857       -10.242394        -1.647211          -3.200249\n",
       "191995        -3.490746        -9.471462        -1.197101          -4.719770\n",
       "118812        -0.191536         5.980716        -0.967257           1.607308"
      ]
     },
     "execution_count": 7,
     "metadata": {},
     "output_type": "execute_result"
    }
   ],
   "source": [
    "X_train['average over time'] = X_train.mean(axis=1)\n",
    "X_train.head()"
   ]
  },
  {
   "cell_type": "code",
   "execution_count": 8,
   "id": "c2dae01b-e7e8-4084-928f-7ecae8fa02fb",
   "metadata": {},
   "outputs": [
    {
     "data": {
      "text/html": [
       "<div>\n",
       "<style scoped>\n",
       "    .dataframe tbody tr th:only-of-type {\n",
       "        vertical-align: middle;\n",
       "    }\n",
       "\n",
       "    .dataframe tbody tr th {\n",
       "        vertical-align: top;\n",
       "    }\n",
       "\n",
       "    .dataframe thead th {\n",
       "        text-align: right;\n",
       "    }\n",
       "</style>\n",
       "<table border=\"1\" class=\"dataframe\">\n",
       "  <thead>\n",
       "    <tr style=\"text-align: right;\">\n",
       "      <th></th>\n",
       "      <th>accelerometer_X</th>\n",
       "      <th>accelerometer_Y</th>\n",
       "      <th>accelerometer_Z</th>\n",
       "      <th>average over time</th>\n",
       "    </tr>\n",
       "  </thead>\n",
       "  <tbody>\n",
       "    <tr>\n",
       "      <th>171248</th>\n",
       "      <td>-1.991976</td>\n",
       "      <td>-9.342175</td>\n",
       "      <td>-2.743755</td>\n",
       "      <td>-4.692635</td>\n",
       "    </tr>\n",
       "    <tr>\n",
       "      <th>58417</th>\n",
       "      <td>-0.957681</td>\n",
       "      <td>11.698070</td>\n",
       "      <td>5.410896</td>\n",
       "      <td>5.383762</td>\n",
       "    </tr>\n",
       "    <tr>\n",
       "      <th>54186</th>\n",
       "      <td>1.958457</td>\n",
       "      <td>-4.271256</td>\n",
       "      <td>0.459687</td>\n",
       "      <td>-0.617704</td>\n",
       "    </tr>\n",
       "    <tr>\n",
       "      <th>131711</th>\n",
       "      <td>-8.485051</td>\n",
       "      <td>16.735470</td>\n",
       "      <td>-5.918466</td>\n",
       "      <td>0.777318</td>\n",
       "    </tr>\n",
       "    <tr>\n",
       "      <th>27960</th>\n",
       "      <td>-0.531513</td>\n",
       "      <td>6.009446</td>\n",
       "      <td>7.196971</td>\n",
       "      <td>4.224968</td>\n",
       "    </tr>\n",
       "  </tbody>\n",
       "</table>\n",
       "</div>"
      ],
      "text/plain": [
       "        accelerometer_X  accelerometer_Y  accelerometer_Z  average over time\n",
       "171248        -1.991976        -9.342175        -2.743755          -4.692635\n",
       "58417         -0.957681        11.698070         5.410896           5.383762\n",
       "54186          1.958457        -4.271256         0.459687          -0.617704\n",
       "131711        -8.485051        16.735470        -5.918466           0.777318\n",
       "27960         -0.531513         6.009446         7.196971           4.224968"
      ]
     },
     "execution_count": 8,
     "metadata": {},
     "output_type": "execute_result"
    }
   ],
   "source": [
    "X_test['average over time'] = X_test.mean(axis=1)\n",
    "X_test.head()"
   ]
  },
  {
   "cell_type": "markdown",
   "id": "86f097fa-9249-4f4f-aff4-9d6019f96a70",
   "metadata": {},
   "source": [
    "Створимо 2 моделі машинного навчання:"
   ]
  },
  {
   "cell_type": "code",
   "execution_count": 9,
   "id": "28b5ec9b-36c0-4760-aa8f-c5c3dfe5ae8f",
   "metadata": {},
   "outputs": [
    {
     "name": "stdout",
     "output_type": "stream",
     "text": [
      "Model training time: 0 minutes 21 seconds\n"
     ]
    }
   ],
   "source": [
    "# модель випадкогово лісу\n",
    "random_forest_model = RandomForestClassifier(class_weight='balanced')\n",
    "\n",
    "start_time = time.time()\n",
    "random_forest_model.fit(X_train, y_train)\n",
    "end_time = time.time()\n",
    "\n",
    "training_time_seconds = end_time - start_time\n",
    "training_time_minutes, training_time_seconds = divmod(training_time_seconds, 60)\n",
    "print(\"Model training time:\", int(training_time_minutes), \"minutes\", int(training_time_seconds), \"seconds\")"
   ]
  },
  {
   "cell_type": "code",
   "execution_count": 10,
   "id": "21f1878b-4aa1-421c-97d3-ef09489b89ff",
   "metadata": {},
   "outputs": [
    {
     "name": "stdout",
     "output_type": "stream",
     "text": [
      "Model training time: 7 minutes 44 seconds\n"
     ]
    }
   ],
   "source": [
    "# модель машинного навчання методом опорних векторів\n",
    "support_vector_method = SVC()\n",
    "\n",
    "start_time = time.time()\n",
    "support_vector_method.fit(X_train, y_train)\n",
    "end_time = time.time()\n",
    "\n",
    "training_time_seconds = end_time - start_time\n",
    "training_time_minutes, training_time_seconds = divmod(training_time_seconds, 60)\n",
    "print(\"Model training time:\", int(training_time_minutes), \"minutes\", int(training_time_seconds), \"seconds\")"
   ]
  },
  {
   "cell_type": "markdown",
   "id": "c005650a-c1fe-41e2-ac20-500c9f7ea6d0",
   "metadata": {},
   "source": [
    "Тепер зробимо прогноз на тестових данних "
   ]
  },
  {
   "cell_type": "code",
   "execution_count": 11,
   "id": "d925cbfc-b22e-45c6-9225-1f5fad43d46b",
   "metadata": {},
   "outputs": [
    {
     "name": "stdout",
     "output_type": "stream",
     "text": [
      "Model training time: 0 minutes 0 seconds\n"
     ]
    }
   ],
   "source": [
    "start_time = time.time()\n",
    "random_forest_model_prediction = random_forest_model.predict(X_test)\n",
    "end_time = time.time()\n",
    "\n",
    "prediction_time_seconds = end_time - start_time\n",
    "prediction_time_minutes, prediction_time_seconds = divmod(prediction_time_seconds, 60)\n",
    "print(\"Model training time:\", int(prediction_time_minutes), \"minutes\", int(prediction_time_seconds), \"seconds\")"
   ]
  },
  {
   "cell_type": "code",
   "execution_count": 12,
   "id": "a9bf5048-eb9d-4ff7-ae05-9ac7220d1523",
   "metadata": {},
   "outputs": [
    {
     "name": "stdout",
     "output_type": "stream",
     "text": [
      "Model training time: 5 minutes 22 seconds\n"
     ]
    }
   ],
   "source": [
    "start_time = time.time()\n",
    "support_vector_method_prediction = support_vector_method.predict(X_test)\n",
    "end_time = time.time()\n",
    "\n",
    "prediction_time_seconds = end_time - start_time\n",
    "prediction_time_minutes, prediction_time_seconds = divmod(prediction_time_seconds, 60)\n",
    "print(\"Model training time:\", int(prediction_time_minutes), \"minutes\", int(prediction_time_seconds), \"seconds\")"
   ]
  },
  {
   "cell_type": "markdown",
   "id": "eeee8280-6f24-45dc-ac84-408e21117970",
   "metadata": {},
   "source": [
    "Тепер розрахуємо точність і зробимо звіт класифікації. Ми будемо порівнювати прогнози моделі з фактичними мітками класів тестових данних."
   ]
  },
  {
   "cell_type": "code",
   "execution_count": 13,
   "id": "909a01d9-ffee-4009-ad2e-d4f015486080",
   "metadata": {},
   "outputs": [
    {
     "name": "stdout",
     "output_type": "stream",
     "text": [
      "accuracy for the vicinity forest model\n",
      "0.9995460641700196\n",
      "classification report for the vicinity forest model\n",
      "              precision    recall  f1-score   support\n",
      "\n",
      "        idle       1.00      1.00      1.00      7786\n",
      "     running       1.00      1.00      1.00     25542\n",
      "      stairs       1.00      0.99      1.00      1290\n",
      "     walking       1.00      1.00      1.00     13847\n",
      "\n",
      "    accuracy                           1.00     48465\n",
      "   macro avg       1.00      1.00      1.00     48465\n",
      "weighted avg       1.00      1.00      1.00     48465\n",
      "\n"
     ]
    }
   ],
   "source": [
    "random_forest_model_prediction_precision = accuracy_score(y_test, random_forest_model_prediction)\n",
    "print(\"accuracy for the vicinity forest model\")\n",
    "print(random_forest_model_prediction_precision)\n",
    "\n",
    "random_forest_model_prediction_summary = classification_report(y_test, random_forest_model_prediction)\n",
    "print(\"classification report for the vicinity forest model\")\n",
    "print(random_forest_model_prediction_summary)"
   ]
  },
  {
   "cell_type": "code",
   "execution_count": 14,
   "id": "14855c80-bca8-4442-84c2-e1b732409c20",
   "metadata": {},
   "outputs": [
    {
     "name": "stdout",
     "output_type": "stream",
     "text": [
      "accuracy for the SVM model\n",
      "0.8913442690601465\n",
      "classification report for the SVM model\n",
      "              precision    recall  f1-score   support\n",
      "\n",
      "        idle       0.95      0.99      0.97      7786\n",
      "     running       0.93      0.90      0.92     25542\n",
      "      stairs       1.00      0.00      0.01      1290\n",
      "     walking       0.80      0.90      0.85     13847\n",
      "\n",
      "    accuracy                           0.89     48465\n",
      "   macro avg       0.92      0.70      0.68     48465\n",
      "weighted avg       0.90      0.89      0.88     48465\n",
      "\n"
     ]
    }
   ],
   "source": [
    "support_vector_method_prediction_precision = accuracy_score(y_test, support_vector_method_prediction)\n",
    "print(\"accuracy for the SVM model\")\n",
    "print(support_vector_method_prediction_precision)\n",
    "\n",
    "support_vector_method_prediction_summary = classification_report(y_test, support_vector_method_prediction)\n",
    "print(\"classification report for the SVM model\")\n",
    "print(support_vector_method_prediction_summary)"
   ]
  },
  {
   "cell_type": "markdown",
   "id": "247216c3-9b0a-4121-8692-01e2626551d2",
   "metadata": {},
   "source": [
    "## Висновки:"
   ]
  },
  {
   "cell_type": "markdown",
   "id": "4071dd78-b99b-4ee7-90ce-b1a49a0cf5d6",
   "metadata": {},
   "source": [
    "1. Модель випадкового лісу має більшу точність, вона наближена до 100%, точність моделі опорних векторів менш точна, вона складає 89%. Тобто помилок буде більше в моделі опорних векторів.\n",
    "2. Якщо ми проаналізуємо звіти по 2-м методам, то:\n",
    "   - у моделі випадкового лісу значення precision та f1-score мають високий показник = 1. Це означає, що модель дуже гарно передбачає усі класи, не допускає помилок і практично не пропускає об'єкти ні одного класу (значення recall).\n",
    "   - у моделі опорних векторів гірші результати по звіту, параметр precision показує що точність не ідеальна, і передбачення будуть з помилками. Требі звернути увагу на клас stairs - recall = 0, отже ні один з прикладів stairs не був коректно класифікований моделлю.\n",
    "3. Пунктом хочу порівняти час для використання двох моделей - модель випадкового лісу значно швидша за модель опорних векторів. \n",
    "\n",
    "Модель випадкового лісу дає більш точні результати. "
   ]
  },
  {
   "cell_type": "code",
   "execution_count": null,
   "id": "5ab337d0-f8e8-4f6a-ac81-1263c512e19d",
   "metadata": {},
   "outputs": [],
   "source": []
  }
 ],
 "metadata": {
  "kernelspec": {
   "display_name": "Python 3 (ipykernel)",
   "language": "python",
   "name": "python3"
  },
  "language_info": {
   "codemirror_mode": {
    "name": "ipython",
    "version": 3
   },
   "file_extension": ".py",
   "mimetype": "text/x-python",
   "name": "python",
   "nbconvert_exporter": "python",
   "pygments_lexer": "ipython3",
   "version": "3.11.6"
  }
 },
 "nbformat": 4,
 "nbformat_minor": 5
}
